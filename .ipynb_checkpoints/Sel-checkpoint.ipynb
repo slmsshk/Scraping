{
 "cells": [
  {
   "cell_type": "code",
   "execution_count": 3,
   "id": "e714dea3",
   "metadata": {},
   "outputs": [],
   "source": [
    "import selenium\n",
    "import time as timelib\n",
    "from selenium import webdriver\n",
    "from selenium.webdriver.common.by import By\n",
    "from selenium.webdriver.common.keys import Keys"
   ]
  },
  {
   "cell_type": "code",
   "execution_count": 5,
   "id": "bcfcacd2",
   "metadata": {},
   "outputs": [],
   "source": [
    "# linked in login\n",
    "wd=webdriver.Chrome()\n",
    "wd.get('https://www.linkedin.com/login?fromSignIn=true&session_redirect=https%3A%2F%2Fwww.linkedin.com%2Fjobs&trk=guest_homepage-jobseeker_nav-header-signin')\n",
    "\n",
    "el=wd.find_element(By.NAME,'session_key')\n",
    "el.send_keys(\"slmsshk21@gmail.com\")\n",
    "el=wd.find_element(By.NAME,'session_password')\n",
    "el.send_keys('DDUJKY@21',Keys.ENTER)\n",
    "\n",
    "\n",
    "    "
   ]
  },
  {
   "cell_type": "code",
   "execution_count": 13,
   "id": "f4220665",
   "metadata": {},
   "outputs": [
    {
     "name": "stdout",
     "output_type": "stream",
     "text": [
      "Help on method find_element in module selenium.webdriver.remote.webdriver:\n",
      "\n",
      "find_element(by='id', value: Optional[str] = None) -> selenium.webdriver.remote.webelement.WebElement method of selenium.webdriver.chrome.webdriver.WebDriver instance\n",
      "    Find an element given a By strategy and locator.\n",
      "    \n",
      "    :Usage:\n",
      "        ::\n",
      "    \n",
      "            element = driver.find_element(By.ID, 'foo')\n",
      "    \n",
      "    :rtype: WebElement\n",
      "\n"
     ]
    }
   ],
   "source": [
    "help(wd.find_element)"
   ]
  },
  {
   "cell_type": "code",
   "execution_count": 17,
   "id": "dc7bc0f8",
   "metadata": {},
   "outputs": [
    {
     "ename": "ElementNotInteractableException",
     "evalue": "Message: element not interactable\n  (Session info: chrome=116.0.5845.180)\nStacktrace:\n\tGetHandleVerifier [0x00007FF7DCC952A2+57122]\n\t(No symbol) [0x00007FF7DCC0EA92]\n\t(No symbol) [0x00007FF7DCADE25D]\n\t(No symbol) [0x00007FF7DCB132B7]\n\t(No symbol) [0x00007FF7DCB1263B]\n\t(No symbol) [0x00007FF7DCB36FDA]\n\t(No symbol) [0x00007FF7DCB0EB76]\n\t(No symbol) [0x00007FF7DCB371F0]\n\t(No symbol) [0x00007FF7DCB4EB82]\n\t(No symbol) [0x00007FF7DCB36DB3]\n\t(No symbol) [0x00007FF7DCB0D2B1]\n\t(No symbol) [0x00007FF7DCB0E494]\n\tGetHandleVerifier [0x00007FF7DCF3EF82+2849794]\n\tGetHandleVerifier [0x00007FF7DCF91D24+3189156]\n\tGetHandleVerifier [0x00007FF7DCF8ACAF+3160367]\n\tGetHandleVerifier [0x00007FF7DCD26D06+653702]\n\t(No symbol) [0x00007FF7DCC1A208]\n\t(No symbol) [0x00007FF7DCC162C4]\n\t(No symbol) [0x00007FF7DCC163F6]\n\t(No symbol) [0x00007FF7DCC067A3]\n\tBaseThreadInitThunk [0x00007FFC8E787614+20]\n\tRtlUserThreadStart [0x00007FFC8E9626B1+33]\n",
     "output_type": "error",
     "traceback": [
      "\u001b[1;31m---------------------------------------------------------------------------\u001b[0m",
      "\u001b[1;31mElementNotInteractableException\u001b[0m           Traceback (most recent call last)",
      "Cell \u001b[1;32mIn[17], line 9\u001b[0m\n\u001b[0;32m      6\u001b[0m \u001b[38;5;66;03m# description = wd.find_element(By.TAG_NAME,'a')\u001b[39;00m\n\u001b[0;32m      8\u001b[0m \u001b[38;5;28;01mfor\u001b[39;00m i \u001b[38;5;129;01min\u001b[39;00m \u001b[38;5;28mrange\u001b[39m(\u001b[38;5;241m400\u001b[39m):\n\u001b[1;32m----> 9\u001b[0m     el\u001b[38;5;241m.\u001b[39msend_keys(Keys\u001b[38;5;241m.\u001b[39mPAGE_DOWN)\n\u001b[0;32m     10\u001b[0m     timelib\u001b[38;5;241m.\u001b[39msleep(\u001b[38;5;241m.5\u001b[39m)\n\u001b[0;32m     12\u001b[0m timelib\u001b[38;5;241m.\u001b[39msleep(\u001b[38;5;241m5\u001b[39m)\n",
      "File \u001b[1;32m~\\AppData\\Roaming\\Python\\Python311\\site-packages\\selenium\\webdriver\\remote\\webelement.py:230\u001b[0m, in \u001b[0;36mWebElement.send_keys\u001b[1;34m(self, *value)\u001b[0m\n\u001b[0;32m    227\u001b[0m             remote_files\u001b[38;5;241m.\u001b[39mappend(\u001b[38;5;28mself\u001b[39m\u001b[38;5;241m.\u001b[39m_upload(file))\n\u001b[0;32m    228\u001b[0m         value \u001b[38;5;241m=\u001b[39m \u001b[38;5;124m\"\u001b[39m\u001b[38;5;130;01m\\n\u001b[39;00m\u001b[38;5;124m\"\u001b[39m\u001b[38;5;241m.\u001b[39mjoin(remote_files)\n\u001b[1;32m--> 230\u001b[0m \u001b[38;5;28mself\u001b[39m\u001b[38;5;241m.\u001b[39m_execute(\n\u001b[0;32m    231\u001b[0m     Command\u001b[38;5;241m.\u001b[39mSEND_KEYS_TO_ELEMENT, {\u001b[38;5;124m\"\u001b[39m\u001b[38;5;124mtext\u001b[39m\u001b[38;5;124m\"\u001b[39m: \u001b[38;5;124m\"\u001b[39m\u001b[38;5;124m\"\u001b[39m\u001b[38;5;241m.\u001b[39mjoin(keys_to_typing(value)), \u001b[38;5;124m\"\u001b[39m\u001b[38;5;124mvalue\u001b[39m\u001b[38;5;124m\"\u001b[39m: keys_to_typing(value)}\n\u001b[0;32m    232\u001b[0m )\n",
      "File \u001b[1;32m~\\AppData\\Roaming\\Python\\Python311\\site-packages\\selenium\\webdriver\\remote\\webelement.py:394\u001b[0m, in \u001b[0;36mWebElement._execute\u001b[1;34m(self, command, params)\u001b[0m\n\u001b[0;32m    392\u001b[0m     params \u001b[38;5;241m=\u001b[39m {}\n\u001b[0;32m    393\u001b[0m params[\u001b[38;5;124m\"\u001b[39m\u001b[38;5;124mid\u001b[39m\u001b[38;5;124m\"\u001b[39m] \u001b[38;5;241m=\u001b[39m \u001b[38;5;28mself\u001b[39m\u001b[38;5;241m.\u001b[39m_id\n\u001b[1;32m--> 394\u001b[0m \u001b[38;5;28;01mreturn\u001b[39;00m \u001b[38;5;28mself\u001b[39m\u001b[38;5;241m.\u001b[39m_parent\u001b[38;5;241m.\u001b[39mexecute(command, params)\n",
      "File \u001b[1;32m~\\AppData\\Roaming\\Python\\Python311\\site-packages\\selenium\\webdriver\\remote\\webdriver.py:344\u001b[0m, in \u001b[0;36mWebDriver.execute\u001b[1;34m(self, driver_command, params)\u001b[0m\n\u001b[0;32m    342\u001b[0m response \u001b[38;5;241m=\u001b[39m \u001b[38;5;28mself\u001b[39m\u001b[38;5;241m.\u001b[39mcommand_executor\u001b[38;5;241m.\u001b[39mexecute(driver_command, params)\n\u001b[0;32m    343\u001b[0m \u001b[38;5;28;01mif\u001b[39;00m response:\n\u001b[1;32m--> 344\u001b[0m     \u001b[38;5;28mself\u001b[39m\u001b[38;5;241m.\u001b[39merror_handler\u001b[38;5;241m.\u001b[39mcheck_response(response)\n\u001b[0;32m    345\u001b[0m     response[\u001b[38;5;124m\"\u001b[39m\u001b[38;5;124mvalue\u001b[39m\u001b[38;5;124m\"\u001b[39m] \u001b[38;5;241m=\u001b[39m \u001b[38;5;28mself\u001b[39m\u001b[38;5;241m.\u001b[39m_unwrap_value(response\u001b[38;5;241m.\u001b[39mget(\u001b[38;5;124m\"\u001b[39m\u001b[38;5;124mvalue\u001b[39m\u001b[38;5;124m\"\u001b[39m, \u001b[38;5;28;01mNone\u001b[39;00m))\n\u001b[0;32m    346\u001b[0m     \u001b[38;5;28;01mreturn\u001b[39;00m response\n",
      "File \u001b[1;32m~\\AppData\\Roaming\\Python\\Python311\\site-packages\\selenium\\webdriver\\remote\\errorhandler.py:229\u001b[0m, in \u001b[0;36mErrorHandler.check_response\u001b[1;34m(self, response)\u001b[0m\n\u001b[0;32m    227\u001b[0m         alert_text \u001b[38;5;241m=\u001b[39m value[\u001b[38;5;124m\"\u001b[39m\u001b[38;5;124malert\u001b[39m\u001b[38;5;124m\"\u001b[39m]\u001b[38;5;241m.\u001b[39mget(\u001b[38;5;124m\"\u001b[39m\u001b[38;5;124mtext\u001b[39m\u001b[38;5;124m\"\u001b[39m)\n\u001b[0;32m    228\u001b[0m     \u001b[38;5;28;01mraise\u001b[39;00m exception_class(message, screen, stacktrace, alert_text)  \u001b[38;5;66;03m# type: ignore[call-arg]  # mypy is not smart enough here\u001b[39;00m\n\u001b[1;32m--> 229\u001b[0m \u001b[38;5;28;01mraise\u001b[39;00m exception_class(message, screen, stacktrace)\n",
      "\u001b[1;31mElementNotInteractableException\u001b[0m: Message: element not interactable\n  (Session info: chrome=116.0.5845.180)\nStacktrace:\n\tGetHandleVerifier [0x00007FF7DCC952A2+57122]\n\t(No symbol) [0x00007FF7DCC0EA92]\n\t(No symbol) [0x00007FF7DCADE25D]\n\t(No symbol) [0x00007FF7DCB132B7]\n\t(No symbol) [0x00007FF7DCB1263B]\n\t(No symbol) [0x00007FF7DCB36FDA]\n\t(No symbol) [0x00007FF7DCB0EB76]\n\t(No symbol) [0x00007FF7DCB371F0]\n\t(No symbol) [0x00007FF7DCB4EB82]\n\t(No symbol) [0x00007FF7DCB36DB3]\n\t(No symbol) [0x00007FF7DCB0D2B1]\n\t(No symbol) [0x00007FF7DCB0E494]\n\tGetHandleVerifier [0x00007FF7DCF3EF82+2849794]\n\tGetHandleVerifier [0x00007FF7DCF91D24+3189156]\n\tGetHandleVerifier [0x00007FF7DCF8ACAF+3160367]\n\tGetHandleVerifier [0x00007FF7DCD26D06+653702]\n\t(No symbol) [0x00007FF7DCC1A208]\n\t(No symbol) [0x00007FF7DCC162C4]\n\t(No symbol) [0x00007FF7DCC163F6]\n\t(No symbol) [0x00007FF7DCC067A3]\n\tBaseThreadInitThunk [0x00007FFC8E787614+20]\n\tRtlUserThreadStart [0x00007FFC8E9626B1+33]\n"
     ]
    }
   ],
   "source": [
    "wd=webdriver.Chrome()\n",
    "wd.get('https://www.linkedin.com/jobs/search/?currentJobId=3702297562&distance=25&geoId=102713980&keywords=artificial%20intelligence')\n",
    "\n",
    "\n",
    "el=wd.find_element(By.CLASS_NAME,'base-card__full-link absolute top-0 right-0 bottom-0 left-0 p-0 z-[2]')\n",
    "# description = wd.find_element()\n",
    "for i in range(40):\n",
    "    el.send_keys(Keys.PAGE_DOWN)\n",
    "    timelib.sleep(.5)\n",
    "\n",
    "timelib.sleep(5)\n",
    "source=wd.page_source\n",
    "\n",
    "wd.quit()"
   ]
  },
  {
   "cell_type": "code",
   "execution_count": 16,
   "id": "772ed946",
   "metadata": {
    "collapsed": true
   },
   "outputs": [
    {
     "data": {
      "text/plain": [
       "'<html lang=\"en\"><head>\\n        <meta name=\"pageKey\" content=\"d_jobs_guest_search\">\\n          <meta name=\"linkedin:pageTag\" content=\"urlType=jserp_custom;emptyResult=false\">\\n        <meta name=\"locale\" content=\"en_US\">\\n        <meta id=\"config\" data-app-version=\"2.0.1346\" data-call-tree-id=\"AAYEofE6BvRrTU+xIXu2Rw==\" data-multiproduct-name=\"jobs-guest-frontend\" data-service-name=\"jobs-guest-frontend\" data-browser-id=\"40dd3e39-8c6b-467f-82d5-16f5ac8a6700\" data-enable-page-view-heartbeat-tracking=\"\" data-page-instance=\"urn:li:page:d_jobs_guest_search;Vvfj0nAMSGKmhjkYC2zyVg==\" data-disable-jsbeacon-pagekey-suffix=\"false\" data-member-id=\"0\">\\n\\n        <link rel=\"canonical\" href=\"https://in.linkedin.com/jobs/artificial-intelligence-jobs\">\\n<!----><!---->\\n<!---->\\n<!---->\\n<!---->\\n<!---->\\n          <link rel=\"icon\" href=\"https://static.licdn.com/aero-v1/sc/h/al2o9zrvru7aqj8e1x2rzsrca\">\\n\\n        <script>\\n          function getDfd() {let yFn,nFn;const p=new Promise(function(y, n){yFn=y;nFn=n;});p.resolve=yFn;p.reject=nFn;return p;}\\n          window.lazyloader = getDfd();\\n          window.tracking = getDfd();\\n          window.impressionTracking = getDfd();\\n          window.ingraphTracking = getDfd();\\n          window.appDetection = getDfd();\\n          window.pemTracking = getDfd();\\n        </script>\\n\\n<!---->\\n        \\n        <title>11,000+ Artificial Intelligence jobs in India (562 new)</title>\\n        <meta name=\"description\" content=\"Today&amp;rsquo;s top 11,000+ Artificial Intelligence jobs in India. Leverage your professional network, and get hired. New Artificial Intelligence jobs added daily.\">\\n        <meta name=\"robots\" content=\"noarchive\">\\n        <meta name=\"viewport\" content=\"width=device-width, initial-scale=1\">\\n        <meta name=\"litmsProfileName\" content=\"jobs-guest-frontend\">\\n        <meta name=\"clientSideIngraphs\" content=\"1\" data-gauge-metric-endpoint=\"/jobs-guest/api/ingraphs/gauge\" data-counter-metric-endpoint=\"/jobs-guest/api/ingraphs/counter\">\\n        <meta charset=\"utf-8\">\\n\\n        <meta property=\"og:type\" content=\"website\">\\n        <meta property=\"og:title\" content=\"11,000+ Artificial Intelligence jobs in India (562 new)\">\\n        <meta property=\"og:url\" content=\"https://in.linkedin.com/jobs/artificial-intelligence-jobs\">\\n        <meta property=\"og:description\" content=\"Today&amp;rsquo;s top 11,000+ Artificial Intelligence jobs in India. Leverage your professional network, and get hired. New Artificial Intelligence jobs added daily.\">\\n\\n        <meta name=\"twitter:title\" content=\"11,000+ Artificial Intelligence jobs in India (562 new)\">\\n        <meta name=\"twitter:card\" content=\"summary_large_image\">\\n        <meta name=\"twitter:site\" content=\"@LinkedIn\">\\n        <meta name=\"twitter:description\" content=\"Today&amp;rsquo;s top 11,000+ Artificial Intelligence jobs in India. Leverage your professional network, and get hired. New Artificial Intelligence jobs added daily.\">\\n\\n          <meta property=\"lnkd:url\" content=\"https://www.linkedin.com/jobs/search/?currentJobId=3702297562&amp;distance=25&amp;geoId=102713980&amp;keywords=artificial%20intelligence\">\\n\\n        <link rel=\"stylesheet\" href=\"https://static.licdn.com/aero-v1/sc/h/7ur9hlxorm3dk74gi9c177ipi\">\\n      \\n<!---->      <script type=\"text/javascript\" src=\"https://platform.linkedin.com/litms/utag/jobs-guest-frontend/utag.js?cb=1693943400000\" async=\"\"></script></head>\\n      <body dir=\"ltr\">\\n<!----><!----><!---->\\n        \\n          \\n    \\n    \\n    \\n    \\n    <form class=\"google-auth\" action=\"https://www.linkedin.com/uas/login-submit\" method=\"post\">\\n      <input name=\"loginCsrfParam\" value=\"40dd3e39-8c6b-467f-82d5-16f5ac8a6700\" type=\"hidden\">\\n\\n        <input name=\"session_redirect\" value=\"https://www.linkedin.com/jobs/search/?currentJobId=3702297562&amp;distance=25&amp;geoId=102713980&amp;keywords=artificial%20intelligence\" type=\"hidden\">\\n\\n      <input name=\"trk\" value=\"public_jobs_google-one-tap-submit\" type=\"hidden\">\\n<!---->      \\n    <div class=\"loader loader--full-screen\">\\n      <div class=\"loader__container mb-2 overflow-hidden\">\\n        <icon class=\"loader__icon inline-block loader__icon--default text-color-progress-loading lazy-loaded\" data-svg-class-name=\"loader__icon-svg--large fill-currentColor h-[60px] min-h-[60px] w-[60px] min-w-[60px]\" aria-hidden=\"true\" aria-busy=\"false\"><svg xmlns=\"http://www.w3.org/2000/svg\" viewBox=\"0 0 60 60\" width=\"60\" height=\"60\" focusable=\"false\" class=\"loader__icon-svg--large fill-currentColor h-[60px] min-h-[60px] w-[60px] min-w-[60px] lazy-loaded\" aria-busy=\"false\">\\n  <g>\\n    <path opacity=\"1\" d=\"M30.1,16.1L30.1,16.1c-0.6,0-1-0.5-1-1V1c0-0.6,0.5-1,1-1l0,0c0.6,0,1,0.5,1,1v14.1C31.1,15.7,30.6,16.1,30.1,16.1z\"></path>\\n    <path opacity=\"0.85\" d=\"M23.1,18.1L23.1,18.1c-0.5,0.3-1.1,0.1-1.4-0.4L14.5,5.6c-0.3-0.5-0.2-1.1,0.4-1.4l0,0C15.4,3.9,16,4,16.3,4.6l7.2,12.1C23.8,17.2,23.6,17.8,23.1,18.1z\"></path>\\n    <path opacity=\"0.77\" d=\"M17.9,23.1L17.9,23.1c-0.3,0.5-0.9,0.7-1.4,0.4l-12.2-7c-0.5-0.3-0.7-0.9-0.4-1.4l0,0c0.3-0.5,0.9-0.7,1.4-0.4l12.2,7C18,22,18.2,22.7,17.9,23.1z\"></path>\\n    <path opacity=\"0.69\" d=\"M16.1,30.1L16.1,30.1c0,0.6-0.5,1-1,1L1,31.2c-0.6,0-1-0.5-1-1l0,0c0-0.6,0.5-1,1-1l14.1-0.1C15.7,29.1,16.1,29.5,16.1,30.1z\"></path>\\n    <path opacity=\"0.61\" d=\"M18,36.9L18,36.9c0.3,0.5,0.2,1.1-0.4,1.4L5.5,45.6c-0.5,0.3-1.1,0.2-1.4-0.4l0,0c-0.3-0.5-0.2-1.1,0.4-1.4l12.1-7.3C17.1,36.2,17.7,36.4,18,36.9z\"></path>\\n    <path opacity=\"0.53\" d=\"M23.3,42.1L23.3,42.1c0.5,0.3,0.6,0.9,0.4,1.4l-7.3,12.1c-0.3,0.5-0.9,0.6-1.4,0.4l0,0c-0.5-0.3-0.6-0.9-0.4-1.4l7.3-12.1C22.1,41.9,22.8,41.8,23.3,42.1z\"></path>\\n    <path opacity=\"0.45\" d=\"M30.1,43.9L30.1,43.9c0.6,0,1,0.5,1,1V59c0,0.6-0.5,1-1,1l0,0c-0.6,0-1-0.5-1-1V44.9C29,44.4,29.5,43.9,30.1,43.9z\"></path>\\n    <path opacity=\"0.37\" d=\"M37,41.9L37,41.9c0.5-0.3,1.1-0.2,1.4,0.4l7.2,12.1c0.3,0.5,0.2,1.1-0.4,1.4l0,0c-0.5,0.3-1.1,0.2-1.4-0.4l-7.2-12.1C36.4,42.8,36.6,42.2,37,41.9z\"></path>\\n    <path opacity=\"0.29\" d=\"M42.2,36.8L42.2,36.8c0.3-0.5,0.9-0.7,1.4-0.4l12.2,7c0.5,0.3,0.7,0.9,0.4,1.4l0,0c-0.3,0.5-0.9,0.7-1.4,0.4l-12.2-7C42.1,38,41.9,37.4,42.2,36.8z\"></path>\\n    <path opacity=\"0.21 \" d=\"M44,29.9L44,29.9c0-0.6,0.5-1,1-1h14.1c0.6,0,1,0.5,1,1l0,0c0,0.6-0.5,1-1,1L45,31C44.4,31,44,30.5,44,29.9z\"></path>\\n    <path opacity=\"0.13\" d=\"M42.1,23.1L42.1,23.1c-0.3-0.5-0.2-1.1,0.4-1.4l12.1-7.3c0.5-0.3,1.1-0.2,1.4,0.4l0,0c0.3,0.4,0.1,1.1-0.4,1.3l-12.1,7.3C43.1,23.7,42.4,23.6,42.1,23.1z\"></path>\\n    <path opacity=\"0.05\" d=\"M36.9,17.9L36.9,17.9c-0.5-0.3-0.6-0.9-0.4-1.4l7.3-12.1c0.3-0.5,0.9-0.6,1.4-0.4l0,0c0.5,0.3,0.6,0.9,0.4,1.4l-7.4,12.2C38,18.1,37.3,18.2,36.9,17.9z\"></path>\\n    <animateTransform attributeName=\"transform\" attributeType=\"XML\" type=\"rotate\" begin=\"0s\" dur=\"1s\" repeatCount=\"indefinite\" calcMode=\"discrete\" keyTimes=\"0;.0833;.166;.25;.3333;.4166;.5;.5833;.6666;.75;.8333;.9166;1\" values=\"0,30,30;30,30,30;60,30,30;90,30,30;120,30,30;150,30,30;180,30,30;210,30,30;240,30,30;270,30,30;300,30,30;330,30,30;360,30,30\"></animateTransform>\\n  </g>\\n</svg></icon>\\n      </div>\\n    </div>\\n  \\n    </form>\\n\\n    <script data-module-id=\"google-gsi-lib\" src=\"https://static.licdn.com/aero-v1/sc/h/8m736dfzskmdn6bwwqz67iiki\"></script>\\n    \\n    <code id=\"googleAuthLibraryPath\" style=\"display: none\"><!--\"https://static.licdn.com/aero-v1/sc/h/8m736dfzskmdn6bwwqz67iiki\"--></code>\\n    \\n    \\n  \\n          \\n    \\n    \\n    \\n\\n    \\n\\n    \\n      <code id=\"isClsFixActive\" style=\"display: none\"><!--true--></code>\\n    <div class=\"base-serp-page\">\\n        \\n    \\n\\n    <a href=\"#main-content\" class=\"skip-link btn-md btn-primary absolute z-11 -top-[100vh] focus:top-0\">\\n      Skip to main content\\n    </a>\\n  \\n      <header class=\"base-serp-page__header global-alert-offset\">\\n          \\n\\n    \\n    \\n    \\n    \\n\\n    <nav class=\"nav pt-1.5 pb-2 flex items-center justify-between relative flex-nowrap mamabear:flex-wrap mamabear:gap-y-1 babybear:flex-wrap babybear:py-1.5\\n        \" aria-label=\"Primary\">\\n\\n      <a href=\"/?trk=public_jobs_nav-header-logo\" class=\"nav__logo-link link-no-visited-state z-1 mr-auto babybear:z-0 babybear:mr-0 babybear:flex-1 hover:no-underline focus:no-underline active:no-underline\" data-tracking-control-name=\"public_jobs_nav-header-logo\" data-tracking-will-navigate=\"\">\\n          \\n                \\n          \\n    \\n    <span class=\"sr-only\">LinkedIn</span>\\n<!---->      <icon class=\"block text-color-brand w-[84px] h-[21px] papabear:w-[135px] papabear:h-[34px] lazy-loaded\" data-test-id=\"nav-logo\" aria-hidden=\"true\" aria-busy=\"false\"><svg xmlns=\"http://www.w3.org/2000/svg\" xmlns:xlink=\"http://www.w3.org/1999/xlink\" viewBox=\"0 0 84 21\" preserveAspectRatio=\"xMinYMin meet\" version=\"1.1\" focusable=\"false\" class=\"lazy-loaded\" aria-busy=\"false\">\\n  <g class=\"inbug\" stroke=\"none\" stroke-width=\"1\" fill=\"none\" fill-rule=\"evenodd\">\\n    <path d=\"M19.479,0 L1.583,0 C0.727,0 0,0.677 0,1.511 L0,19.488 C0,20.323 0.477,21 1.333,21 L19.229,21 C20.086,21 21,20.323 21,19.488 L21,1.511 C21,0.677 20.336,0 19.479,0\" class=\"bug-text-color\" transform=\"translate(63.000000, 0.000000)\"></path>\\n    <path d=\"M82.479,0 L64.583,0 C63.727,0 63,0.677 63,1.511 L63,19.488 C63,20.323 63.477,21 64.333,21 L82.229,21 C83.086,21 84,20.323 84,19.488 L84,1.511 C84,0.677 83.336,0 82.479,0 Z M71,8 L73.827,8 L73.827,9.441 L73.858,9.441 C74.289,8.664 75.562,7.875 77.136,7.875 C80.157,7.875 81,9.479 81,12.45 L81,18 L78,18 L78,12.997 C78,11.667 77.469,10.5 76.227,10.5 C74.719,10.5 74,11.521 74,13.197 L74,18 L71,18 L71,8 Z M66,18 L69,18 L69,8 L66,8 L66,18 Z M69.375,4.5 C69.375,5.536 68.536,6.375 67.5,6.375 C66.464,6.375 65.625,5.536 65.625,4.5 C65.625,3.464 66.464,2.625 67.5,2.625 C68.536,2.625 69.375,3.464 69.375,4.5 Z\" class=\"background\" fill=\"currentColor\"></path>\\n  </g>\\n  <g class=\"linkedin-text\">\\n    <path d=\"M60,18 L57.2,18 L57.2,16.809 L57.17,16.809 C56.547,17.531 55.465,18.125 53.631,18.125 C51.131,18.125 48.978,16.244 48.978,13.011 C48.978,9.931 51.1,7.875 53.725,7.875 C55.35,7.875 56.359,8.453 56.97,9.191 L57,9.191 L57,3 L60,3 L60,18 Z M54.479,10.125 C52.764,10.125 51.8,11.348 51.8,12.974 C51.8,14.601 52.764,15.875 54.479,15.875 C56.196,15.875 57.2,14.634 57.2,12.974 C57.2,11.268 56.196,10.125 54.479,10.125 L54.479,10.125 Z\" fill=\"currentColor\"></path>\\n    <path d=\"M47.6611,16.3889 C46.9531,17.3059 45.4951,18.1249 43.1411,18.1249 C40.0001,18.1249 38.0001,16.0459 38.0001,12.7779 C38.0001,9.8749 39.8121,7.8749 43.2291,7.8749 C46.1801,7.8749 48.0001,9.8129 48.0001,13.2219 C48.0001,13.5629 47.9451,13.8999 47.9451,13.8999 L40.8311,13.8999 L40.8481,14.2089 C41.0451,15.0709 41.6961,16.1249 43.1901,16.1249 C44.4941,16.1249 45.3881,15.4239 45.7921,14.8749 L47.6611,16.3889 Z M45.1131,11.9999 C45.1331,10.9449 44.3591,9.8749 43.1391,9.8749 C41.6871,9.8749 40.9121,11.0089 40.8311,11.9999 L45.1131,11.9999 Z\" fill=\"currentColor\"></path>\\n    <polygon fill=\"currentColor\" points=\"38 8 34.5 8 31 12 31 3 28 3 28 18 31 18 31 13 34.699 18 38.241 18 34 12.533\"></polygon>\\n    <path d=\"M16,8 L18.827,8 L18.827,9.441 L18.858,9.441 C19.289,8.664 20.562,7.875 22.136,7.875 C25.157,7.875 26,9.792 26,12.45 L26,18 L23,18 L23,12.997 C23,11.525 22.469,10.5 21.227,10.5 C19.719,10.5 19,11.694 19,13.197 L19,18 L16,18 L16,8 Z\" fill=\"currentColor\"></path>\\n    <path d=\"M11,18 L14,18 L14,8 L11,8 L11,18 Z M12.501,6.3 C13.495,6.3 14.3,5.494 14.3,4.5 C14.3,3.506 13.495,2.7 12.501,2.7 C11.508,2.7 10.7,3.506 10.7,4.5 C10.7,5.494 11.508,6.3 12.501,6.3 Z\" fill=\"currentColor\"></path>\\n    <polygon fill=\"currentColor\" points=\"3 3 0 3 0 18 9 18 9 15 3 15\"></polygon>\\n  </g>\\n</svg></icon>\\n  \\n      \\n            \\n      </a>\\n\\n        \\n\\n    \\n    \\n    \\n    \\n    \\n\\n    <section class=\"search-bar relative flex flex-grow h-[40px] bg-cool-gray-20 min-w-0 max-w-full mx-4 rounded-sm babybear:mx-0 babybear:mb-1.5 babybear:bg-color-transparent babybear:w-full babybear:flex babybear:flex-wrap\\n        \" data-current-search-type=\"JOBS\">\\n      <button class=\"search-bar__placeholder papabear:hidden mamabear:hidden text-input w-full mt-1.5 !pl-[14px] border-1 border-solid border-color-border-faint rounded-[2px] h-[40px] max-h-[40px] flex items-center overflow-hidden cursor-text\" data-tracking-control-name=\"public_jobs_search-switcher-opener\">\\n        <icon class=\"text-color-icon w-3 h-3 mr-1 lazy-loaded\" aria-hidden=\"true\" aria-busy=\"false\"><svg xmlns=\"http://www.w3.org/2000/svg\" xmlns:xlink=\"http://www.w3.org/1999/xlink\" viewBox=\"0 0 24 24\" width=\"24px\" height=\"24px\" version=\"1.1\" focusable=\"false\" class=\"lazy-loaded\" aria-busy=\"false\">\\n  <path d=\"M21,19.67l-5.44-5.44a7,7,0,1,0-1.33,1.33L19.67,21ZM10,15.13A5.13,5.13,0,1,1,15.13,10,5.13,5.13,0,0,1,10,15.13Z\" style=\"fill: currentColor;\"></path>\\n</svg></icon>\\n        <div class=\"search-bar__full-placeholder font-sans text-md text-color-text max-w-[calc(100%-40px)] text-left whitespace-nowrap overflow-hidden text-ellipsis\">\\n<!---->              Artificial Intelligence in India\\n<!----><!---->        </div>\\n        <span class=\"sr-only\">Expand search</span>\\n      </button>\\n      \\n    \\n\\n      \\n        \\n\\n    \\n    \\n    \\n    \\n    \\n    \\n    \\n\\n    <div class=\"switcher-tabs__trigger-and-tabs babybear:flex\">\\n        <button aria-expanded=\"false\" class=\"switcher-tabs__placeholder flex !h-full !py-0 !pl-2 !pr-1.5 border-r-1 border-solid border-r-color-border-faint babybear:hidden\\n            tab-md papabear:tab-vertical mamabear:tab-vertical papabear:justify-start mamabear:justify-start cursor-pointer\" data-tracking-control-name=\"public_jobs_switcher-tabs-placeholder\" aria-describedby=\"switcher-description\">\\n          <span class=\"switcher-tabs__placeholder-text m-auto\">\\n                        Jobs\\n                    </span>\\n          <icon class=\"switcher-tabs__caret-down-filled onload pointer-events-none block my-auto min-h-[24px] min-w-[24px] h-[24px] babybear:hidden lazy-loaded\" aria-hidden=\"true\" aria-busy=\"false\"><svg xmlns=\"http://www.w3.org/2000/svg\" xmlns:xlink=\"http://www.w3.org/1999/xlink\" viewBox=\"0 0 24 24\" width=\"24px\" height=\"24px\" class=\"artdeco-icon lazy-loaded\" focusable=\"false\" aria-busy=\"false\">\\n  <path d=\"M5,9h14l-6.2,6.7C12.6,15.9,12.3,16,12,16c-0.3,0-0.6-0.1-0.8-0.3L5,9z\" fill=\"currentColor\"></path>\\n</svg></icon>\\n        </button>\\n        <div id=\"switcher-description\" class=\"hidden\">This button displays the currently selected search type. When expanded it provides a list of search options that will switch the search inputs to match the current selection. </div>\\n<!---->        <div class=\"switcher-tabs hidden z-[1] w-auto min-w-[160px] mb-1.5 py-1 absolute top-[48px] left-0 border-solid border-1 border-color-border-faint papabear:container-raised mamabear:container-raised babybear:static babybear:w-[100vw] babybear:h-[48px] babybear:p-0 overflow-y-hidden overflow-x-auto md:overflow-x-hidden\">\\n          <ul class=\"switcher-tabs__list flex flex-1 items-stretch papabear:flex-col mamabear:flex-col\" role=\"tablist\">\\n                  <li class=\"switcher-tabs__tab h-[44px] babybear:basis-1/2\" role=\"presentation\">\\n                    <button aria-controls=\"jobs-search-panel\" aria-selected=\"true\" class=\"switcher-tabs__button w-full h-full\\n                        tab-md papabear:tab-vertical mamabear:tab-vertical papabear:justify-start mamabear:justify-start cursor-pointer\\n                        tab-selected\" data-switcher-type=\"JOBS\" data-tracking-control-name=\"public_jobs_switcher-tabs-jobs-search-switcher\" id=\"job-switcher-tab\" role=\"tab\">\\n                        Jobs\\n                    </button>\\n                  </li>\\n                  <li class=\"switcher-tabs__tab h-[44px] babybear:basis-1/2\" role=\"presentation\">\\n                    <button aria-controls=\"people-search-panel\" aria-selected=\"false\" class=\"switcher-tabs__button w-full h-full\\n                        tab-md papabear:tab-vertical mamabear:tab-vertical papabear:justify-start mamabear:justify-start cursor-pointer\\n                        \" data-switcher-type=\"PEOPLE\" data-tracking-control-name=\"public_jobs_switcher-tabs-people-search-switcher\" id=\"people-switcher-tab\" role=\"tab\">\\n                        People\\n                    </button>\\n                  </li>\\n                  <li class=\"switcher-tabs__tab h-[44px] babybear:basis-1/2\" role=\"presentation\">\\n                    <button aria-controls=\"learning-search-panel\" aria-selected=\"false\" class=\"switcher-tabs__button w-full h-full\\n                        tab-md papabear:tab-vertical mamabear:tab-vertical papabear:justify-start mamabear:justify-start cursor-pointer\\n                        \" data-switcher-type=\"LEARNING\" data-tracking-control-name=\"public_jobs_switcher-tabs-learning-search-switcher\" id=\"learning-switcher-tab\" role=\"tab\">\\n                        Learning\\n                    </button>\\n                  </li>\\n          </ul>\\n\\n            <button aria-label=\"Close\" class=\"switcher-tabs__cancel-btn papabear:hidden mamabear:hidden block w-6 h-6 m-auto text-color-text-low-emphasis\" data-tracking-control-name=\"public_jobs_switcher-tabs-cancel-search-switcher\" type=\"button\">\\n              <icon class=\"switcher-tabs__cancel-icon block w-3 h-3 m-auto onload lazy-loaded\" aria-hidden=\"true\" aria-busy=\"false\"><svg xmlns=\"http://www.w3.org/2000/svg\" viewBox=\"0 0 16 16\" width=\"16\" height=\"16\" focusable=\"false\" class=\"lazy-loaded\" aria-busy=\"false\">\\n  <g fill=\"none\" fill-rule=\"evenodd\">\\n    <path fill=\"currentColor\" d=\"M7.90356 9.19393l-3.3763 3.3763-1.29037-1.29037 3.3763-3.3763-3.3763-3.3763 1.29037-1.29037 3.3763 3.3763 3.3763-3.3763 1.29037 1.29037-3.3763 3.3763 3.3763 3.3763-1.29037 1.29037z\"></path>\\n    <path d=\"M0 0h16v16H0z\"></path>\\n  </g>\\n</svg></icon>\\n            </button>\\n        </div>\\n    </div>\\n  \\n\\n        \\n\\n    \\n    \\n    \\n    \\n\\n    \\n\\n    \\n\\n    <section class=\"base-search-bar w-full h-full\" data-searchbar-type=\"PEOPLE\" aria-labelledby=\"people-switcher-tab\" id=\"people-search-panel\" role=\"tabpanel\">\\n      <form class=\"base-search-bar__form w-full flex babybear:mx-mobile-container-padding babybear:flex-col\" role=\"search\" action=\"/pub/dir\" data-tracking-control-name=\"public_jobs_people-search-bar_base-search-bar-form\">\\n        \\n          \\n      \\n    \\n\\n    <section class=\"dismissable-input text-input !pr-3 bg-color-transparent flex items-center h-[40px] min-w-0 relative babybear:w-full babybear:mb-1 search-input\">\\n      <input aria-label=\"First Name\" autocomplete=\"on\" class=\"dismissable-input__input font-sans text-md text-color-text bg-color-transparent flex items-center flex-1 focus:outline-none placeholder:text-color-text-secondary\" data-tracking-control-name=\"public_jobs_people-search-bar_first-name_dismissable-input\" maxlength=\"500\" name=\"firstName\" placeholder=\"First Name\" type=\"search\">\\n      \\n        <button class=\"dismissable-input__button text-color-text h-[40px] min-w-[24px] w-[24px] -mr-2 opacity-0 transition-opacity duration-[0.1s] disabled:invisible focus:opacity-100\" data-tracking-control-name=\"public_jobs_people-search-bar_first-name_dismissable-input-clear\" type=\"button\" disabled=\"\">\\n          <label class=\"sr-only\">Dismiss</label>\\n          <icon class=\"dismissable-input__button-icon lazy-loaded\" aria-hidden=\"true\" aria-busy=\"false\"><svg xmlns=\"http://www.w3.org/2000/svg\" viewBox=\"0 0 16 16\" width=\"16\" height=\"16\" focusable=\"false\" class=\"lazy-loaded\" aria-busy=\"false\">\\n  <g fill=\"none\" fill-rule=\"evenodd\">\\n    <path fill=\"currentColor\" d=\"M7.90356 9.19393l-3.3763 3.3763-1.29037-1.29037 3.3763-3.3763-3.3763-3.3763 1.29037-1.29037 3.3763 3.3763 3.3763-3.3763 1.29037 1.29037-3.3763 3.3763 3.3763 3.3763-1.29037 1.29037z\"></path>\\n    <path d=\"M0 0h16v16H0z\"></path>\\n  </g>\\n</svg></icon>\\n        </button>\\n    </section>\\n  \\n  \\n          \\n      \\n    \\n\\n    <section class=\"dismissable-input text-input !pr-3 bg-color-transparent flex items-center h-[40px] min-w-0 relative babybear:w-full babybear:mb-1 search-input\">\\n      <input aria-label=\"Last Name\" autocomplete=\"on\" class=\"dismissable-input__input font-sans text-md text-color-text bg-color-transparent flex items-center flex-1 focus:outline-none placeholder:text-color-text-secondary\" data-tracking-control-name=\"public_jobs_people-search-bar_last-name_dismissable-input\" maxlength=\"500\" name=\"lastName\" placeholder=\"Last Name\" type=\"search\">\\n      \\n        <button class=\"dismissable-input__button text-color-text h-[40px] min-w-[24px] w-[24px] -mr-2 opacity-0 transition-opacity duration-[0.1s] disabled:invisible focus:opacity-100\" data-tracking-control-name=\"public_jobs_people-search-bar_last-name_dismissable-input-clear\" type=\"button\" disabled=\"\">\\n          <label class=\"sr-only\">Dismiss</label>\\n          <icon class=\"dismissable-input__button-icon lazy-loaded\" aria-hidden=\"true\" aria-busy=\"false\"><svg xmlns=\"http://www.w3.org/2000/svg\" viewBox=\"0 0 16 16\" width=\"16\" height=\"16\" focusable=\"false\" class=\"lazy-loaded\" aria-busy=\"false\">\\n  <g fill=\"none\" fill-rule=\"evenodd\">\\n    <path fill=\"currentColor\" d=\"M7.90356 9.19393l-3.3763 3.3763-1.29037-1.29037 3.3763-3.3763-3.3763-3.3763 1.29037-1.29037 3.3763 3.3763 3.3763-3.3763 1.29037 1.29037-3.3763 3.3763 3.3763 3.3763-1.29037 1.29037z\"></path>\\n    <path d=\"M0 0h16v16H0z\"></path>\\n  </g>\\n</svg></icon>\\n        </button>\\n    </section>\\n  \\n  \\n      \\n        <input name=\"trk\" value=\"public_jobs_people-search-bar_search-submit\" type=\"hidden\">\\n        <button class=\"base-search-bar__submit-btn block basis-[40px] flex-shrink-0 cursor-pointer babybear:invisible babybear:ml-[-9999px] babybear:w-[1px] babybear:h-[1px]\" aria-label=\"Search\" data-tracking-control-name=\"public_jobs_people-search-bar_base-search-bar-search-submit\" type=\"submit\">\\n          <icon class=\"base-search-bar__search-icon onload mx-auto lazy-loaded\" aria-hidden=\"true\" aria-busy=\"false\"><svg xmlns=\"http://www.w3.org/2000/svg\" xmlns:xlink=\"http://www.w3.org/1999/xlink\" viewBox=\"0 0 24 24\" width=\"24px\" height=\"24px\" version=\"1.1\" focusable=\"false\" class=\"lazy-loaded\" aria-busy=\"false\">\\n  <path d=\"M21,19.67l-5.44-5.44a7,7,0,1,0-1.33,1.33L19.67,21ZM10,15.13A5.13,5.13,0,1,1,15.13,10,5.13,5.13,0,0,1,10,15.13Z\" class=\"large-icon\" style=\"fill: currentColor; color: #7a8b98;\"></path>\\n</svg></icon>\\n        </button>\\n      </form>\\n    </section>\\n  \\n  \\n\\n        \\n\\n    \\n    \\n    \\n    \\n\\n    \\n\\n    \\n\\n    <section class=\"base-search-bar w-full h-full\" data-searchbar-type=\"JOBS\" aria-labelledby=\"job-switcher-tab\" id=\"jobs-search-panel\" role=\"tabpanel\">\\n      <form class=\"base-search-bar__form w-full flex babybear:mx-mobile-container-padding babybear:flex-col\" role=\"search\" action=\"/jobs/search\" data-tracking-control-name=\"public_jobs_jobs-search-bar_base-search-bar-form\">\\n        \\n        \\n\\n    \\n    \\n    \\n\\n    \\n    \\n    \\n\\n    \\n    \\n\\n    <section class=\"dismissable-input text-input !pr-3 bg-color-transparent flex items-center h-[40px] min-w-0 relative babybear:w-full babybear:mb-1 typeahead-input keywords-typeahead-input text-input\">\\n      <input aria-autocomplete=\"list\" aria-controls=\"job-search-bar-keywords-typeahead-list\" aria-haspopup=\"listbox\" aria-label=\"Search job titles or companies\" autocomplete=\"off\" class=\"dismissable-input__input font-sans text-md text-color-text bg-color-transparent flex items-center flex-1 focus:outline-none placeholder:text-color-text-secondary\" data-tracking-control-name=\"public_jobs_dismissable-input\" id=\"job-search-bar-keywords\" maxlength=\"500\" name=\"keywords\" placeholder=\"Search job titles or companies\" role=\"combobox\" value=\"Artificial Intelligence\" type=\"search\" aria-expanded=\"false\">\\n      \\n<!---->      <div class=\"typeahead-input__dropdown container-lined absolute top-[calc(100%+3px)] left-0 w-full rounded-b-md rounded-t-none z-[10] overflow-hidden max-w-none babybear:min-w-full babybear:bottom-0 babybear:overflow-y-auto\">\\n        <template class=\"typeahead-item-template\">\\n          <li class=\"typeahead-input__dropdown-item py-1.5 px-2 hover:cursor-pointer hover:bg-color-surface-new-hover hover:border-y-2 hover:border-solid hover:border-color-container-primary\" role=\"option\">\\n            <span class=\"typeahead-input__dropdown-text font-sans text-sm font-bold text-color-text\"></span>\\n          </li>\\n        </template>\\n\\n        <ul class=\"typeahead-input__dropdown-list w-full\" id=\"job-search-bar-keywords-typeahead-list\" role=\"listbox\"></ul>\\n      </div>\\n<!---->    \\n        <button class=\"dismissable-input__button text-color-text h-[40px] min-w-[24px] w-[24px] -mr-2 opacity-0 transition-opacity duration-[0.1s] disabled:invisible focus:opacity-100 dismissable-input__button--show\" data-tracking-control-name=\"public_jobs_dismissable-input-clear\" type=\"button\">\\n          <label class=\"sr-only\">Dismiss</label>\\n          <icon class=\"dismissable-input__button-icon lazy-loaded\" aria-hidden=\"true\" aria-busy=\"false\"><svg xmlns=\"http://www.w3.org/2000/svg\" viewBox=\"0 0 16 16\" width=\"16\" height=\"16\" focusable=\"false\" class=\"lazy-loaded\" aria-busy=\"false\">\\n  <g fill=\"none\" fill-rule=\"evenodd\">\\n    <path fill=\"currentColor\" d=\"M7.90356 9.19393l-3.3763 3.3763-1.29037-1.29037 3.3763-3.3763-3.3763-3.3763 1.29037-1.29037 3.3763 3.3763 3.3763-3.3763 1.29037 1.29037-3.3763 3.3763 3.3763 3.3763-1.29037 1.29037z\"></path>\\n    <path d=\"M0 0h16v16H0z\"></path>\\n  </g>\\n</svg></icon>\\n        </button>\\n    </section>\\n  \\n  \\n<!---->        \\n\\n    \\n    \\n    \\n\\n    \\n    \\n    \\n\\n    \\n    \\n\\n    <section class=\"dismissable-input text-input !pr-3 bg-color-transparent flex items-center h-[40px] min-w-0 relative babybear:w-full babybear:mb-1 typeahead-input location-typeahead-input\">\\n      <input aria-autocomplete=\"list\" aria-controls=\"job-search-bar-location-typeahead-list\" aria-haspopup=\"listbox\" aria-label=\"Location\" autocomplete=\"off\" class=\"dismissable-input__input font-sans text-md text-color-text bg-color-transparent flex items-center flex-1 focus:outline-none placeholder:text-color-text-secondary\" data-tracking-control-name=\"public_jobs_dismissable-input\" id=\"job-search-bar-location\" maxlength=\"500\" name=\"location\" placeholder=\"Location\" role=\"combobox\" value=\"India\" type=\"search\" aria-expanded=\"false\">\\n      \\n<!---->      <div class=\"typeahead-input__dropdown container-lined absolute top-[calc(100%+3px)] left-0 w-full rounded-b-md rounded-t-none z-[10] overflow-hidden max-w-none babybear:min-w-full babybear:bottom-0 babybear:overflow-y-auto\">\\n        <template class=\"typeahead-item-template\">\\n          <li class=\"typeahead-input__dropdown-item py-1.5 px-2 hover:cursor-pointer hover:bg-color-surface-new-hover hover:border-y-2 hover:border-solid hover:border-color-container-primary\" role=\"option\">\\n            <span class=\"typeahead-input__dropdown-text font-sans text-sm font-bold text-color-text\"></span>\\n          </li>\\n        </template>\\n\\n        <ul class=\"typeahead-input__dropdown-list w-full\" id=\"job-search-bar-location-typeahead-list\" role=\"listbox\"></ul>\\n      </div>\\n<!---->    \\n        <button class=\"dismissable-input__button text-color-text h-[40px] min-w-[24px] w-[24px] -mr-2 opacity-0 transition-opacity duration-[0.1s] disabled:invisible focus:opacity-100 dismissable-input__button--show\" data-tracking-control-name=\"public_jobs_dismissable-input-clear\" type=\"button\">\\n          <label class=\"sr-only\">Dismiss</label>\\n          <icon class=\"dismissable-input__button-icon lazy-loaded\" aria-hidden=\"true\" aria-busy=\"false\"><svg xmlns=\"http://www.w3.org/2000/svg\" viewBox=\"0 0 16 16\" width=\"16\" height=\"16\" focusable=\"false\" class=\"lazy-loaded\" aria-busy=\"false\">\\n  <g fill=\"none\" fill-rule=\"evenodd\">\\n    <path fill=\"currentColor\" d=\"M7.90356 9.19393l-3.3763 3.3763-1.29037-1.29037 3.3763-3.3763-3.3763-3.3763 1.29037-1.29037 3.3763 3.3763 3.3763-3.3763 1.29037 1.29037-3.3763 3.3763 3.3763 3.3763-1.29037 1.29037z\"></path>\\n    <path d=\"M0 0h16v16H0z\"></path>\\n  </g>\\n</svg></icon>\\n        </button>\\n    </section>\\n  \\n  \\n        <input name=\"geoId\" value=\"102713980\" type=\"hidden\">\\n      \\n        <input name=\"trk\" value=\"public_jobs_jobs-search-bar_search-submit\" type=\"hidden\">\\n        <button class=\"base-search-bar__submit-btn block basis-[40px] flex-shrink-0 cursor-pointer babybear:invisible babybear:ml-[-9999px] babybear:w-[1px] babybear:h-[1px]\" aria-label=\"Search\" data-tracking-control-name=\"public_jobs_jobs-search-bar_base-search-bar-search-submit\" type=\"submit\">\\n          <icon class=\"base-search-bar__search-icon onload mx-auto lazy-loaded\" aria-hidden=\"true\" aria-busy=\"false\"><svg xmlns=\"http://www.w3.org/2000/svg\" xmlns:xlink=\"http://www.w3.org/1999/xlink\" viewBox=\"0 0 24 24\" width=\"24px\" height=\"24px\" version=\"1.1\" focusable=\"false\" class=\"lazy-loaded\" aria-busy=\"false\">\\n  <path d=\"M21,19.67l-5.44-5.44a7,7,0,1,0-1.33,1.33L19.67,21ZM10,15.13A5.13,5.13,0,1,1,15.13,10,5.13,5.13,0,0,1,10,15.13Z\" class=\"large-icon\" style=\"fill: currentColor; color: #7a8b98;\"></path>\\n</svg></icon>\\n        </button>\\n      </form>\\n    </section>\\n  \\n  \\n\\n        \\n    \\n    \\n\\n    \\n\\n    \\n\\n    <section class=\"base-search-bar w-full h-full\" data-searchbar-type=\"LEARNING\" aria-labelledby=\"learning-switcher-tab\" id=\"learning-search-panel\" role=\"tabpanel\">\\n      <form class=\"base-search-bar__form w-full flex babybear:mx-mobile-container-padding babybear:flex-col\" role=\"search\" action=\"/learning/search\" data-tracking-control-name=\"public_jobs_learning-search-bar_base-search-bar-form\">\\n        \\n        \\n      \\n    \\n\\n    <section class=\"dismissable-input text-input !pr-3 bg-color-transparent flex items-center h-[40px] min-w-0 relative babybear:w-full babybear:mb-1 search-input\">\\n      <input aria-label=\"Search skills, subjects, or software\" autocomplete=\"on\" class=\"dismissable-input__input font-sans text-md text-color-text bg-color-transparent flex items-center flex-1 focus:outline-none placeholder:text-color-text-secondary\" data-tracking-control-name=\"public_jobs_learning-search-bar_keywords_dismissable-input\" maxlength=\"500\" name=\"keywords\" placeholder=\"Search skills, subjects, or software\" value=\"Artificial Intelligence\" type=\"search\">\\n      \\n        <button class=\"dismissable-input__button text-color-text h-[40px] min-w-[24px] w-[24px] -mr-2 opacity-0 transition-opacity duration-[0.1s] disabled:invisible focus:opacity-100 dismissable-input__button--show\" data-tracking-control-name=\"public_jobs_learning-search-bar_keywords_dismissable-input-clear\" type=\"button\">\\n          <label class=\"sr-only\">Dismiss</label>\\n          <icon class=\"dismissable-input__button-icon lazy-loaded\" aria-hidden=\"true\" aria-busy=\"false\"><svg xmlns=\"http://www.w3.org/2000/svg\" viewBox=\"0 0 16 16\" width=\"16\" height=\"16\" focusable=\"false\" class=\"lazy-loaded\" aria-busy=\"false\">\\n  <g fill=\"none\" fill-rule=\"evenodd\">\\n    <path fill=\"currentColor\" d=\"M7.90356 9.19393l-3.3763 3.3763-1.29037-1.29037 3.3763-3.3763-3.3763-3.3763 1.29037-1.29037 3.3763 3.3763 3.3763-3.3763 1.29037 1.29037-3.3763 3.3763 3.3763 3.3763-1.29037 1.29037z\"></path>\\n    <path d=\"M0 0h16v16H0z\"></path>\\n  </g>\\n</svg></icon>\\n        </button>\\n    </section>\\n  \\n  \\n        <input class=\"nav__search-uoo\" name=\"upsellOrderOrigin\" type=\"hidden\">\\n        \\n      \\n        <input name=\"trk\" value=\"public_jobs_learning-search-bar_search-submit\" type=\"hidden\">\\n        <button class=\"base-search-bar__submit-btn block basis-[40px] flex-shrink-0 cursor-pointer babybear:invisible babybear:ml-[-9999px] babybear:w-[1px] babybear:h-[1px]\" aria-label=\"Search\" data-tracking-control-name=\"public_jobs_learning-search-bar_base-search-bar-search-submit\" type=\"submit\">\\n          <icon class=\"base-search-bar__search-icon onload mx-auto lazy-loaded\" aria-hidden=\"true\" aria-busy=\"false\"><svg xmlns=\"http://www.w3.org/2000/svg\" xmlns:xlink=\"http://www.w3.org/1999/xlink\" viewBox=\"0 0 24 24\" width=\"24px\" height=\"24px\" version=\"1.1\" focusable=\"false\" class=\"lazy-loaded\" aria-busy=\"false\">\\n  <path d=\"M21,19.67l-5.44-5.44a7,7,0,1,0-1.33,1.33L19.67,21ZM10,15.13A5.13,5.13,0,1,1,15.13,10,5.13,5.13,0,0,1,10,15.13Z\" class=\"large-icon\" style=\"fill: currentColor; color: #7a8b98;\"></path>\\n</svg></icon>\\n        </button>\\n      </form>\\n    </section>\\n  \\n  \\n\\n<!---->        <div aria-live=\"polite\" class=\"search-bar__live-text sr-only\" role=\"status\"></div>\\n      \\n  \\n    </section>\\n  \\n\\n<!---->\\n      <div class=\"nav__cta-container order-3 flex gap-x-1 justify-end min-w-[100px] flex-nowrap flex-shrink-0 babybear:flex-wrap flex-2\">\\n        \\n    \\n    <a class=\"nav__button-tertiary btn-md btn-tertiary\" href=\"https://www.linkedin.com/signup/cold-join?source=jobs_registration&amp;session_redirect=https%3A%2F%2Fwww.linkedin.com%2Fjobs%2Fsearch%2F%3FcurrentJobId%3D3702297562%26distance%3D25%26geoId%3D102713980%26keywords%3Dartificial%2520intelligence&amp;trk=public_jobs_nav-header-join\" data-tracking-control-name=\"public_jobs_nav-header-join\" data-test-live-nav-primary-cta=\"\" data-tracking-will-navigate=\"\">\\n      Join now\\n    </a>\\n\\n\\n        \\n  \\n  \\n\\n      \\n      <a class=\"nav__button-secondary btn-md btn-secondary-emphasis\" href=\"https://www.linkedin.com/login?emailAddress=&amp;fromSignIn=&amp;fromSignIn=true&amp;session_redirect=https%3A%2F%2Fwww.linkedin.com%2Fjobs%2Fsearch%2F%3FcurrentJobId%3D3702297562%26distance%3D25%26geoId%3D102713980%26keywords%3Dartificial%2520intelligence&amp;trk=public_jobs_nav-header-signin\" data-tracking-control-name=\"public_jobs_nav-header-signin\" data-tracking-will-navigate=\"\">\\n          Sign in\\n      </a>\\n\\n\\n<!---->      </div>\\n\\n<!---->\\n<!---->    </nav>\\n  \\n      </header>\\n\\n        <section class=\"base-serp-page__filters-bar\">\\n          <div class=\"base-serp-page__filters\">\\n            \\n        \\n        \\n    \\n    \\n    \\n\\n    <div class=\"guest-filters\">\\n      \\n    \\n    \\n\\n    <div class=\"filters filters--desktop\">\\n      <form class=\"filters__form\" id=\"jserp-filters\" action=\"https://www.linkedin.com/jobs/search/\" data-tracking-control-name=\"public_jobs_filters\">\\n        \\n            <input name=\"keywords\" value=\"Artificial Intelligence\" type=\"hidden\">\\n            <input name=\"location\" value=\"India\" type=\"hidden\">\\n            <input name=\"locationId\" type=\"hidden\">\\n            <input name=\"geoId\" value=\"102713980\" type=\"hidden\">\\n        \\n        <ul class=\"filters__list\">\\n            \\n<!---->        \\n            \\n              \\n    \\n    \\n    \\n\\n      <li class=\"filter\">\\n        \\n    <div class=\"dropdown-to-modal filter__dropdown-to-modal\">\\n        \\n\\n    \\n\\n    <div class=\"collapsible-dropdown flex items-center relative hyphens-auto\">\\n          \\n            \\n            \\n    \\n    \\n    \\n\\n    <button class=\"filter-button pill flex items-center !min-h-0\\n         filter-button--selected pill-checked filter__dropdown-to-modal-trigger\" aria-label=\"Date posted filter. Any Time filter is currently applied. Clicking this button displays all Date posted filter options.\" data-tracking-control-name=\"public_jobs_f_TPR\" aria-expanded=\"false\" type=\"button\">\\n        \\n        Any Time\\n      <icon class=\"filter-button__icon h-3 w-2 lazy-loaded\" aria-hidden=\"true\" aria-busy=\"false\"><svg xmlns=\"http://www.w3.org/2000/svg\" xmlns:xlink=\"http://www.w3.org/1999/xlink\" viewBox=\"0 0 24 24\" width=\"24px\" height=\"24px\" class=\"artdeco-icon lazy-loaded\" focusable=\"false\" aria-busy=\"false\">\\n  <path d=\"M5,9h14l-6.2,6.7C12.6,15.9,12.3,16,12,16c-0.3,0-0.6-0.1-0.8-0.3L5,9z\" fill=\"currentColor\"></path>\\n</svg></icon>\\n    </button>\\n  \\n          \\n          \\n\\n        <div class=\"collapsible-dropdown__list hidden container-raised absolute w-auto overflow-y-auto flex-col items-stretch z-1 bottom-auto top-[100%]\" tabindex=\"-1\">\\n          \\n            \\n<!---->            \\n    \\n\\n    <div class=\"filter-values-container\">\\n      <div class=\"filter-values-container__filter-values\" aria-label=\"Date posted filter options\" role=\"group\">\\n          \\n  \\n\\n  <div class=\"filter-values-container__filter-value\">\\n    <input id=\"f_TPR-0\" form=\"jserp-filters\" name=\"f_TPR\" value=\"r86400\" type=\"radio\">\\n    <label for=\"f_TPR-0\">\\n        Past 24 hours (562)\\n    </label>\\n  </div>\\n\\n          \\n  \\n\\n  <div class=\"filter-values-container__filter-value\">\\n    <input id=\"f_TPR-1\" form=\"jserp-filters\" name=\"f_TPR\" value=\"r604800\" type=\"radio\">\\n    <label for=\"f_TPR-1\">\\n        Past Week (2,351)\\n    </label>\\n  </div>\\n\\n          \\n  \\n\\n  <div class=\"filter-values-container__filter-value\">\\n    <input id=\"f_TPR-2\" form=\"jserp-filters\" name=\"f_TPR\" value=\"r2592000\" type=\"radio\">\\n    <label for=\"f_TPR-2\">\\n        Past Month (7,210)\\n    </label>\\n  </div>\\n\\n          \\n  \\n\\n  <div class=\"filter-values-container__filter-value\">\\n    <input id=\"f_TPR-3\" form=\"jserp-filters\" name=\"f_TPR\" checked=\"\" value=\"\" type=\"radio\">\\n    <label for=\"f_TPR-3\">\\n        Any Time (11,338)\\n    </label>\\n  </div>\\n\\n      </div>\\n    </div>\\n  \\n              \\n  <button class=\"filter__submit-button\" form=\"jserp-filters\" data-tracking-control-name=\"public_jobs_f_TPR\" type=\"submit\">\\n    Done\\n  </button>\\n\\n          \\n          \\n        </div>\\n\\n<!---->    </div>\\n  \\n    </div>\\n  \\n      </li>\\n  \\n              \\n    \\n    \\n    \\n\\n      <li class=\"filter\">\\n        \\n    <div class=\"dropdown-to-modal filter__dropdown-to-modal\">\\n        \\n\\n    \\n\\n    <div class=\"collapsible-dropdown flex items-center relative hyphens-auto\">\\n          \\n            \\n            \\n    \\n    \\n    \\n\\n    <button class=\"filter-button pill flex items-center !min-h-0\\n         filter__dropdown-to-modal-trigger\" aria-label=\"Company filter. Clicking this button displays all Company filter options.\" data-tracking-control-name=\"public_jobs_f_C\" aria-expanded=\"false\" type=\"button\">\\n        Company\\n<!---->      <icon class=\"filter-button__icon h-3 w-2 lazy-loaded\" aria-hidden=\"true\" aria-busy=\"false\"><svg xmlns=\"http://www.w3.org/2000/svg\" xmlns:xlink=\"http://www.w3.org/1999/xlink\" viewBox=\"0 0 24 24\" width=\"24px\" height=\"24px\" class=\"artdeco-icon lazy-loaded\" focusable=\"false\" aria-busy=\"false\">\\n  <path d=\"M5,9h14l-6.2,6.7C12.6,15.9,12.3,16,12,16c-0.3,0-0.6-0.1-0.8-0.3L5,9z\" fill=\"currentColor\"></path>\\n</svg></icon>\\n    </button>\\n  \\n          \\n          \\n\\n        <div class=\"collapsible-dropdown__list hidden container-raised absolute w-auto overflow-y-auto flex-col items-stretch z-1 bottom-auto top-[100%]\" tabindex=\"-1\">\\n          \\n            \\n              \\n\\n    \\n    \\n    \\n\\n    \\n    \\n    \\n\\n    \\n    \\n\\n    <section class=\"dismissable-input text-input !pr-3 bg-color-transparent flex items-center h-[40px] min-w-0 relative babybear:w-full babybear:mb-1 typeahead-input filter__typeahead\" data-base-api-url=\"/jobs-guest/api/typeaheadHits?typeaheadType=COMPANY\" aria-label=\"Add a filter for Company\">\\n      <input aria-autocomplete=\"list\" aria-controls=\"f_C-typeahead-list\" aria-haspopup=\"listbox\" aria-label=\"Add a filter\" autocomplete=\"off\" class=\"dismissable-input__input font-sans text-md text-color-text bg-color-transparent flex items-center flex-1 focus:outline-none placeholder:text-color-text-secondary\" data-tracking-control-name=\"public_jobs_f_C_dismissable-input\" id=\"f_C\" maxlength=\"500\" placeholder=\"Add a filter\" role=\"combobox\" type=\"text\" aria-expanded=\"false\">\\n      \\n        <div aria-live=\"polite\" class=\"typeahead-live-text sr-only\" role=\"status\"></div>\\n      <div class=\"typeahead-input__dropdown container-lined absolute top-[calc(100%+3px)] left-0 w-full rounded-b-md rounded-t-none z-[10] overflow-hidden max-w-none babybear:min-w-full babybear:bottom-0 babybear:overflow-y-auto\">\\n        <template class=\"typeahead-item-template\">\\n          <li class=\"typeahead-input__dropdown-item py-1.5 px-2 hover:cursor-pointer hover:bg-color-surface-new-hover hover:border-y-2 hover:border-solid hover:border-color-container-primary\" role=\"option\">\\n            <span class=\"typeahead-input__dropdown-text font-sans text-sm font-bold text-color-text\"></span>\\n          </li>\\n        </template>\\n\\n        <ul class=\"typeahead-input__dropdown-list w-full\" id=\"f_C-typeahead-list\" role=\"listbox\"></ul>\\n      </div>\\n<!---->    \\n        <button class=\"dismissable-input__button text-color-text h-[40px] min-w-[24px] w-[24px] -mr-2 opacity-0 transition-opacity duration-[0.1s] disabled:invisible focus:opacity-100\" data-tracking-control-name=\"public_jobs_f_C_dismissable-input-clear\" type=\"button\" disabled=\"\">\\n          <label class=\"sr-only\">Dismiss</label>\\n          <icon class=\"dismissable-input__button-icon lazy-loaded\" aria-hidden=\"true\" aria-busy=\"false\"><svg xmlns=\"http://www.w3.org/2000/svg\" viewBox=\"0 0 16 16\" width=\"16\" height=\"16\" focusable=\"false\" class=\"lazy-loaded\" aria-busy=\"false\">\\n  <g fill=\"none\" fill-rule=\"evenodd\">\\n    <path fill=\"currentColor\" d=\"M7.90356 9.19393l-3.3763 3.3763-1.29037-1.29037 3.3763-3.3763-3.3763-3.3763 1.29037-1.29037 3.3763 3.3763 3.3763-3.3763 1.29037 1.29037-3.3763 3.3763 3.3763 3.3763-1.29037 1.29037z\"></path>\\n    <path d=\"M0 0h16v16H0z\"></path>\\n  </g>\\n</svg></icon>\\n        </button>\\n    </section>\\n  \\n  \\n            \\n    \\n\\n    <div class=\"filter-values-container\">\\n      <div class=\"filter-values-container__filter-values\" aria-label=\"Company filter options\" role=\"group\">\\n          \\n  \\n\\n  <div class=\"filter-values-container__filter-value\">\\n    <input id=\"f_C-0\" form=\"jserp-filters\" name=\"f_C\" value=\"13469973\" type=\"checkbox\">\\n    <label for=\"f_C-0\">\\n        Changeleaders.in (37)\\n    </label>\\n  </div>\\n\\n          \\n  \\n\\n  <div class=\"filter-values-container__filter-value\">\\n    <input id=\"f_C-1\" form=\"jserp-filters\" name=\"f_C\" value=\"926408\" type=\"checkbox\">\\n    <label for=\"f_C-1\">\\n        Dubai Jobs, Gulf Jobs, Jobs in Dubai, Qatar, Kuwait - Boyen Haddin &amp; The Giant HR Consultant (22)\\n    </label>\\n  </div>\\n\\n          \\n  \\n\\n  <div class=\"filter-values-container__filter-value\">\\n    <input id=\"f_C-2\" form=\"jserp-filters\" name=\"f_C\" value=\"10800876\" type=\"checkbox\">\\n    <label for=\"f_C-2\">\\n        NuStar Technologies (21)\\n    </label>\\n  </div>\\n\\n          \\n  \\n\\n  <div class=\"filter-values-container__filter-value\">\\n    <input id=\"f_C-3\" form=\"jserp-filters\" name=\"f_C\" value=\"903580\" type=\"checkbox\">\\n    <label for=\"f_C-3\">\\n        View, Inc. (10)\\n    </label>\\n  </div>\\n\\n          \\n  \\n\\n  <div class=\"filter-values-container__filter-value\">\\n    <input id=\"f_C-4\" form=\"jserp-filters\" name=\"f_C\" value=\"4897\" type=\"checkbox\">\\n    <label for=\"f_C-4\">\\n        Zensar Technologies (3)\\n    </label>\\n  </div>\\n\\n      </div>\\n    </div>\\n  \\n              \\n  <button class=\"filter__submit-button\" form=\"jserp-filters\" data-tracking-control-name=\"public_jobs_f_C\" type=\"submit\">\\n    Done\\n  </button>\\n\\n          \\n          \\n        </div>\\n\\n<!---->    </div>\\n  \\n    </div>\\n  \\n      </li>\\n  \\n              \\n    \\n    \\n    \\n\\n      <li class=\"filter\">\\n        \\n    <div class=\"dropdown-to-modal filter__dropdown-to-modal\">\\n        \\n\\n    \\n\\n    <div class=\"collapsible-dropdown flex items-center relative hyphens-auto\">\\n          \\n            \\n            \\n    \\n    \\n    \\n\\n    <button class=\"filter-button pill flex items-center !min-h-0\\n         filter__dropdown-to-modal-trigger\" aria-label=\"Location filter. Clicking this button displays all Location filter options.\" data-tracking-control-name=\"public_jobs_f_PP\" aria-expanded=\"false\" type=\"button\">\\n        Location\\n<!---->      <icon class=\"filter-button__icon h-3 w-2 lazy-loaded\" aria-hidden=\"true\" aria-busy=\"false\"><svg xmlns=\"http://www.w3.org/2000/svg\" xmlns:xlink=\"http://www.w3.org/1999/xlink\" viewBox=\"0 0 24 24\" width=\"24px\" height=\"24px\" class=\"artdeco-icon lazy-loaded\" focusable=\"false\" aria-busy=\"false\">\\n  <path d=\"M5,9h14l-6.2,6.7C12.6,15.9,12.3,16,12,16c-0.3,0-0.6-0.1-0.8-0.3L5,9z\" fill=\"currentColor\"></path>\\n</svg></icon>\\n    </button>\\n  \\n          \\n          \\n\\n        <div class=\"collapsible-dropdown__list hidden container-raised absolute w-auto overflow-y-auto flex-col items-stretch z-1 bottom-auto top-[100%]\" tabindex=\"-1\">\\n          \\n            \\n              \\n\\n    \\n    \\n    \\n\\n    \\n    \\n    \\n\\n    \\n    \\n\\n    <section class=\"dismissable-input text-input !pr-3 bg-color-transparent flex items-center h-[40px] min-w-0 relative babybear:w-full babybear:mb-1 typeahead-input filter__typeahead\" data-base-api-url=\"/jobs-guest/api/typeaheadHits?origin=jserp&amp;typeaheadType=GEO&amp;geoTypes=POPULATED_PLACE\" aria-label=\"Add a filter for Location\">\\n      <input aria-autocomplete=\"list\" aria-controls=\"f_PP-typeahead-list\" aria-haspopup=\"listbox\" aria-label=\"Add a filter\" autocomplete=\"off\" class=\"dismissable-input__input font-sans text-md text-color-text bg-color-transparent flex items-center flex-1 focus:outline-none placeholder:text-color-text-secondary\" data-tracking-control-name=\"public_jobs_f_PP_dismissable-input\" id=\"f_PP\" maxlength=\"500\" placeholder=\"Add a filter\" role=\"combobox\" type=\"text\" aria-expanded=\"false\">\\n      \\n        <div aria-live=\"polite\" class=\"typeahead-live-text sr-only\" role=\"status\"></div>\\n      <div class=\"typeahead-input__dropdown container-lined absolute top-[calc(100%+3px)] left-0 w-full rounded-b-md rounded-t-none z-[10] overflow-hidden max-w-none babybear:min-w-full babybear:bottom-0 babybear:overflow-y-auto\">\\n        <template class=\"typeahead-item-template\">\\n          <li class=\"typeahead-input__dropdown-item py-1.5 px-2 hover:cursor-pointer hover:bg-color-surface-new-hover hover:border-y-2 hover:border-solid hover:border-color-container-primary\" role=\"option\">\\n            <span class=\"typeahead-input__dropdown-text font-sans text-sm font-bold text-color-text\"></span>\\n          </li>\\n        </template>\\n\\n        <ul class=\"typeahead-input__dropdown-list w-full\" id=\"f_PP-typeahead-list\" role=\"listbox\"></ul>\\n      </div>\\n<!---->    \\n        <button class=\"dismissable-input__button text-color-text h-[40px] min-w-[24px] w-[24px] -mr-2 opacity-0 transition-opacity duration-[0.1s] disabled:invisible focus:opacity-100\" data-tracking-control-name=\"public_jobs_f_PP_dismissable-input-clear\" type=\"button\" disabled=\"\">\\n          <label class=\"sr-only\">Dismiss</label>\\n          <icon class=\"dismissable-input__button-icon lazy-loaded\" aria-hidden=\"true\" aria-busy=\"false\"><svg xmlns=\"http://www.w3.org/2000/svg\" viewBox=\"0 0 16 16\" width=\"16\" height=\"16\" focusable=\"false\" class=\"lazy-loaded\" aria-busy=\"false\">\\n  <g fill=\"none\" fill-rule=\"evenodd\">\\n    <path fill=\"currentColor\" d=\"M7.90356 9.19393l-3.3763 3.3763-1.29037-1.29037 3.3763-3.3763-3.3763-3.3763 1.29037-1.29037 3.3763 3.3763 3.3763-3.3763 1.29037 1.29037-3.3763 3.3763 3.3763 3.3763-1.29037 1.29037z\"></path>\\n    <path d=\"M0 0h16v16H0z\"></path>\\n  </g>\\n</svg></icon>\\n        </button>\\n    </section>\\n  \\n  \\n            \\n    \\n\\n    <div class=\"filter-values-container\">\\n      <div class=\"filter-values-container__filter-values\" aria-label=\"Location filter options\" role=\"group\">\\n          \\n  \\n\\n  <div class=\"filter-values-container__filter-value\">\\n    <input id=\"f_PP-0\" form=\"jserp-filters\" name=\"f_PP\" value=\"105214831\" type=\"checkbox\">\\n    <label for=\"f_PP-0\">\\n        Bengaluru (2,164)\\n    </label>\\n  </div>\\n\\n          \\n  \\n\\n  <div class=\"filter-values-container__filter-value\">\\n    <input id=\"f_PP-1\" form=\"jserp-filters\" name=\"f_PP\" value=\"113968072\" type=\"checkbox\">\\n    <label for=\"f_PP-1\">\\n        Bengaluru East (1,618)\\n    </label>\\n  </div>\\n\\n          \\n  \\n\\n  <div class=\"filter-values-container__filter-value\">\\n    <input id=\"f_PP-2\" form=\"jserp-filters\" name=\"f_PP\" value=\"105556991\" type=\"checkbox\">\\n    <label for=\"f_PP-2\">\\n        Hyderabad (1,163)\\n    </label>\\n  </div>\\n\\n          \\n  \\n\\n  <div class=\"filter-values-container__filter-value\">\\n    <input id=\"f_PP-3\" form=\"jserp-filters\" name=\"f_PP\" value=\"106164952\" type=\"checkbox\">\\n    <label for=\"f_PP-3\">\\n        Mumbai (866)\\n    </label>\\n  </div>\\n\\n          \\n  \\n\\n  <div class=\"filter-values-container__filter-value\">\\n    <input id=\"f_PP-4\" form=\"jserp-filters\" name=\"f_PP\" value=\"103671728\" type=\"checkbox\">\\n    <label for=\"f_PP-4\">\\n        Pune (780)\\n    </label>\\n  </div>\\n\\n      </div>\\n    </div>\\n  \\n              \\n  <button class=\"filter__submit-button\" form=\"jserp-filters\" data-tracking-control-name=\"public_jobs_f_PP\" type=\"submit\">\\n    Done\\n  </button>\\n\\n          \\n          \\n        </div>\\n\\n<!---->    </div>\\n  \\n    </div>\\n  \\n      </li>\\n  \\n              \\n    \\n    \\n    \\n\\n      <li class=\"filter\">\\n        \\n    <div class=\"dropdown-to-modal filter__dropdown-to-modal\">\\n        \\n\\n    \\n\\n    <div class=\"collapsible-dropdown flex items-center relative hyphens-auto\">\\n          \\n            \\n            \\n    \\n    \\n    \\n\\n    <button class=\"filter-button pill flex items-center !min-h-0\\n         filter__dropdown-to-modal-trigger\" aria-label=\"Job type filter. Clicking this button displays all Job type filter options.\" data-tracking-control-name=\"public_jobs_f_JT\" aria-expanded=\"false\" type=\"button\">\\n        Job type\\n<!---->      <icon class=\"filter-button__icon h-3 w-2 lazy-loaded\" aria-hidden=\"true\" aria-busy=\"false\"><svg xmlns=\"http://www.w3.org/2000/svg\" xmlns:xlink=\"http://www.w3.org/1999/xlink\" viewBox=\"0 0 24 24\" width=\"24px\" height=\"24px\" class=\"artdeco-icon lazy-loaded\" focusable=\"false\" aria-busy=\"false\">\\n  <path d=\"M5,9h14l-6.2,6.7C12.6,15.9,12.3,16,12,16c-0.3,0-0.6-0.1-0.8-0.3L5,9z\" fill=\"currentColor\"></path>\\n</svg></icon>\\n    </button>\\n  \\n          \\n          \\n\\n        <div class=\"collapsible-dropdown__list hidden container-raised absolute w-auto overflow-y-auto flex-col items-stretch z-1 bottom-auto top-[100%]\" tabindex=\"-1\">\\n          \\n            \\n<!---->            \\n    \\n\\n    <div class=\"filter-values-container\">\\n      <div class=\"filter-values-container__filter-values\" aria-label=\"Job type filter options\" role=\"group\">\\n          \\n  \\n\\n  <div class=\"filter-values-container__filter-value\">\\n    <input id=\"f_JT-0\" form=\"jserp-filters\" name=\"f_JT\" value=\"F\" type=\"checkbox\">\\n    <label for=\"f_JT-0\">\\n        Full-time (10,743)\\n    </label>\\n  </div>\\n\\n          \\n  \\n\\n  <div class=\"filter-values-container__filter-value\">\\n    <input id=\"f_JT-1\" form=\"jserp-filters\" name=\"f_JT\" value=\"P\" type=\"checkbox\">\\n    <label for=\"f_JT-1\">\\n        Part-time (320)\\n    </label>\\n  </div>\\n\\n          \\n  \\n\\n  <div class=\"filter-values-container__filter-value\">\\n    <input id=\"f_JT-2\" form=\"jserp-filters\" name=\"f_JT\" value=\"C\" type=\"checkbox\">\\n    <label for=\"f_JT-2\">\\n        Contract (171)\\n    </label>\\n  </div>\\n\\n          \\n  \\n\\n  <div class=\"filter-values-container__filter-value\">\\n    <input id=\"f_JT-3\" form=\"jserp-filters\" name=\"f_JT\" value=\"T\" type=\"checkbox\">\\n    <label for=\"f_JT-3\">\\n        Temporary (13)\\n    </label>\\n  </div>\\n\\n          \\n  \\n\\n  <div class=\"filter-values-container__filter-value\">\\n    <input id=\"f_JT-4\" form=\"jserp-filters\" name=\"f_JT\" value=\"I\" type=\"checkbox\">\\n    <label for=\"f_JT-4\">\\n        Internship (112)\\n    </label>\\n  </div>\\n\\n      </div>\\n    </div>\\n  \\n              \\n  <button class=\"filter__submit-button\" form=\"jserp-filters\" data-tracking-control-name=\"public_jobs_f_JT\" type=\"submit\">\\n    Done\\n  </button>\\n\\n          \\n          \\n        </div>\\n\\n<!---->    </div>\\n  \\n    </div>\\n  \\n      </li>\\n  \\n              \\n    \\n    \\n    \\n\\n      <li class=\"filter\">\\n        \\n    <div class=\"dropdown-to-modal filter__dropdown-to-modal\">\\n        \\n\\n    \\n\\n    <div class=\"collapsible-dropdown flex items-center relative hyphens-auto\">\\n          \\n            \\n            \\n    \\n    \\n    \\n\\n    <button class=\"filter-button pill flex items-center !min-h-0\\n         filter__dropdown-to-modal-trigger\" aria-label=\"Experience level filter. Clicking this button displays all Experience level filter options.\" data-tracking-control-name=\"public_jobs_f_E\" aria-expanded=\"false\" type=\"button\">\\n        Experience level\\n<!---->      <icon class=\"filter-button__icon h-3 w-2 lazy-loaded\" aria-hidden=\"true\" aria-busy=\"false\"><svg xmlns=\"http://www.w3.org/2000/svg\" xmlns:xlink=\"http://www.w3.org/1999/xlink\" viewBox=\"0 0 24 24\" width=\"24px\" height=\"24px\" class=\"artdeco-icon lazy-loaded\" focusable=\"false\" aria-busy=\"false\">\\n  <path d=\"M5,9h14l-6.2,6.7C12.6,15.9,12.3,16,12,16c-0.3,0-0.6-0.1-0.8-0.3L5,9z\" fill=\"currentColor\"></path>\\n</svg></icon>\\n    </button>\\n  \\n          \\n          \\n\\n        <div class=\"collapsible-dropdown__list hidden container-raised absolute w-auto overflow-y-auto flex-col items-stretch z-1 bottom-auto top-[100%]\" tabindex=\"-1\">\\n          \\n            \\n<!---->            \\n    \\n\\n    <div class=\"filter-values-container\">\\n      <div class=\"filter-values-container__filter-values\" aria-label=\"Experience level filter options\" role=\"group\">\\n          \\n  \\n\\n  <div class=\"filter-values-container__filter-value\">\\n    <input id=\"f_E-0\" form=\"jserp-filters\" name=\"f_E\" value=\"1\" type=\"checkbox\">\\n    <label for=\"f_E-0\">\\n        Internship (526)\\n    </label>\\n  </div>\\n\\n          \\n  \\n\\n  <div class=\"filter-values-container__filter-value\">\\n    <input id=\"f_E-1\" form=\"jserp-filters\" name=\"f_E\" value=\"2\" type=\"checkbox\">\\n    <label for=\"f_E-1\">\\n        Entry level (2,429)\\n    </label>\\n  </div>\\n\\n          \\n  \\n\\n  <div class=\"filter-values-container__filter-value\">\\n    <input id=\"f_E-2\" form=\"jserp-filters\" name=\"f_E\" value=\"3\" type=\"checkbox\">\\n    <label for=\"f_E-2\">\\n        Associate (474)\\n    </label>\\n  </div>\\n\\n          \\n  \\n\\n  <div class=\"filter-values-container__filter-value\">\\n    <input id=\"f_E-3\" form=\"jserp-filters\" name=\"f_E\" value=\"4\" type=\"checkbox\">\\n    <label for=\"f_E-3\">\\n        Mid-Senior level (3,895)\\n    </label>\\n  </div>\\n\\n          \\n  \\n\\n  <div class=\"filter-values-container__filter-value\">\\n    <input id=\"f_E-4\" form=\"jserp-filters\" name=\"f_E\" value=\"5\" type=\"checkbox\">\\n    <label for=\"f_E-4\">\\n        Director (186)\\n    </label>\\n  </div>\\n\\n      </div>\\n    </div>\\n  \\n              \\n  <button class=\"filter__submit-button\" form=\"jserp-filters\" data-tracking-control-name=\"public_jobs_f_E\" type=\"submit\">\\n    Done\\n  </button>\\n\\n          \\n          \\n        </div>\\n\\n<!---->    </div>\\n  \\n    </div>\\n  \\n      </li>\\n  \\n              \\n    \\n    \\n    \\n\\n      <li class=\"filter\">\\n        \\n    <div class=\"dropdown-to-modal filter__dropdown-to-modal\">\\n        \\n\\n    \\n\\n    <div class=\"collapsible-dropdown flex items-center relative hyphens-auto\">\\n          \\n            \\n            \\n    \\n    \\n    \\n\\n    <button class=\"filter-button pill flex items-center !min-h-0\\n         filter__dropdown-to-modal-trigger\" aria-label=\"On-site/remote filter. Clicking this button displays all On-site/remote filter options.\" data-tracking-control-name=\"public_jobs_f_WT\" aria-expanded=\"false\" type=\"button\">\\n        On-site/remote\\n<!---->      <icon class=\"filter-button__icon h-3 w-2 lazy-loaded\" aria-hidden=\"true\" aria-busy=\"false\"><svg xmlns=\"http://www.w3.org/2000/svg\" xmlns:xlink=\"http://www.w3.org/1999/xlink\" viewBox=\"0 0 24 24\" width=\"24px\" height=\"24px\" class=\"artdeco-icon lazy-loaded\" focusable=\"false\" aria-busy=\"false\">\\n  <path d=\"M5,9h14l-6.2,6.7C12.6,15.9,12.3,16,12,16c-0.3,0-0.6-0.1-0.8-0.3L5,9z\" fill=\"currentColor\"></path>\\n</svg></icon>\\n    </button>\\n  \\n          \\n          \\n\\n        <div class=\"collapsible-dropdown__list hidden container-raised absolute w-auto overflow-y-auto flex-col items-stretch z-1 bottom-auto top-[100%]\" tabindex=\"-1\">\\n          \\n            \\n<!---->            \\n    \\n\\n    <div class=\"filter-values-container\">\\n      <div class=\"filter-values-container__filter-values\" aria-label=\"On-site/remote filter options\" role=\"group\">\\n          \\n  \\n\\n  <div class=\"filter-values-container__filter-value\">\\n    <input id=\"f_WT-0\" form=\"jserp-filters\" name=\"f_WT\" value=\"1\" type=\"checkbox\">\\n    <label for=\"f_WT-0\">\\n        On-site (8,770)\\n    </label>\\n  </div>\\n\\n          \\n  \\n\\n  <div class=\"filter-values-container__filter-value\">\\n    <input id=\"f_WT-1\" form=\"jserp-filters\" name=\"f_WT\" value=\"3\" type=\"checkbox\">\\n    <label for=\"f_WT-1\">\\n        Hybrid (1,547)\\n    </label>\\n  </div>\\n\\n          \\n  \\n\\n  <div class=\"filter-values-container__filter-value\">\\n    <input id=\"f_WT-2\" form=\"jserp-filters\" name=\"f_WT\" value=\"2\" type=\"checkbox\">\\n    <label for=\"f_WT-2\">\\n        Remote (1,090)\\n    </label>\\n  </div>\\n\\n      </div>\\n    </div>\\n  \\n              \\n  <button class=\"filter__submit-button\" form=\"jserp-filters\" data-tracking-control-name=\"public_jobs_f_WT\" type=\"submit\">\\n    Done\\n  </button>\\n\\n          \\n          \\n        </div>\\n\\n<!---->    </div>\\n  \\n    </div>\\n  \\n      </li>\\n  \\n        \\n        </ul>\\n      </form>\\n\\n<!---->    </div>\\n  \\n    </div>\\n  \\n      \\n      \\n          </div>\\n        </section>\\n\\n      \\n        \\n<!---->      \\n      \\n\\n      <div class=\"base-serp-page__content\">\\n        \\n        <main id=\"main-content\" class=\"two-pane-serp-page__results\" role=\"main\">\\n            <section class=\"two-pane-serp-page__search-header\">\\n              \\n<!---->\\n            \\n    \\n    \\n\\n    <section class=\"job-alert-redirect-section job-alert-redirect-section--jserp\">\\n      <icon class=\"job-alert-redirect-section__icon lazy-loaded\" aria-hidden=\"true\" aria-busy=\"false\"><svg xmlns=\"http://www.w3.org/2000/svg\" width=\"18\" height=\"20\" focusable=\"false\" class=\"lazy-loaded\" aria-busy=\"false\"><defs><path id=\"a\" d=\"M0 24h24V0H0z\"></path></defs><g fill=\"none\" fill-rule=\"evenodd\"><path d=\"M2.52 15l1.3-3h10.36l1.3 3h-13 .04zM9 1.75c2.2.001 4.059 1.63 4.35 3.81.28 2.1.56 4.35.7 5.44H4l.65-5.44C4.941 3.38 6.8 1.751 9 1.75zM17.94 16L16 11.49s-.41-3.06-.8-6.06C14.784 2.323 12.135.002 9 0 5.858-.002 3.202 2.325 2.79 5.44L2 11.49.06 16c-.039.088-.059.184-.06.28-.006.414.326.754.74.76H7c0 1.105.895 2 2 2s2-.895 2-2h6.27c.409-.004.737-.338.734-.746A.73997.73997 0 0 0 17.94 16z\" fill=\"#000\" fill-opacity=\"0.6\"></path></g></svg></icon>\\n      <div class=\"job-alert-redirect-section__container\">\\n        <p>Get notified about new <strong class=\"break-word\">Artificial Intelligence</strong> jobs in <strong>India</strong>.</p>\\n\\n        <a class=\"job-alert-redirect-section__cta\" href=\"https://www.linkedin.com/login?emailAddress=&amp;fromSignIn=&amp;session_redirect=https%3A%2F%2Fwww.linkedin.com%2Fjobs%2Fsearch%2F%3FcurrentJobId%3D3702297562%26distance%3D25%26geoId%3D102713980%26keywords%3Dartificial%2520intelligence&amp;trk=public_jobs_job-alert-guest-redirect-cta\" data-tracking-control-name=\"public_jobs_job-alert-guest-redirect-cta\" data-tracking-will-navigate=\"\">\\n          Sign in to create job alert\\n        </a>\\n      </div>\\n    </section>\\n  \\n      \\n            </section>\\n\\n              \\n<!---->\\n        \\n    \\n    \\n\\n        \\n    \\n    \\n    \\n\\n    <div class=\"results-context-header\">\\n      <h1 class=\"results-context-header__context\">\\n          <span class=\"results-context-header__job-count\">11,000+</span> <span class=\"results-context-header__query-search\">Artificial Intelligence Jobs in India</span>\\n          <span class=\"results-context-header__new-jobs\">\\n            (562&nbsp;new)\\n          </span>\\n      </h1>\\n      \\n    </div>\\n  \\n  \\n      \\n            <section class=\"two-pane-serp-page__results-list\">\\n              \\n          <ul class=\"jobs-search__results-list\">\\n              <li>\\n                \\n\\n    \\n\\n    \\n    \\n    \\n      <div class=\"base-card relative w-full hover:no-underline focus:no-underline base-card--link base-search-card base-search-card--link job-search-card\" data-entity-urn=\"urn:li:jobPosting:3683112838\" data-search-id=\"OXmXWvlmYLyoGa9rXvGdgw==\" data-tracking-id=\"eQGR0QGlsS0w63HXKCwlSQ==\" data-column=\"1\" data-row=\"1\" data-visible-time=\"1693943447483\" data-largest-intersection-ratio=\"1\">\\n        \\n\\n        <a class=\"base-card__full-link absolute top-0 right-0 bottom-0 left-0 p-0 z-[2]\" href=\"https://in.linkedin.com/jobs/view/junior-data-scientist-iit-bits-at-whitetable-ai-previously-as-iie-network-3683112838?refId=OXmXWvlmYLyoGa9rXvGdgw%3D%3D&amp;trackingId=eQGR0QGlsS0w63HXKCwlSQ%3D%3D&amp;position=1&amp;pageNum=0&amp;trk=public_jobs_jserp-result_search-card\" data-tracking-control-name=\"public_jobs_jserp-result_search-card\" data-tracking-client-ingraph=\"\" data-tracking-will-navigate=\"\">\\n          \\n          <span class=\"sr-only\">\\n              \\n        \\n        Junior Data Scientist - IIT/BITS\\n      \\n      \\n          </span>\\n        </a>\\n\\n      \\n        \\n    <div class=\"search-entity-media\">\\n        \\n      <img class=\"artdeco-entity-image artdeco-entity-image--square-4\" data-ghost-classes=\"artdeco-entity-image--ghost\" data-ghost-url=\"https://static.licdn.com/aero-v1/sc/h/9a9u41thxt325ucfh5z8ga4m8\" alt=\"\" aria-busy=\"true\" src=\"https://media.licdn.com/dms/image/D560BAQG7oKe9P6EXBg/company-logo_100_100/0/1693893319573?e=2147483647&amp;v=beta&amp;t=hyJOzVcspEMjdXbAfN83aWuaNgT0k5V-J4zN5vkRsv4\">\\n  \\n    </div>\\n  \\n\\n        <div class=\"base-search-card__info\">\\n          <h3 class=\"base-search-card__title\">\\n            \\n        Junior Data Scientist - IIT/BITS\\n      \\n          </h3>\\n\\n            <h4 class=\"base-search-card__subtitle\">\\n              \\n          <a class=\"hidden-nested-link\" data-tracking-client-ingraph=\"\" data-tracking-control-name=\"public_jobs_jserp-result_job-search-card-subtitle\" data-tracking-will-navigate=\"\" href=\"https://in.linkedin.com/company/whitetable?trk=public_jobs_jserp-result_job-search-card-subtitle\">\\n            Whitetable.ai (Previously as IIE Network)\\n          </a>\\n      \\n            </h4>\\n\\n<!---->\\n            <div class=\"base-search-card__metadata\">\\n              \\n          <span class=\"job-search-card__location\">\\n            Bengaluru, Karnataka, India\\n          </span>\\n\\n<!---->\\n<!---->\\n<!---->\\n          <time class=\"job-search-card__listdate\" datetime=\"2023-08-05\">\\n            \\n\\n    \\n    \\n    \\n    \\n    \\n    \\n    \\n    \\n    \\n    \\n    \\n    \\n    \\n    \\n    \\n    \\n\\n    \\n    \\n    \\n    \\n    \\n    \\n    \\n    \\n    \\n    \\n    \\n    \\n    \\n    \\n\\n      1 month ago\\n  \\n          </time>\\n\\n<!---->      \\n            </div>\\n        </div>\\n<!---->      \\n    \\n      </div>\\n  \\n  \\n  \\n  \\n              </li>\\n              <li>\\n                \\n\\n    \\n\\n    \\n    \\n    \\n      <div class=\"base-card relative w-full hover:no-underline focus:no-underline base-card--link base-search-card base-search-card--link job-search-card\" data-entity-urn=\"urn:li:jobPosting:3684331986\" data-search-id=\"OXmXWvlmYLyoGa9rXvGdgw==\" data-tracking-id=\"7gImXILUy4g6bbNkGo2huQ==\" data-column=\"1\" data-row=\"2\" data-visible-time=\"1693943447483\" data-largest-intersection-ratio=\"0.44106370210647583\">\\n        \\n\\n        <a class=\"base-card__full-link absolute top-0 right-0 bottom-0 left-0 p-0 z-[2]\" href=\"https://in.linkedin.com/jobs/view/artificial-intelligence-role-at-dubai-jobs-gulf-jobs-jobs-in-dubai-qatar-kuwait-boyen-haddin-the-giant-hr-consultant-3684331986?refId=OXmXWvlmYLyoGa9rXvGdgw%3D%3D&amp;trackingId=7gImXILUy4g6bbNkGo2huQ%3D%3D&amp;position=2&amp;pageNum=0&amp;trk=public_jobs_jserp-result_search-card\" data-tracking-control-name=\"public_jobs_jserp-result_search-card\" data-tracking-client-ingraph=\"\" data-tracking-will-navigate=\"\">\\n          \\n          <span class=\"sr-only\">\\n              \\n        \\n        Artificial Intelligence Role\\n      \\n      \\n          </span>\\n        </a>\\n\\n      \\n        \\n    <div class=\"search-entity-media\">\\n        \\n      <img class=\"artdeco-entity-image artdeco-entity-image--square-4\" data-ghost-classes=\"artdeco-entity-image--ghost\" data-ghost-url=\"https://static.licdn.com/aero-v1/sc/h/9a9u41thxt325ucfh5z8ga4m8\" alt=\"\" aria-busy=\"true\" src=\"https://media.licdn.com/dms/image/C510BAQFG2Jjzv2N55A/company-logo_100_100/0/1587499077330?e=2147483647&amp;v=beta&amp;t=0jgsXHyTR-0REntuaf13Jdae-KnVhrEd2yz6AXM-fL0\">\\n  \\n    </div>\\n  \\n\\n        <div class=\"base-search-card__info\">\\n          <h3 class=\"base-search-card__title\">\\n            \\n        Artificial Intelligence Role\\n      \\n          </h3>\\n\\n            <h4 class=\"base-search-card__subtitle\">\\n              \\n          <a class=\"hidden-nested-link\" data-tracking-client-ingraph=\"\" data-tracking-control-name=\"public_jobs_jserp-result_job-search-card-subtitle\" data-tracking-will-navigate=\"\" href=\"https://in.linkedin.com/company/boyenhaddin?trk=public_jobs_jserp-result_job-search-card-subtitle\">\\n            Dubai Jobs, Gulf Jobs, Jobs in Dubai, Qatar, Kuwait - Boyen Haddin &amp; The Giant HR Consultant\\n          </a>\\n      \\n            </h4>\\n\\n<!---->\\n            <div class=\"base-search-card__metadata\">\\n              \\n          <span class=\"job-search-card__location\">\\n            Mumbai, Maharashtra, India\\n          </span>\\n\\n<!---->\\n          <div class=\"job-search-card__benefits\">\\n            \\n                      \\n    \\n    \\n    \\n    \\n\\n    <div class=\"result-benefits\">\\n      <icon class=\"result-benefits__icon\" data-delayed-url=\"https://static.licdn.com/aero-v1/sc/h/ee2elqv6ktdjhlrxiyhac6py6\" data-svg-class-name=\"result-benefits__icon-svg\"></icon>\\n      <span class=\"result-benefits__text\">\\n         Be an early applicant\\n<!---->      </span>\\n    </div>\\n  \\n                  \\n          </div>\\n\\n<!---->\\n          <time class=\"job-search-card__listdate\" datetime=\"2023-08-04\">\\n            \\n\\n    \\n    \\n    \\n    \\n    \\n    \\n    \\n    \\n    \\n    \\n    \\n    \\n    \\n    \\n    \\n    \\n\\n    \\n    \\n    \\n    \\n    \\n    \\n    \\n    \\n    \\n    \\n    \\n    \\n    \\n    \\n\\n      1 month ago\\n  \\n          </time>\\n\\n<!---->      \\n            </div>\\n        </div>\\n<!---->      \\n    \\n      </div>\\n  \\n  \\n  \\n  \\n              </li>\\n              <li>\\n                \\n\\n    \\n\\n    \\n    \\n    \\n      <div class=\"base-card relative w-full hover:no-underline focus:no-underline base-card--link base-search-card base-search-card--link job-search-card\" data-entity-urn=\"urn:li:jobPosting:3635925053\" data-search-id=\"OXmXWvlmYLyoGa9rXvGdgw==\" data-tracking-id=\"ReYjgSuo+pH/fB8fjuSgMw==\" data-column=\"1\" data-row=\"3\">\\n        \\n\\n        <a class=\"base-card__full-link absolute top-0 right-0 bottom-0 left-0 p-0 z-[2]\" href=\"https://in.linkedin.com/jobs/view/ai-ml-data-scientist-at-experfy-3635925053?refId=OXmXWvlmYLyoGa9rXvGdgw%3D%3D&amp;trackingId=ReYjgSuo%2BpH%2FfB8fjuSgMw%3D%3D&amp;position=3&amp;pageNum=0&amp;trk=public_jobs_jserp-result_search-card\" data-tracking-control-name=\"public_jobs_jserp-result_search-card\" data-tracking-client-ingraph=\"\" data-tracking-will-navigate=\"\">\\n          \\n          <span class=\"sr-only\">\\n              \\n        \\n        AI/ML Data Scientist\\n      \\n      \\n          </span>\\n        </a>\\n\\n      \\n        \\n    <div class=\"search-entity-media\">\\n        \\n      <img class=\"artdeco-entity-image artdeco-entity-image--square-4\\n          \" data-delayed-url=\"https://media.licdn.com/dms/image/C4E0BAQG4JiOTwM6MIQ/company-logo_100_100/0/1519904723718?e=2147483647&amp;v=beta&amp;t=yEB7iznoRKdeena4GLWpRZlIqfANRI3oe_Hrc33d8E8\" data-ghost-classes=\"artdeco-entity-image--ghost\" data-ghost-url=\"https://static.licdn.com/aero-v1/sc/h/9a9u41thxt325ucfh5z8ga4m8\" alt=\"\">\\n  \\n    </div>\\n  \\n\\n        <div class=\"base-search-card__info\">\\n          <h3 class=\"base-search-card__title\">\\n            \\n        AI/ML Data Scientist\\n      \\n          </h3>\\n\\n            <h4 class=\"base-search-card__subtitle\">\\n              \\n          <a class=\"hidden-nested-link\" data-tracking-client-ingraph=\"\" data-tracking-control-name=\"public_jobs_jserp-result_job-search-card-subtitle\" data-tracking-will-navigate=\"\" href=\"https://www.linkedin.com/company/experfy?trk=public_jobs_jserp-result_job-search-card-subtitle\">\\n            Experfy\\n          </a>\\n      \\n            </h4>\\n\\n<!---->\\n            <div class=\"base-search-card__metadata\">\\n              \\n          <span class=\"job-search-card__location\">\\n            Bengaluru, Karnataka, India\\n          </span>\\n\\n<!---->\\n<!---->\\n<!---->\\n          <time class=\"job-search-card__listdate\" datetime=\"2023-05-20\">\\n            \\n\\n    \\n    \\n    \\n    \\n    \\n    \\n    \\n    \\n    \\n    \\n    \\n    \\n    \\n    \\n    \\n    \\n\\n    \\n    \\n    \\n    \\n    \\n    \\n    \\n    \\n    \\n    \\n    \\n    \\n    \\n    \\n\\n      3 months ago\\n  \\n          </time>\\n\\n<!---->      \\n            </div>\\n        </div>\\n<!---->      \\n    \\n      </div>\\n  \\n  \\n  \\n  \\n              </li>\\n              <li>\\n                \\n\\n    \\n\\n    \\n    \\n    \\n      <div class=\"base-card relative w-full hover:no-underline focus:no-underline base-card--link base-search-card base-search-card--link job-search-card\" data-entity-urn=\"urn:li:jobPosting:3689924894\" data-search-id=\"OXmXWvlmYLyoGa9rXvGdgw==\" data-tracking-id=\"V1uO15eelvbRUOsheKZ7WA==\" data-column=\"1\" data-row=\"4\">\\n        \\n\\n        <a class=\"base-card__full-link absolute top-0 right-0 bottom-0 left-0 p-0 z-[2]\" href=\"https://in.linkedin.com/jobs/view/nltk-corenlp-at-zensar-technologies-3689924894?refId=OXmXWvlmYLyoGa9rXvGdgw%3D%3D&amp;trackingId=V1uO15eelvbRUOsheKZ7WA%3D%3D&amp;position=4&amp;pageNum=0&amp;trk=public_jobs_jserp-result_search-card\" data-tracking-control-name=\"public_jobs_jserp-result_search-card\" data-tracking-client-ingraph=\"\" data-tracking-will-navigate=\"\">\\n          \\n          <span class=\"sr-only\">\\n              \\n        \\n        NLTK, CORENLP\\n      \\n      \\n          </span>\\n        </a>\\n\\n      \\n        \\n    <div class=\"search-entity-media\">\\n        \\n      <img class=\"artdeco-entity-image artdeco-entity-image--square-4\\n          \" data-delayed-url=\"https://media.licdn.com/dms/image/C4D0BAQFls229vaDjDg/company-logo_100_100/0/1657181446989?e=2147483647&amp;v=beta&amp;t=04e0zP5K6GmUPrde79VWxKGdhGRO9oZVthQdBVLpkJI\" data-ghost-classes=\"artdeco-entity-image--ghost\" data-ghost-url=\"https://static.licdn.com/aero-v1/sc/h/9a9u41thxt325ucfh5z8ga4m8\" alt=\"\">\\n  \\n    </div>\\n  \\n\\n        <div class=\"base-search-card__info\">\\n          <h3 class=\"base-search-card__title\">\\n            \\n        NLTK, CORENLP\\n      \\n          </h3>\\n\\n            <h4 class=\"base-search-card__subtitle\">\\n              \\n          <a class=\"hidden-nested-link\" data-tracking-client-ingraph=\"\" data-tracking-control-name=\"public_jobs_jserp-result_job-search-card-subtitle\" data-tracking-will-navigate=\"\" href=\"https://in.linkedin.com/company/zensar?trk=public_jobs_jserp-result_job-search-card-subtitle\">\\n            Zensar Technologies\\n          </a>\\n      \\n            </h4>\\n\\n<!---->\\n            <div class=\"base-search-card__metadata\">\\n              \\n          <span class=\"job-search-card__location\">\\n            Pune/Pimpri-Chinchwad Area\\n          </span>\\n\\n<!---->\\n          <div class=\"job-search-card__benefits\">\\n            \\n                      \\n    \\n    \\n    \\n    \\n\\n    <div class=\"result-benefits\">\\n      <icon class=\"result-benefits__icon\" data-delayed-url=\"https://static.licdn.com/aero-v1/sc/h/1pwj7aot6lxrfhr9sdta6cnxw\" data-svg-class-name=\"result-benefits__icon-svg\"></icon>\\n      <span class=\"result-benefits__text\">\\n         Actively Hiring\\n<!---->      </span>\\n    </div>\\n  \\n                  \\n          </div>\\n\\n<!---->\\n          <time class=\"job-search-card__listdate\" datetime=\"2023-08-31\">\\n            \\n\\n    \\n    \\n    \\n    \\n    \\n    \\n    \\n    \\n    \\n    \\n    \\n    \\n    \\n    \\n    \\n    \\n\\n    \\n    \\n    \\n    \\n    \\n    \\n    \\n    \\n    \\n    \\n    \\n    \\n    \\n    \\n\\n      5 days ago\\n  \\n          </time>\\n\\n<!---->      \\n            </div>\\n        </div>\\n<!---->      \\n    \\n      </div>\\n  \\n  \\n  \\n  \\n              </li>\\n              <li>\\n                \\n\\n    \\n\\n    \\n    \\n    \\n      <div class=\"base-card relative w-full hover:no-underline focus:no-underline base-card--link base-search-card base-search-card--link job-search-card\" data-entity-urn=\"urn:li:jobPosting:3646954637\" data-search-id=\"OXmXWvlmYLyoGa9rXvGdgw==\" data-tracking-id=\"nLr1bmvZX9nhj0/MQQrJdw==\" data-column=\"1\" data-row=\"5\">\\n        \\n\\n        <a class=\"base-card__full-link absolute top-0 right-0 bottom-0 left-0 p-0 z-[2]\" href=\"https://in.linkedin.com/jobs/view/deep-learning-engineer-internship-at-hyperverge-3646954637?refId=OXmXWvlmYLyoGa9rXvGdgw%3D%3D&amp;trackingId=nLr1bmvZX9nhj0%2FMQQrJdw%3D%3D&amp;position=5&amp;pageNum=0&amp;trk=public_jobs_jserp-result_search-card\" data-tracking-control-name=\"public_jobs_jserp-result_search-card\" data-tracking-client-ingraph=\"\" data-tracking-will-navigate=\"\">\\n          \\n          <span class=\"sr-only\">\\n              \\n        \\n        Deep Learning Engineer (Internship)\\n      \\n      \\n          </span>\\n        </a>\\n\\n      \\n        \\n    <div class=\"search-entity-media\">\\n        \\n      <img class=\"artdeco-entity-image artdeco-entity-image--square-4\\n          \" data-delayed-url=\"https://media.licdn.com/dms/image/C4D0BAQHhZJMfBcQmdg/company-logo_100_100/0/1622726325688?e=2147483647&amp;v=beta&amp;t=w93TEvPYl5Q0H5jZFMDdgSwreGrYmUvpM5MEvHXYWpo\" data-ghost-classes=\"artdeco-entity-image--ghost\" data-ghost-url=\"https://static.licdn.com/aero-v1/sc/h/9a9u41thxt325ucfh5z8ga4m8\" alt=\"\">\\n  \\n    </div>\\n  \\n\\n        <div class=\"base-search-card__info\">\\n          <h3 class=\"base-search-card__title\">\\n            \\n        Deep Learning Engineer (Internship)\\n      \\n          </h3>\\n\\n            <h4 class=\"base-search-card__subtitle\">\\n              \\n          <a class=\"hidden-nested-link\" data-tracking-client-ingraph=\"\" data-tracking-control-name=\"public_jobs_jserp-result_job-search-card-subtitle\" data-tracking-will-navigate=\"\" href=\"https://www.linkedin.com/company/hyperverge-inc-?trk=public_jobs_jserp-result_job-search-card-subtitle\">\\n            HyperVerge\\n          </a>\\n      \\n            </h4>\\n\\n<!---->\\n            <div class=\"base-search-card__metadata\">\\n              \\n          <span class=\"job-search-card__location\">\\n            Bengaluru, Karnataka, India\\n          </span>\\n\\n<!---->\\n          <div class=\"job-search-card__benefits\">\\n            \\n                      \\n    \\n    \\n    \\n    \\n\\n    <div class=\"result-benefits\">\\n      <icon class=\"result-benefits__icon\" data-delayed-url=\"https://static.licdn.com/aero-v1/sc/h/1pwj7aot6lxrfhr9sdta6cnxw\" data-svg-class-name=\"result-benefits__icon-svg\"></icon>\\n      <span class=\"result-benefits__text\">\\n         Actively Hiring\\n<!---->      </span>\\n    </div>\\n  \\n                  \\n          </div>\\n\\n<!---->\\n          <time class=\"job-search-card__listdate\" datetime=\"2023-06-26\">\\n            \\n\\n    \\n    \\n    \\n    \\n    \\n    \\n    \\n    \\n    \\n    \\n    \\n    \\n    \\n    \\n    \\n    \\n\\n    \\n    \\n    \\n    \\n    \\n    \\n    \\n    \\n    \\n    \\n    \\n    \\n    \\n    \\n\\n      2 months ago\\n  \\n          </time>\\n\\n<!---->      \\n            </div>\\n        </div>\\n<!---->      \\n    \\n      </div>\\n  \\n  \\n  \\n  \\n              </li>\\n              <li>\\n                \\n\\n    \\n\\n    \\n    \\n    \\n      <div class=\"base-card relative w-full hover:no-underline focus:no-underline base-card--link base-search-card base-search-card--link job-search-card\" data-entity-urn=\"urn:li:jobPosting:3690531271\" data-search-id=\"OXmXWvlmYLyoGa9rXvGdgw==\" data-tracking-id=\"YU2QZMAYazRNFs9gDVwLIg==\" data-column=\"1\" data-row=\"6\">\\n        \\n\\n        <a class=\"base-card__full-link absolute top-0 right-0 bottom-0 left-0 p-0 z-[2]\" href=\"https://in.linkedin.com/jobs/view/ai-ml-at-triarq-health-india-3690531271?refId=OXmXWvlmYLyoGa9rXvGdgw%3D%3D&amp;trackingId=YU2QZMAYazRNFs9gDVwLIg%3D%3D&amp;position=6&amp;pageNum=0&amp;trk=public_jobs_jserp-result_search-card\" data-tracking-control-name=\"public_jobs_jserp-result_search-card\" data-tracking-client-ingraph=\"\" data-tracking-will-navigate=\"\">\\n          \\n          <span class=\"sr-only\">\\n              \\n        \\n        AI/ML\\n      \\n      \\n          </span>\\n        </a>\\n\\n      \\n        \\n    <div class=\"search-entity-media\">\\n        \\n      <img class=\"artdeco-entity-image artdeco-entity-image--square-4\\n          \" data-delayed-url=\"https://media.licdn.com/dms/image/C4E0BAQElPSivLXx8Jg/company-logo_100_100/0/1638373814853?e=2147483647&amp;v=beta&amp;t=K5PLO4ulmhiFsSf3_d6UhRSvBwh317N7c5GRn9UwiE0\" data-ghost-classes=\"artdeco-entity-image--ghost\" data-ghost-url=\"https://static.licdn.com/aero-v1/sc/h/9a9u41thxt325ucfh5z8ga4m8\" alt=\"\">\\n  \\n    </div>\\n  \\n\\n        <div class=\"base-search-card__info\">\\n          <h3 class=\"base-search-card__title\">\\n            \\n        AI/ML\\n      \\n          </h3>\\n\\n            <h4 class=\"base-search-card__subtitle\">\\n              \\n          <a class=\"hidden-nested-link\" data-tracking-client-ingraph=\"\" data-tracking-control-name=\"public_jobs_jserp-result_job-search-card-subtitle\" data-tracking-will-navigate=\"\" href=\"https://in.linkedin.com/company/triarq-health-india?trk=public_jobs_jserp-result_job-search-card-subtitle\">\\n            TRIARQ Health India\\n          </a>\\n      \\n            </h4>\\n\\n<!---->\\n            <div class=\"base-search-card__metadata\">\\n              \\n          <span class=\"job-search-card__location\">\\n            Pune, Maharashtra, India\\n          </span>\\n\\n<!---->\\n          <div class=\"job-search-card__benefits\">\\n            \\n                      \\n    \\n    \\n    \\n    \\n\\n    <div class=\"result-benefits\">\\n      <icon class=\"result-benefits__icon\" data-delayed-url=\"https://static.licdn.com/aero-v1/sc/h/1pwj7aot6lxrfhr9sdta6cnxw\" data-svg-class-name=\"result-benefits__icon-svg\"></icon>\\n      <span class=\"result-benefits__text\">\\n         Actively Hiring\\n<!---->      </span>\\n    </div>\\n  \\n                  \\n          </div>\\n\\n<!---->\\n          <time class=\"job-search-card__listdate\" datetime=\"2023-08-14\">\\n            \\n\\n    \\n    \\n    \\n    \\n    \\n    \\n    \\n    \\n    \\n    \\n    \\n    \\n    \\n    \\n    \\n    \\n\\n    \\n    \\n    \\n    \\n    \\n    \\n    \\n    \\n    \\n    \\n    \\n    \\n    \\n    \\n\\n      3 weeks ago\\n  \\n          </time>\\n\\n<!---->      \\n            </div>\\n        </div>\\n<!---->      \\n    \\n      </div>\\n  \\n  \\n  \\n  \\n              </li>\\n              <li>\\n                \\n\\n    \\n\\n    \\n    \\n    \\n      <div class=\"base-card relative w-full hover:no-underline focus:no-underline base-card--link base-search-card base-search-card--link job-search-card\" data-entity-urn=\"urn:li:jobPosting:3706258104\" data-search-id=\"OXmXWvlmYLyoGa9rXvGdgw==\" data-tracking-id=\"ERuUhoDzKsbKBqBqT6zkWw==\" data-column=\"1\" data-row=\"7\">\\n        \\n\\n        <a class=\"base-card__full-link absolute top-0 right-0 bottom-0 left-0 p-0 z-[2]\" href=\"https://in.linkedin.com/jobs/view/machine-learning-artificial-intelligence-engineer-at-view-inc-3706258104?refId=OXmXWvlmYLyoGa9rXvGdgw%3D%3D&amp;trackingId=ERuUhoDzKsbKBqBqT6zkWw%3D%3D&amp;position=7&amp;pageNum=0&amp;trk=public_jobs_jserp-result_search-card\" data-tracking-control-name=\"public_jobs_jserp-result_search-card\" data-tracking-client-ingraph=\"\" data-tracking-will-navigate=\"\">\\n          \\n          <span class=\"sr-only\">\\n              \\n        \\n        Machine Learning / Artificial Intelligence Engineer\\n      \\n      \\n          </span>\\n        </a>\\n\\n      \\n        \\n    <div class=\"search-entity-media\">\\n        \\n      <img class=\"artdeco-entity-image artdeco-entity-image--square-4\\n          \" data-delayed-url=\"https://media.licdn.com/dms/image/C560BAQFQCuNp8SKnpQ/company-logo_100_100/0/1533152451224?e=2147483647&amp;v=beta&amp;t=0AzmaMdusrWWc4Ae2CSI96z6E3yYL_CCGVGkZ2xB7sQ\" data-ghost-classes=\"artdeco-entity-image--ghost\" data-ghost-url=\"https://static.licdn.com/aero-v1/sc/h/9a9u41thxt325ucfh5z8ga4m8\" alt=\"\">\\n  \\n    </div>\\n  \\n\\n        <div class=\"base-search-card__info\">\\n          <h3 class=\"base-search-card__title\">\\n            \\n        Machine Learning / Artificial Intelligence Engineer\\n      \\n          </h3>\\n\\n            <h4 class=\"base-search-card__subtitle\">\\n              \\n          <a class=\"hidden-nested-link\" data-tracking-client-ingraph=\"\" data-tracking-control-name=\"public_jobs_jserp-result_job-search-card-subtitle\" data-tracking-will-navigate=\"\" href=\"https://www.linkedin.com/company/viewinc?trk=public_jobs_jserp-result_job-search-card-subtitle\">\\n            View, Inc.\\n          </a>\\n      \\n            </h4>\\n\\n<!---->\\n            <div class=\"base-search-card__metadata\">\\n              \\n          <span class=\"job-search-card__location\">\\n            Chennai, Tamil Nadu, India\\n          </span>\\n\\n<!---->\\n          <div class=\"job-search-card__benefits\">\\n            \\n                      \\n    \\n    \\n    \\n    \\n\\n    <div class=\"result-benefits\">\\n      <icon class=\"result-benefits__icon\" data-delayed-url=\"https://static.licdn.com/aero-v1/sc/h/1pwj7aot6lxrfhr9sdta6cnxw\" data-svg-class-name=\"result-benefits__icon-svg\"></icon>\\n      <span class=\"result-benefits__text\">\\n         Actively Hiring\\n<!---->      </span>\\n    </div>\\n  \\n                  \\n          </div>\\n\\n<!---->\\n          <time class=\"job-search-card__listdate\" datetime=\"2023-08-28\">\\n            \\n\\n    \\n    \\n    \\n    \\n    \\n    \\n    \\n    \\n    \\n    \\n    \\n    \\n    \\n    \\n    \\n    \\n\\n    \\n    \\n    \\n    \\n    \\n    \\n    \\n    \\n    \\n    \\n    \\n    \\n    \\n    \\n\\n      1 week ago\\n  \\n          </time>\\n\\n<!---->      \\n            </div>\\n        </div>\\n<!---->      \\n    \\n      </div>\\n  \\n  \\n  \\n  \\n              </li>\\n              <li>\\n                \\n\\n    \\n\\n    \\n    \\n    \\n      <div class=\"base-card relative w-full hover:no-underline focus:no-underline base-card--link base-search-card base-search-card--link job-search-card\" data-entity-urn=\"urn:li:jobPosting:3706073131\" data-search-id=\"OXmXWvlmYLyoGa9rXvGdgw==\" data-tracking-id=\"Z71u7Mn0hgwXkuva3BTpPQ==\" data-column=\"1\" data-row=\"8\">\\n        \\n\\n        <a class=\"base-card__full-link absolute top-0 right-0 bottom-0 left-0 p-0 z-[2]\" href=\"https://in.linkedin.com/jobs/view/ai-software-developer-at-effizient-inc-3706073131?refId=OXmXWvlmYLyoGa9rXvGdgw%3D%3D&amp;trackingId=Z71u7Mn0hgwXkuva3BTpPQ%3D%3D&amp;position=8&amp;pageNum=0&amp;trk=public_jobs_jserp-result_search-card\" data-tracking-control-name=\"public_jobs_jserp-result_search-card\" data-tracking-client-ingraph=\"\" data-tracking-will-navigate=\"\">\\n          \\n          <span class=\"sr-only\">\\n              \\n        \\n        AI Software Developer\\n      \\n      \\n          </span>\\n        </a>\\n\\n      \\n        \\n    <div class=\"search-entity-media\">\\n        \\n      <img class=\"artdeco-entity-image artdeco-entity-image--square-4\\n          \" data-delayed-url=\"https://media.licdn.com/dms/image/C560BAQFRiJDWq6U_fg/company-logo_100_100/0/1583191315905?e=2147483647&amp;v=beta&amp;t=2Vo4IRSw--rtsaNRz7Us-2YF2JIYOCa418vJIPYo6-s\" data-ghost-classes=\"artdeco-entity-image--ghost\" data-ghost-url=\"https://static.licdn.com/aero-v1/sc/h/9a9u41thxt325ucfh5z8ga4m8\" alt=\"\">\\n  \\n    </div>\\n  \\n\\n        <div class=\"base-search-card__info\">\\n          <h3 class=\"base-search-card__title\">\\n            \\n        AI Software Developer\\n      \\n          </h3>\\n\\n            <h4 class=\"base-search-card__subtitle\">\\n              \\n          <a class=\"hidden-nested-link\" data-tracking-client-ingraph=\"\" data-tracking-control-name=\"public_jobs_jserp-result_job-search-card-subtitle\" data-tracking-will-navigate=\"\" href=\"https://ca.linkedin.com/company/effizient-immigration-inc?trk=public_jobs_jserp-result_job-search-card-subtitle\">\\n            Effizient Inc.\\n          </a>\\n      \\n            </h4>\\n\\n<!---->\\n            <div class=\"base-search-card__metadata\">\\n              \\n          <span class=\"job-search-card__location\">\\n            Tamil Nadu, India\\n          </span>\\n\\n<!---->\\n<!---->\\n<!---->\\n          <time class=\"job-search-card__listdate\" datetime=\"2023-08-28\">\\n            \\n\\n    \\n    \\n    \\n    \\n    \\n    \\n    \\n    \\n    \\n    \\n    \\n    \\n    \\n    \\n    \\n    \\n\\n    \\n    \\n    \\n    \\n    \\n    \\n    \\n    \\n    \\n    \\n    \\n    \\n    \\n    \\n\\n      1 week ago\\n  \\n          </time>\\n\\n<!---->      \\n            </div>\\n        </div>\\n<!---->      \\n    \\n      </div>\\n  \\n  \\n  \\n  \\n              </li>\\n              <li>\\n                \\n\\n    \\n\\n    \\n    \\n    \\n      <div class=\"base-card relative w-full hover:no-underline focus:no-underline base-card--link base-search-card base-search-card--link job-search-card\" data-entity-urn=\"urn:li:jobPosting:3534582229\" data-search-id=\"OXmXWvlmYLyoGa9rXvGdgw==\" data-tracking-id=\"K0/SU6Tu/CdN32rNH9bdBQ==\" data-column=\"1\" data-row=\"9\">\\n        \\n\\n        <a class=\"base-card__full-link absolute top-0 right-0 bottom-0 left-0 p-0 z-[2]\" href=\"https://in.linkedin.com/jobs/view/python-ml-ai-at-nustar-technologies-3534582229?refId=OXmXWvlmYLyoGa9rXvGdgw%3D%3D&amp;trackingId=K0%2FSU6Tu%2FCdN32rNH9bdBQ%3D%3D&amp;position=9&amp;pageNum=0&amp;trk=public_jobs_jserp-result_search-card\" data-tracking-control-name=\"public_jobs_jserp-result_search-card\" data-tracking-client-ingraph=\"\" data-tracking-will-navigate=\"\">\\n          \\n          <span class=\"sr-only\">\\n              \\n        \\n        Python/ML/AI\\n      \\n      \\n          </span>\\n        </a>\\n\\n      \\n        \\n    <div class=\"search-entity-media\">\\n        \\n      <img class=\"artdeco-entity-image artdeco-entity-image--square-4\\n          \" data-delayed-url=\"https://media.licdn.com/dms/image/D4E0BAQGgmYkf7MOf_g/company-logo_100_100/0/1664650883119?e=2147483647&amp;v=beta&amp;t=wyiE5KNOlP9YhV6kJv9qy-1S4aQmFoyfqzoejU2Pq24\" data-ghost-classes=\"artdeco-entity-image--ghost\" data-ghost-url=\"https://static.licdn.com/aero-v1/sc/h/9a9u41thxt325ucfh5z8ga4m8\" alt=\"\">\\n  \\n    </div>\\n  \\n\\n        <div class=\"base-search-card__info\">\\n          <h3 class=\"base-search-card__title\">\\n            \\n        Python/ML/AI\\n      \\n          </h3>\\n\\n            <h4 class=\"base-search-card__subtitle\">\\n              \\n          <a class=\"hidden-nested-link\" data-tracking-client-ingraph=\"\" data-tracking-control-name=\"public_jobs_jserp-result_job-search-card-subtitle\" data-tracking-will-navigate=\"\" href=\"https://www.linkedin.com/company/nustar-technologies-inc.?trk=public_jobs_jserp-result_job-search-card-subtitle\">\\n            NuStar Technologies\\n          </a>\\n      \\n            </h4>\\n\\n<!---->\\n            <div class=\"base-search-card__metadata\">\\n              \\n          <span class=\"job-search-card__location\">\\n            Thiruvananthapuram, Kerala, India\\n          </span>\\n\\n<!---->\\n          <div class=\"job-search-card__benefits\">\\n            \\n                      \\n    \\n    \\n    \\n    \\n\\n    <div class=\"result-benefits\">\\n      <icon class=\"result-benefits__icon\" data-delayed-url=\"https://static.licdn.com/aero-v1/sc/h/1pwj7aot6lxrfhr9sdta6cnxw\" data-svg-class-name=\"result-benefits__icon-svg\"></icon>\\n      <span class=\"result-benefits__text\">\\n         Actively Hiring\\n<!---->      </span>\\n    </div>\\n  \\n                  \\n          </div>\\n\\n<!---->\\n          <time class=\"job-search-card__listdate\" datetime=\"2023-03-22\">\\n            \\n\\n    \\n    \\n    \\n    \\n    \\n    \\n    \\n    \\n    \\n    \\n    \\n    \\n    \\n    \\n    \\n    \\n\\n    \\n    \\n    \\n    \\n    \\n    \\n    \\n    \\n    \\n    \\n    \\n    \\n    \\n    \\n\\n      5 months ago\\n  \\n          </time>\\n\\n<!---->      \\n            </div>\\n        </div>\\n<!---->      \\n    \\n      </div>\\n  \\n  \\n  \\n  \\n              </li>\\n              <li>\\n                \\n\\n    \\n\\n    \\n    \\n    \\n      <div class=\"base-card relative w-full hover:no-underline focus:no-underline base-card--link base-search-card base-search-card--link job-search-card\" data-entity-urn=\"urn:li:jobPosting:3671924282\" data-search-id=\"OXmXWvlmYLyoGa9rXvGdgw==\" data-tracking-id=\"a951DQiqvzmVg6Y3zLvjbQ==\" data-column=\"1\" data-row=\"10\">\\n        \\n\\n        <a class=\"base-card__full-link absolute top-0 right-0 bottom-0 left-0 p-0 z-[2]\" href=\"https://in.linkedin.com/jobs/view/ai-ml-at-changeleaders-in-3671924282?refId=OXmXWvlmYLyoGa9rXvGdgw%3D%3D&amp;trackingId=a951DQiqvzmVg6Y3zLvjbQ%3D%3D&amp;position=10&amp;pageNum=0&amp;trk=public_jobs_jserp-result_search-card\" data-tracking-control-name=\"public_jobs_jserp-result_search-card\" data-tracking-client-ingraph=\"\" data-tracking-will-navigate=\"\">\\n          \\n          <span class=\"sr-only\">\\n              \\n        \\n        AI/ML\\n      \\n      \\n          </span>\\n        </a>\\n\\n      \\n        \\n    <div class=\"search-entity-media\">\\n        \\n      <img class=\"artdeco-entity-image artdeco-entity-image--square-4\\n          \" data-delayed-url=\"https://media.licdn.com/dms/image/C560BAQHJBk6qu2-dhw/company-logo_100_100/0/1588230150518?e=2147483647&amp;v=beta&amp;t=oCsFlR29A3wcXCtdOIwzkBXPs4aQqRqAR4D565RCpxw\" data-ghost-classes=\"artdeco-entity-image--ghost\" data-ghost-url=\"https://static.licdn.com/aero-v1/sc/h/9a9u41thxt325ucfh5z8ga4m8\" alt=\"\">\\n  \\n    </div>\\n  \\n\\n        <div class=\"base-search-card__info\">\\n          <h3 class=\"base-search-card__title\">\\n            \\n        AI/ML\\n      \\n          </h3>\\n\\n            <h4 class=\"base-search-card__subtitle\">\\n              \\n          <a class=\"hidden-nested-link\" data-tracking-client-ingraph=\"\" data-tracking-control-name=\"public_jobs_jserp-result_job-search-card-subtitle\" data-tracking-will-navigate=\"\" href=\"https://in.linkedin.com/company/changeleaders?trk=public_jobs_jserp-result_job-search-card-subtitle\">\\n            Changeleaders.in\\n          </a>\\n      \\n            </h4>\\n\\n<!---->\\n            <div class=\"base-search-card__metadata\">\\n              \\n          <span class=\"job-search-card__location\">\\n            Pune/Pimpri-Chinchwad Area\\n          </span>\\n\\n<!---->\\n          <div class=\"job-search-card__benefits\">\\n            \\n                      \\n    \\n    \\n    \\n    \\n\\n    <div class=\"result-benefits\">\\n      <icon class=\"result-benefits__icon\" data-delayed-url=\"https://static.licdn.com/aero-v1/sc/h/1pwj7aot6lxrfhr9sdta6cnxw\" data-svg-class-name=\"result-benefits__icon-svg\"></icon>\\n      <span class=\"result-benefits__text\">\\n         Actively Hiring\\n<!---->      </span>\\n    </div>\\n  \\n                  \\n          </div>\\n\\n<!---->\\n          <time class=\"job-search-card__listdate\" datetime=\"2023-07-21\">\\n            \\n\\n    \\n    \\n    \\n    \\n    \\n    \\n    \\n    \\n    \\n    \\n    \\n    \\n    \\n    \\n    \\n    \\n\\n    \\n    \\n    \\n    \\n    \\n    \\n    \\n    \\n    \\n    \\n    \\n    \\n    \\n    \\n\\n      1 month ago\\n  \\n          </time>\\n\\n<!---->      \\n            </div>\\n        </div>\\n<!---->      \\n    \\n      </div>\\n  \\n  \\n  \\n  \\n              </li>\\n              <li>\\n                \\n\\n    \\n\\n    \\n    \\n    \\n      <div class=\"base-card relative w-full hover:no-underline focus:no-underline base-card--link base-search-card base-search-card--link job-search-card\" data-entity-urn=\"urn:li:jobPosting:3679282127\" data-search-id=\"OXmXWvlmYLyoGa9rXvGdgw==\" data-tracking-id=\"u+sVHMKGGB6aw5xR/TAuig==\" data-column=\"1\" data-row=\"11\">\\n        \\n\\n        <a class=\"base-card__full-link absolute top-0 right-0 bottom-0 left-0 p-0 z-[2]\" href=\"https://in.linkedin.com/jobs/view/ai-ml-at-robotronix-india-3679282127?refId=OXmXWvlmYLyoGa9rXvGdgw%3D%3D&amp;trackingId=u%2BsVHMKGGB6aw5xR%2FTAuig%3D%3D&amp;position=11&amp;pageNum=0&amp;trk=public_jobs_jserp-result_search-card\" data-tracking-control-name=\"public_jobs_jserp-result_search-card\" data-tracking-client-ingraph=\"\" data-tracking-will-navigate=\"\">\\n          \\n          <span class=\"sr-only\">\\n              \\n        \\n        AI ML\\n      \\n      \\n          </span>\\n        </a>\\n\\n      \\n        \\n    <div class=\"search-entity-media\">\\n        \\n      <img class=\"artdeco-entity-image artdeco-entity-image--square-4\\n          \" data-delayed-url=\"https://media.licdn.com/dms/image/C510BAQH33xZi24q3nQ/company-logo_100_100/0/1577456715088?e=2147483647&amp;v=beta&amp;t=RLkD6xq6aQhOcUbZiSFp2EBXYFC4buARoJQItfFcXdE\" data-ghost-classes=\"artdeco-entity-image--ghost\" data-ghost-url=\"https://static.licdn.com/aero-v1/sc/h/9a9u41thxt325ucfh5z8ga4m8\" alt=\"\">\\n  \\n    </div>\\n  \\n\\n        <div class=\"base-search-card__info\">\\n          <h3 class=\"base-search-card__title\">\\n            \\n        AI ML\\n      \\n          </h3>\\n\\n            <h4 class=\"base-search-card__subtitle\">\\n              \\n          <a class=\"hidden-nested-link\" data-tracking-client-ingraph=\"\" data-tracking-control-name=\"public_jobs_jserp-result_job-search-card-subtitle\" data-tracking-will-navigate=\"\" href=\"https://in.linkedin.com/company/robotronix-india?trk=public_jobs_jserp-result_job-search-card-subtitle\">\\n            ROBOTRONiX INDIA\\n          </a>\\n      \\n            </h4>\\n\\n<!---->\\n            <div class=\"base-search-card__metadata\">\\n              \\n          <span class=\"job-search-card__location\">\\n            Indore, Madhya Pradesh, India\\n          </span>\\n\\n          <span class=\"job-search-card__salary-info\">₹0 - ₹0</span>\\n\\n          <div class=\"job-search-card__benefits\">\\n            \\n                      \\n    \\n    \\n    \\n    \\n\\n    <div class=\"result-benefits\">\\n      <icon class=\"result-benefits__icon\" data-delayed-url=\"https://static.licdn.com/aero-v1/sc/h/ee2elqv6ktdjhlrxiyhac6py6\" data-svg-class-name=\"result-benefits__icon-svg\"></icon>\\n      <span class=\"result-benefits__text\">\\n         Be an early applicant\\n<!---->      </span>\\n    </div>\\n  \\n                  \\n          </div>\\n\\n<!---->\\n          <time class=\"job-search-card__listdate\" datetime=\"2023-07-06\">\\n            \\n\\n    \\n    \\n    \\n    \\n    \\n    \\n    \\n    \\n    \\n    \\n    \\n    \\n    \\n    \\n    \\n    \\n\\n    \\n    \\n    \\n    \\n    \\n    \\n    \\n    \\n    \\n    \\n    \\n    \\n    \\n    \\n\\n      2 months ago\\n  \\n          </time>\\n\\n<!---->      \\n            </div>\\n        </div>\\n<!---->      \\n    \\n      </div>\\n  \\n  \\n  \\n  \\n              </li>\\n              <li>\\n                \\n\\n    \\n\\n    \\n    \\n    \\n      <div class=\"base-card relative w-full hover:no-underline focus:no-underline base-card--link base-search-card base-search-card--link job-search-card\" data-entity-urn=\"urn:li:jobPosting:3687650054\" data-search-id=\"OXmXWvlmYLyoGa9rXvGdgw==\" data-tracking-id=\"zmRKxQPTiJK9KoCk08P+iw==\" data-column=\"1\" data-row=\"12\">\\n        \\n\\n        <a class=\"base-card__full-link absolute top-0 right-0 bottom-0 left-0 p-0 z-[2]\" href=\"https://in.linkedin.com/jobs/view/artificial-intelligence-engineer-machine-learning-python-r-at-dubai-jobs-gulf-jobs-jobs-in-dubai-qatar-kuwait-boyen-haddin-the-giant-hr-consultant-3687650054?refId=OXmXWvlmYLyoGa9rXvGdgw%3D%3D&amp;trackingId=zmRKxQPTiJK9KoCk08P%2Biw%3D%3D&amp;position=12&amp;pageNum=0&amp;trk=public_jobs_jserp-result_search-card\" data-tracking-control-name=\"public_jobs_jserp-result_search-card\" data-tracking-client-ingraph=\"\" data-tracking-will-navigate=\"\">\\n          \\n          <span class=\"sr-only\">\\n              \\n        \\n        Artificial Intelligence Engineer - Machine Learning/python/r\\n      \\n      \\n          </span>\\n        </a>\\n\\n      \\n        \\n    <div class=\"search-entity-media\">\\n        \\n      <img class=\"artdeco-entity-image artdeco-entity-image--square-4\\n          \" data-delayed-url=\"https://media.licdn.com/dms/image/C510BAQFG2Jjzv2N55A/company-logo_100_100/0/1587499077330?e=2147483647&amp;v=beta&amp;t=0jgsXHyTR-0REntuaf13Jdae-KnVhrEd2yz6AXM-fL0\" data-ghost-classes=\"artdeco-entity-image--ghost\" data-ghost-url=\"https://static.licdn.com/aero-v1/sc/h/9a9u41thxt325ucfh5z8ga4m8\" alt=\"\">\\n  \\n    </div>\\n  \\n\\n        <div class=\"base-search-card__info\">\\n          <h3 class=\"base-search-card__title\">\\n            \\n        Artificial Intelligence Engineer - Machine Learning/python/r\\n      \\n          </h3>\\n\\n            <h4 class=\"base-search-card__subtitle\">\\n              \\n          <a class=\"hidden-nested-link\" data-tracking-client-ingraph=\"\" data-tracking-control-name=\"public_jobs_jserp-result_job-search-card-subtitle\" data-tracking-will-navigate=\"\" href=\"https://in.linkedin.com/company/boyenhaddin?trk=public_jobs_jserp-result_job-search-card-subtitle\">\\n            Dubai Jobs, Gulf Jobs, Jobs in Dubai, Qatar, Kuwait - Boyen Haddin &amp; The Giant HR Consultant\\n          </a>\\n      \\n            </h4>\\n\\n<!---->\\n            <div class=\"base-search-card__metadata\">\\n              \\n          <span class=\"job-search-card__location\">\\n            Mumbai Metropolitan Region\\n          </span>\\n\\n<!---->\\n<!---->\\n<!---->\\n          <time class=\"job-search-card__listdate\" datetime=\"2023-08-09\">\\n            \\n\\n    \\n    \\n    \\n    \\n    \\n    \\n    \\n    \\n    \\n    \\n    \\n    \\n    \\n    \\n    \\n    \\n\\n    \\n    \\n    \\n    \\n    \\n    \\n    \\n    \\n    \\n    \\n    \\n    \\n    \\n    \\n\\n      3 weeks ago\\n  \\n          </time>\\n\\n<!---->      \\n            </div>\\n        </div>\\n<!---->      \\n    \\n      </div>\\n  \\n  \\n  \\n  \\n              </li>\\n              <li>\\n                \\n\\n    \\n\\n    \\n    \\n    \\n      <div class=\"base-card relative w-full hover:no-underline focus:no-underline base-card--link base-search-card base-search-card--link job-search-card\" data-entity-urn=\"urn:li:jobPosting:3683859967\" data-search-id=\"OXmXWvlmYLyoGa9rXvGdgw==\" data-tracking-id=\"D8JvzaCluLQDH2Ekl1/v0g==\" data-column=\"1\" data-row=\"13\">\\n        \\n\\n        <a class=\"base-card__full-link absolute top-0 right-0 bottom-0 left-0 p-0 z-[2]\" href=\"https://in.linkedin.com/jobs/view/python-developer-at-acme-services-3683859967?refId=OXmXWvlmYLyoGa9rXvGdgw%3D%3D&amp;trackingId=D8JvzaCluLQDH2Ekl1%2Fv0g%3D%3D&amp;position=13&amp;pageNum=0&amp;trk=public_jobs_jserp-result_search-card\" data-tracking-control-name=\"public_jobs_jserp-result_search-card\" data-tracking-client-ingraph=\"\" data-tracking-will-navigate=\"\">\\n          \\n          <span class=\"sr-only\">\\n              \\n        \\n        Python Developer\\n      \\n      \\n          </span>\\n        </a>\\n\\n      \\n        \\n    <div class=\"search-entity-media\">\\n        \\n      <img class=\"artdeco-entity-image artdeco-entity-image--square-4\\n          \" data-delayed-url=\"https://media.licdn.com/dms/image/C4E0BAQF0U846FN-wUg/company-logo_100_100/0/1580384523167?e=2147483647&amp;v=beta&amp;t=r8KZeDFKGzN90GQw_0NllPSqlJM8_95FZajkddjf5Q0\" data-ghost-classes=\"artdeco-entity-image--ghost\" data-ghost-url=\"https://static.licdn.com/aero-v1/sc/h/9a9u41thxt325ucfh5z8ga4m8\" alt=\"\">\\n  \\n    </div>\\n  \\n\\n        <div class=\"base-search-card__info\">\\n          <h3 class=\"base-search-card__title\">\\n            \\n        Python Developer\\n      \\n          </h3>\\n\\n            <h4 class=\"base-search-card__subtitle\">\\n              \\n          <a class=\"hidden-nested-link\" data-tracking-client-ingraph=\"\" data-tracking-control-name=\"public_jobs_jserp-result_job-search-card-subtitle\" data-tracking-will-navigate=\"\" href=\"https://in.linkedin.com/company/acmeservices?trk=public_jobs_jserp-result_job-search-card-subtitle\">\\n            Acme Services\\n          </a>\\n      \\n            </h4>\\n\\n<!---->\\n            <div class=\"base-search-card__metadata\">\\n              \\n          <span class=\"job-search-card__location\">\\n            Mumbai, Maharashtra, India\\n          </span>\\n\\n<!---->\\n          <div class=\"job-search-card__benefits\">\\n            \\n                      \\n    \\n    \\n    \\n    \\n\\n    <div class=\"result-benefits\">\\n      <icon class=\"result-benefits__icon\" data-delayed-url=\"https://static.licdn.com/aero-v1/sc/h/1pwj7aot6lxrfhr9sdta6cnxw\" data-svg-class-name=\"result-benefits__icon-svg\"></icon>\\n      <span class=\"result-benefits__text\">\\n         Actively Hiring\\n<!---->      </span>\\n    </div>\\n  \\n                  \\n          </div>\\n\\n<!---->\\n          <time class=\"job-search-card__listdate\" datetime=\"2023-07-10\">\\n            \\n\\n    \\n    \\n    \\n    \\n    \\n    \\n    \\n    \\n    \\n    \\n    \\n    \\n    \\n    \\n    \\n    \\n\\n    \\n    \\n    \\n    \\n    \\n    \\n    \\n    \\n    \\n    \\n    \\n    \\n    \\n    \\n\\n      1 month ago\\n  \\n          </time>\\n\\n<!---->      \\n            </div>\\n        </div>\\n<!---->      \\n    \\n      </div>\\n  \\n  \\n  \\n  \\n              </li>\\n              <li>\\n                \\n\\n    \\n\\n    \\n    \\n    \\n      <div class=\"base-card relative w-full hover:no-underline focus:no-underline base-card--link base-search-card base-search-card--link job-search-card\" data-entity-urn=\"urn:li:jobPosting:3675902296\" data-search-id=\"OXmXWvlmYLyoGa9rXvGdgw==\" data-tracking-id=\"PNlGSiIwWgyfAEvayh7LRg==\" data-column=\"1\" data-row=\"14\">\\n        \\n\\n        <a class=\"base-card__full-link absolute top-0 right-0 bottom-0 left-0 p-0 z-[2]\" href=\"https://in.linkedin.com/jobs/view/applied-research-scientist-intern-at-neuralspace-3675902296?refId=OXmXWvlmYLyoGa9rXvGdgw%3D%3D&amp;trackingId=PNlGSiIwWgyfAEvayh7LRg%3D%3D&amp;position=14&amp;pageNum=0&amp;trk=public_jobs_jserp-result_search-card\" data-tracking-control-name=\"public_jobs_jserp-result_search-card\" data-tracking-client-ingraph=\"\" data-tracking-will-navigate=\"\">\\n          \\n          <span class=\"sr-only\">\\n              \\n        \\n        Applied Research Scientist Intern\\n      \\n      \\n          </span>\\n        </a>\\n\\n      \\n        \\n    <div class=\"search-entity-media\">\\n        \\n      <img class=\"artdeco-entity-image artdeco-entity-image--square-4\\n          \" data-delayed-url=\"https://media.licdn.com/dms/image/D4D0BAQGpN_S0f3S7iQ/company-logo_100_100/0/1690362748587?e=2147483647&amp;v=beta&amp;t=VjdW8oQuWLTQsqtBVyrKkWI8qLpkk2eNZekBatz_CGg\" data-ghost-classes=\"artdeco-entity-image--ghost\" data-ghost-url=\"https://static.licdn.com/aero-v1/sc/h/9a9u41thxt325ucfh5z8ga4m8\" alt=\"\">\\n  \\n    </div>\\n  \\n\\n        <div class=\"base-search-card__info\">\\n          <h3 class=\"base-search-card__title\">\\n            \\n        Applied Research Scientist Intern\\n      \\n          </h3>\\n\\n            <h4 class=\"base-search-card__subtitle\">\\n              \\n          <a class=\"hidden-nested-link\" data-tracking-client-ingraph=\"\" data-tracking-control-name=\"public_jobs_jserp-result_job-search-card-subtitle\" data-tracking-will-navigate=\"\" href=\"https://uk.linkedin.com/company/neuralspace?trk=public_jobs_jserp-result_job-search-card-subtitle\">\\n            NeuralSpace\\n          </a>\\n      \\n            </h4>\\n\\n<!---->\\n            <div class=\"base-search-card__metadata\">\\n              \\n          <span class=\"job-search-card__location\">\\n            Bengaluru, Karnataka, India\\n          </span>\\n\\n<!---->\\n<!---->\\n<!---->\\n          <time class=\"job-search-card__listdate\" datetime=\"2023-07-25\">\\n            \\n\\n    \\n    \\n    \\n    \\n    \\n    \\n    \\n    \\n    \\n    \\n    \\n    \\n    \\n    \\n    \\n    \\n\\n    \\n    \\n    \\n    \\n    \\n    \\n    \\n    \\n    \\n    \\n    \\n    \\n    \\n    \\n\\n      1 month ago\\n  \\n          </time>\\n\\n<!---->      \\n            </div>\\n        </div>\\n<!---->      \\n    \\n      </div>\\n  \\n  \\n  \\n  \\n              </li>\\n              <li>\\n                \\n\\n    \\n\\n    \\n    \\n    \\n      <div class=\"base-card relative w-full hover:no-underline focus:no-underline base-card--link base-search-card base-search-card--link job-search-card\" data-entity-urn=\"urn:li:jobPosting:3682596528\" data-search-id=\"OXmXWvlmYLyoGa9rXvGdgw==\" data-tracking-id=\"XKOzgjlm+thOiNnSqH7/jw==\" data-column=\"1\" data-row=\"15\">\\n        \\n\\n        <a class=\"base-card__full-link absolute top-0 right-0 bottom-0 left-0 p-0 z-[2]\" href=\"https://in.linkedin.com/jobs/view/python-ml-and-data-mining-developer-at-victrix-systems-labs-3682596528?refId=OXmXWvlmYLyoGa9rXvGdgw%3D%3D&amp;trackingId=XKOzgjlm%2BthOiNnSqH7%2Fjw%3D%3D&amp;position=15&amp;pageNum=0&amp;trk=public_jobs_jserp-result_search-card\" data-tracking-control-name=\"public_jobs_jserp-result_search-card\" data-tracking-client-ingraph=\"\" data-tracking-will-navigate=\"\">\\n          \\n          <span class=\"sr-only\">\\n              \\n        \\n        Python ML and Data Mining Developer\\n      \\n      \\n          </span>\\n        </a>\\n\\n      \\n        \\n    <div class=\"search-entity-media\">\\n        \\n      <img class=\"artdeco-entity-image artdeco-entity-image--square-4\\n          \" data-delayed-url=\"https://media.licdn.com/dms/image/C4D0BAQFfpf5Hv2IkdQ/company-logo_100_100/0/1655188003888?e=2147483647&amp;v=beta&amp;t=GAoi-xrbA1i-wCCu9VqkJEDXzW9h67TuTh-Fvn1zA_g\" data-ghost-classes=\"artdeco-entity-image--ghost\" data-ghost-url=\"https://static.licdn.com/aero-v1/sc/h/9a9u41thxt325ucfh5z8ga4m8\" alt=\"\">\\n  \\n    </div>\\n  \\n\\n        <div class=\"base-search-card__info\">\\n          <h3 class=\"base-search-card__title\">\\n            \\n        Python ML and Data Mining Developer\\n      \\n          </h3>\\n\\n            <h4 class=\"base-search-card__subtitle\">\\n              \\n          <a class=\"hidden-nested-link\" data-tracking-client-ingraph=\"\" data-tracking-control-name=\"public_jobs_jserp-result_job-search-card-subtitle\" data-tracking-will-navigate=\"\" href=\"https://www.linkedin.com/company/victrixsystems?trk=public_jobs_jserp-result_job-search-card-subtitle\">\\n            Victrix Systems &amp; Labs\\n          </a>\\n      \\n            </h4>\\n\\n<!---->\\n            <div class=\"base-search-card__metadata\">\\n              \\n          <span class=\"job-search-card__location\">\\n            Pune, Maharashtra, India\\n          </span>\\n\\n<!---->\\n          <div class=\"job-search-card__benefits\">\\n            \\n                      \\n    \\n    \\n    \\n    \\n\\n    <div class=\"result-benefits\">\\n      <icon class=\"result-benefits__icon\" data-delayed-url=\"https://static.licdn.com/aero-v1/sc/h/ee2elqv6ktdjhlrxiyhac6py6\" data-svg-class-name=\"result-benefits__icon-svg\"></icon>\\n      <span class=\"result-benefits__text\">\\n         Be an early applicant\\n<!---->      </span>\\n    </div>\\n  \\n                  \\n          </div>\\n\\n<!---->\\n          <time class=\"job-search-card__listdate\" datetime=\"2023-07-24\">\\n            \\n\\n    \\n    \\n    \\n    \\n    \\n    \\n    \\n    \\n    \\n    \\n    \\n    \\n    \\n    \\n    \\n    \\n\\n    \\n    \\n    \\n    \\n    \\n    \\n    \\n    \\n    \\n    \\n    \\n    \\n    \\n    \\n\\n      1 month ago\\n  \\n          </time>\\n\\n<!---->      \\n            </div>\\n        </div>\\n<!---->      \\n    \\n      </div>\\n  \\n  \\n  \\n  \\n              </li>\\n              <li>\\n                \\n\\n    \\n\\n    \\n    \\n    \\n      <div class=\"base-card relative w-full hover:no-underline focus:no-underline base-card--link base-search-card base-search-card--link job-search-card\" data-entity-urn=\"urn:li:jobPosting:3682138802\" data-search-id=\"OXmXWvlmYLyoGa9rXvGdgw==\" data-tracking-id=\"Lla3UJe1UMnMsoIhcFgTYQ==\" data-column=\"1\" data-row=\"16\">\\n        \\n\\n        <a class=\"base-card__full-link absolute top-0 right-0 bottom-0 left-0 p-0 z-[2]\" href=\"https://in.linkedin.com/jobs/view/ml-ai-at-fusion-plus-solutions-inc-3682138802?refId=OXmXWvlmYLyoGa9rXvGdgw%3D%3D&amp;trackingId=Lla3UJe1UMnMsoIhcFgTYQ%3D%3D&amp;position=16&amp;pageNum=0&amp;trk=public_jobs_jserp-result_search-card\" data-tracking-control-name=\"public_jobs_jserp-result_search-card\" data-tracking-client-ingraph=\"\" data-tracking-will-navigate=\"\">\\n          \\n          <span class=\"sr-only\">\\n              \\n        \\n        ML/AI\\n      \\n      \\n          </span>\\n        </a>\\n\\n      \\n        \\n    <div class=\"search-entity-media\">\\n        \\n      <img class=\"artdeco-entity-image artdeco-entity-image--square-4\\n          \" data-delayed-url=\"https://media.licdn.com/dms/image/C4D0BAQGRIzX74nkdQQ/company-logo_100_100/0/1519909216534?e=2147483647&amp;v=beta&amp;t=kTQIVPhoi14OrT4VSJp9YA8D_9mcSyZgkAbKvENSCLI\" data-ghost-classes=\"artdeco-entity-image--ghost\" data-ghost-url=\"https://static.licdn.com/aero-v1/sc/h/9a9u41thxt325ucfh5z8ga4m8\" alt=\"\">\\n  \\n    </div>\\n  \\n\\n        <div class=\"base-search-card__info\">\\n          <h3 class=\"base-search-card__title\">\\n            \\n        ML/AI\\n      \\n          </h3>\\n\\n            <h4 class=\"base-search-card__subtitle\">\\n              \\n          <a class=\"hidden-nested-link\" data-tracking-client-ingraph=\"\" data-tracking-control-name=\"public_jobs_jserp-result_job-search-card-subtitle\" data-tracking-will-navigate=\"\" href=\"https://www.linkedin.com/company/fusion-plus-solutions-inc?trk=public_jobs_jserp-result_job-search-card-subtitle\">\\n            Fusion Plus Solutions Inc\\n          </a>\\n      \\n            </h4>\\n\\n<!---->\\n            <div class=\"base-search-card__metadata\">\\n              \\n          <span class=\"job-search-card__location\">\\n            Hyderabad, Telangana, India\\n          </span>\\n\\n<!---->\\n          <div class=\"job-search-card__benefits\">\\n            \\n                      \\n    \\n    \\n    \\n    \\n\\n    <div class=\"result-benefits\">\\n      <icon class=\"result-benefits__icon\" data-delayed-url=\"https://static.licdn.com/aero-v1/sc/h/ee2elqv6ktdjhlrxiyhac6py6\" data-svg-class-name=\"result-benefits__icon-svg\"></icon>\\n      <span class=\"result-benefits__text\">\\n         Be an early applicant\\n<!---->      </span>\\n    </div>\\n  \\n                  \\n          </div>\\n\\n<!---->\\n          <time class=\"job-search-card__listdate\" datetime=\"2023-07-10\">\\n            \\n\\n    \\n    \\n    \\n    \\n    \\n    \\n    \\n    \\n    \\n    \\n    \\n    \\n    \\n    \\n    \\n    \\n\\n    \\n    \\n    \\n    \\n    \\n    \\n    \\n    \\n    \\n    \\n    \\n    \\n    \\n    \\n\\n      1 month ago\\n  \\n          </time>\\n\\n<!---->      \\n            </div>\\n        </div>\\n<!---->      \\n    \\n      </div>\\n  \\n  \\n  \\n  \\n              </li>\\n              <li>\\n                \\n\\n    \\n\\n    \\n    \\n    \\n      <div class=\"base-card relative w-full hover:no-underline focus:no-underline base-card--link base-search-card base-search-card--link job-search-card\" data-entity-urn=\"urn:li:jobPosting:3710651854\" data-search-id=\"OXmXWvlmYLyoGa9rXvGdgw==\" data-tracking-id=\"b9Sz4XEBX870FWAgpqr+4A==\" data-column=\"1\" data-row=\"17\">\\n        \\n\\n        <a class=\"base-card__full-link absolute top-0 right-0 bottom-0 left-0 p-0 z-[2]\" href=\"https://in.linkedin.com/jobs/view/ai-software-solutions-engineer-at-intel-corporation-3710651854?refId=OXmXWvlmYLyoGa9rXvGdgw%3D%3D&amp;trackingId=b9Sz4XEBX870FWAgpqr%2B4A%3D%3D&amp;position=17&amp;pageNum=0&amp;trk=public_jobs_jserp-result_search-card\" data-tracking-control-name=\"public_jobs_jserp-result_search-card\" data-tracking-client-ingraph=\"\" data-tracking-will-navigate=\"\">\\n          \\n          <span class=\"sr-only\">\\n              \\n        \\n        AI Software Solutions Engineer\\n      \\n      \\n          </span>\\n        </a>\\n\\n      \\n        \\n    <div class=\"search-entity-media\">\\n        \\n      <img class=\"artdeco-entity-image artdeco-entity-image--square-4\\n          \" data-delayed-url=\"https://media.licdn.com/dms/image/C560BAQGpvWtEtj9oTQ/company-logo_100_100/0/1630663244736/intel_corporation_logo?e=2147483647&amp;v=beta&amp;t=N6sFq0d7O3ModsM5guMIBVLuGlHSVaRha9axhX0prsU\" data-ghost-classes=\"artdeco-entity-image--ghost\" data-ghost-url=\"https://static.licdn.com/aero-v1/sc/h/9a9u41thxt325ucfh5z8ga4m8\" alt=\"\">\\n  \\n    </div>\\n  \\n\\n        <div class=\"base-search-card__info\">\\n          <h3 class=\"base-search-card__title\">\\n            \\n        AI Software Solutions Engineer\\n      \\n          </h3>\\n\\n            <h4 class=\"base-search-card__subtitle\">\\n              \\n          <a class=\"hidden-nested-link\" data-tracking-client-ingraph=\"\" data-tracking-control-name=\"public_jobs_jserp-result_job-search-card-subtitle\" data-tracking-will-navigate=\"\" href=\"https://www.linkedin.com/company/intel-corporation?trk=public_jobs_jserp-result_job-search-card-subtitle\">\\n            Intel Corporation\\n          </a>\\n      \\n            </h4>\\n\\n<!---->\\n            <div class=\"base-search-card__metadata\">\\n              \\n          <span class=\"job-search-card__location\">\\n            Bengaluru, Karnataka, India\\n          </span>\\n\\n<!---->\\n          <div class=\"job-search-card__benefits\">\\n            \\n                      \\n    \\n    \\n    \\n    \\n\\n    <div class=\"result-benefits\">\\n      <icon class=\"result-benefits__icon\" data-delayed-url=\"https://static.licdn.com/aero-v1/sc/h/1pwj7aot6lxrfhr9sdta6cnxw\" data-svg-class-name=\"result-benefits__icon-svg\"></icon>\\n      <span class=\"result-benefits__text\">\\n         Actively Hiring\\n<!---->      </span>\\n    </div>\\n  \\n                  \\n          </div>\\n\\n<!---->\\n          <time class=\"job-search-card__listdate--new\" datetime=\"2023-09-05\">\\n            \\n\\n    \\n    \\n    \\n    \\n    \\n    \\n    \\n    \\n    \\n    \\n    \\n    \\n    \\n    \\n    \\n    \\n\\n    \\n    \\n    \\n    \\n    \\n    \\n    \\n    \\n    \\n    \\n    \\n    \\n    \\n    \\n\\n      3 hours ago\\n  \\n          </time>\\n\\n<!---->      \\n            </div>\\n        </div>\\n<!---->      \\n    \\n      </div>\\n  \\n  \\n  \\n  \\n              </li>\\n              <li>\\n                \\n\\n    \\n\\n    \\n    \\n    \\n      <div class=\"base-card relative w-full hover:no-underline focus:no-underline base-card--link base-search-card base-search-card--link job-search-card\" data-entity-urn=\"urn:li:jobPosting:3649827957\" data-search-id=\"OXmXWvlmYLyoGa9rXvGdgw==\" data-tracking-id=\"0MmFi5DuqS89xtBf5rMmtQ==\" data-column=\"1\" data-row=\"18\">\\n        \\n\\n        <a class=\"base-card__full-link absolute top-0 right-0 bottom-0 left-0 p-0 z-[2]\" href=\"https://in.linkedin.com/jobs/view/deep-learning-intern-at-synth-yc-s21-3649827957?refId=OXmXWvlmYLyoGa9rXvGdgw%3D%3D&amp;trackingId=0MmFi5DuqS89xtBf5rMmtQ%3D%3D&amp;position=18&amp;pageNum=0&amp;trk=public_jobs_jserp-result_search-card\" data-tracking-control-name=\"public_jobs_jserp-result_search-card\" data-tracking-client-ingraph=\"\" data-tracking-will-navigate=\"\">\\n          \\n          <span class=\"sr-only\">\\n              \\n        \\n        Deep Learning Intern\\n      \\n      \\n          </span>\\n        </a>\\n\\n      \\n        \\n    <div class=\"search-entity-media\">\\n        \\n      <img class=\"artdeco-entity-image artdeco-entity-image--square-4\\n          \" data-delayed-url=\"https://media.licdn.com/dms/image/C4E0BAQFmCVa46XJFWQ/company-logo_100_100/0/1676350757239?e=2147483647&amp;v=beta&amp;t=QChmFlJ_icC9ituYcCN4PeaVT7tLlXehy_hcMw9_keM\" data-ghost-classes=\"artdeco-entity-image--ghost\" data-ghost-url=\"https://static.licdn.com/aero-v1/sc/h/9a9u41thxt325ucfh5z8ga4m8\" alt=\"\">\\n  \\n    </div>\\n  \\n\\n        <div class=\"base-search-card__info\">\\n          <h3 class=\"base-search-card__title\">\\n            \\n        Deep Learning Intern\\n      \\n          </h3>\\n\\n            <h4 class=\"base-search-card__subtitle\">\\n              \\n          <a class=\"hidden-nested-link\" data-tracking-client-ingraph=\"\" data-tracking-control-name=\"public_jobs_jserp-result_job-search-card-subtitle\" data-tracking-will-navigate=\"\" href=\"https://www.linkedin.com/company/synth-ai-labs?trk=public_jobs_jserp-result_job-search-card-subtitle\">\\n            Synth (YC S21)\\n          </a>\\n      \\n            </h4>\\n\\n<!---->\\n            <div class=\"base-search-card__metadata\">\\n              \\n          <span class=\"job-search-card__location\">\\n            India\\n          </span>\\n\\n<!---->\\n<!---->\\n<!---->\\n          <time class=\"job-search-card__listdate\" datetime=\"2023-07-01\">\\n            \\n\\n    \\n    \\n    \\n    \\n    \\n    \\n    \\n    \\n    \\n    \\n    \\n    \\n    \\n    \\n    \\n    \\n\\n    \\n    \\n    \\n    \\n    \\n    \\n    \\n    \\n    \\n    \\n    \\n    \\n    \\n    \\n\\n      2 months ago\\n  \\n          </time>\\n\\n<!---->      \\n            </div>\\n        </div>\\n<!---->      \\n    \\n      </div>\\n  \\n  \\n  \\n  \\n              </li>\\n              <li>\\n                \\n\\n    \\n\\n    \\n    \\n    \\n      <div class=\"base-card relative w-full hover:no-underline focus:no-underline base-card--link base-search-card base-search-card--link job-search-card\" data-entity-urn=\"urn:li:jobPosting:3710645960\" data-search-id=\"OXmXWvlmYLyoGa9rXvGdgw==\" data-tracking-id=\"Q822p+4qEs0yOt1Zm8/03g==\" data-column=\"1\" data-row=\"19\">\\n        \\n\\n        <a class=\"base-card__full-link absolute top-0 right-0 bottom-0 left-0 p-0 z-[2]\" href=\"https://in.linkedin.com/jobs/view/ai-software-solutions-engineer-at-intel-corporation-3710645960?refId=OXmXWvlmYLyoGa9rXvGdgw%3D%3D&amp;trackingId=Q822p%2B4qEs0yOt1Zm8%2F03g%3D%3D&amp;position=19&amp;pageNum=0&amp;trk=public_jobs_jserp-result_search-card\" data-tracking-control-name=\"public_jobs_jserp-result_search-card\" data-tracking-client-ingraph=\"\" data-tracking-will-navigate=\"\">\\n          \\n          <span class=\"sr-only\">\\n              \\n        \\n        AI Software Solutions Engineer\\n      \\n      \\n          </span>\\n        </a>\\n\\n      \\n        \\n    <div class=\"search-entity-media\">\\n        \\n      <img class=\"artdeco-entity-image artdeco-entity-image--square-4\\n          \" data-delayed-url=\"https://media.licdn.com/dms/image/C560BAQGpvWtEtj9oTQ/company-logo_100_100/0/1630663244736/intel_corporation_logo?e=2147483647&amp;v=beta&amp;t=N6sFq0d7O3ModsM5guMIBVLuGlHSVaRha9axhX0prsU\" data-ghost-classes=\"artdeco-entity-image--ghost\" data-ghost-url=\"https://static.licdn.com/aero-v1/sc/h/9a9u41thxt325ucfh5z8ga4m8\" alt=\"\">\\n  \\n    </div>\\n  \\n\\n        <div class=\"base-search-card__info\">\\n          <h3 class=\"base-search-card__title\">\\n            \\n        AI Software Solutions Engineer\\n      \\n          </h3>\\n\\n            <h4 class=\"base-search-card__subtitle\">\\n              \\n          <a class=\"hidden-nested-link\" data-tracking-client-ingraph=\"\" data-tracking-control-name=\"public_jobs_jserp-result_job-search-card-subtitle\" data-tracking-will-navigate=\"\" href=\"https://www.linkedin.com/company/intel-corporation?trk=public_jobs_jserp-result_job-search-card-subtitle\">\\n            Intel Corporation\\n          </a>\\n      \\n            </h4>\\n\\n<!---->\\n            <div class=\"base-search-card__metadata\">\\n              \\n          <span class=\"job-search-card__location\">\\n            Bengaluru, Karnataka, India\\n          </span>\\n\\n<!---->\\n          <div class=\"job-search-card__benefits\">\\n            \\n                      \\n    \\n    \\n    \\n    \\n\\n    <div class=\"result-benefits\">\\n      <icon class=\"result-benefits__icon\" data-delayed-url=\"https://static.licdn.com/aero-v1/sc/h/ee2elqv6ktdjhlrxiyhac6py6\" data-svg-class-name=\"result-benefits__icon-svg\"></icon>\\n      <span class=\"result-benefits__text\">\\n         Be an early applicant\\n<!---->      </span>\\n    </div>\\n  \\n                  \\n          </div>\\n\\n<!---->\\n          <time class=\"job-search-card__listdate--new\" datetime=\"2023-09-05\">\\n            \\n\\n    \\n    \\n    \\n    \\n    \\n    \\n    \\n    \\n    \\n    \\n    \\n    \\n    \\n    \\n    \\n    \\n\\n    \\n    \\n    \\n    \\n    \\n    \\n    \\n    \\n    \\n    \\n    \\n    \\n    \\n    \\n\\n      3 hours ago\\n  \\n          </time>\\n\\n<!---->      \\n            </div>\\n        </div>\\n<!---->      \\n    \\n      </div>\\n  \\n  \\n  \\n  \\n              </li>\\n              <li>\\n                \\n\\n    \\n\\n    \\n    \\n    \\n      <div class=\"base-card relative w-full hover:no-underline focus:no-underline base-card--link base-search-card base-search-card--link job-search-card\" data-entity-urn=\"urn:li:jobPosting:3637770541\" data-search-id=\"OXmXWvlmYLyoGa9rXvGdgw==\" data-tracking-id=\"EIshvjDj6dMcs6hLPvvBOA==\" data-column=\"1\" data-row=\"20\">\\n        \\n\\n        <a class=\"base-card__full-link absolute top-0 right-0 bottom-0 left-0 p-0 z-[2]\" href=\"https://in.linkedin.com/jobs/view/data-scientist-at-obviously-ai-3637770541?refId=OXmXWvlmYLyoGa9rXvGdgw%3D%3D&amp;trackingId=EIshvjDj6dMcs6hLPvvBOA%3D%3D&amp;position=20&amp;pageNum=0&amp;trk=public_jobs_jserp-result_search-card\" data-tracking-control-name=\"public_jobs_jserp-result_search-card\" data-tracking-client-ingraph=\"\" data-tracking-will-navigate=\"\">\\n          \\n          <span class=\"sr-only\">\\n              \\n        \\n        Data Scientist\\n      \\n      \\n          </span>\\n        </a>\\n\\n      \\n        \\n    <div class=\"search-entity-media\">\\n        \\n      <img class=\"artdeco-entity-image artdeco-entity-image--square-4\\n          \" data-delayed-url=\"https://media.licdn.com/dms/image/C560BAQFypZqhkp1Oqg/company-logo_100_100/0/1627322084920?e=2147483647&amp;v=beta&amp;t=GBsQIG7WPI41fWXesvs9IFO7JMeW8hEaJ1qFLsV-IPc\" data-ghost-classes=\"artdeco-entity-image--ghost\" data-ghost-url=\"https://static.licdn.com/aero-v1/sc/h/9a9u41thxt325ucfh5z8ga4m8\" alt=\"\">\\n  \\n    </div>\\n  \\n\\n        <div class=\"base-search-card__info\">\\n          <h3 class=\"base-search-card__title\">\\n            \\n        Data Scientist\\n      \\n          </h3>\\n\\n            <h4 class=\"base-search-card__subtitle\">\\n              \\n          <a class=\"hidden-nested-link\" data-tracking-client-ingraph=\"\" data-tracking-control-name=\"public_jobs_jserp-result_job-search-card-subtitle\" data-tracking-will-navigate=\"\" href=\"https://www.linkedin.com/company/obviously-ai?trk=public_jobs_jserp-result_job-search-card-subtitle\">\\n            Obviously AI\\n          </a>\\n      \\n            </h4>\\n\\n<!---->\\n            <div class=\"base-search-card__metadata\">\\n              \\n          <span class=\"job-search-card__location\">\\n            Bengaluru, Karnataka, India\\n          </span>\\n\\n<!---->\\n<!---->\\n<!---->\\n          <time class=\"job-search-card__listdate\" datetime=\"2023-06-16\">\\n            \\n\\n    \\n    \\n    \\n    \\n    \\n    \\n    \\n    \\n    \\n    \\n    \\n    \\n    \\n    \\n    \\n    \\n\\n    \\n    \\n    \\n    \\n    \\n    \\n    \\n    \\n    \\n    \\n    \\n    \\n    \\n    \\n\\n      2 months ago\\n  \\n          </time>\\n\\n<!---->      \\n            </div>\\n        </div>\\n<!---->      \\n    \\n      </div>\\n  \\n  \\n  \\n  \\n              </li>\\n              <li>\\n                \\n\\n    \\n\\n    \\n    \\n    \\n      <div class=\"base-card relative w-full hover:no-underline focus:no-underline base-card--link base-search-card base-search-card--link job-search-card\" data-entity-urn=\"urn:li:jobPosting:3598134450\" data-search-id=\"OXmXWvlmYLyoGa9rXvGdgw==\" data-tracking-id=\"ktzBsycKXJPdiKBPj2+CnQ==\" data-column=\"1\" data-row=\"21\">\\n        \\n\\n        <a class=\"base-card__full-link absolute top-0 right-0 bottom-0 left-0 p-0 z-[2]\" href=\"https://in.linkedin.com/jobs/view/data-scientist-india-at-trexquant-investment-lp-3598134450?refId=OXmXWvlmYLyoGa9rXvGdgw%3D%3D&amp;trackingId=ktzBsycKXJPdiKBPj2%2BCnQ%3D%3D&amp;position=21&amp;pageNum=0&amp;trk=public_jobs_jserp-result_search-card\" data-tracking-control-name=\"public_jobs_jserp-result_search-card\" data-tracking-client-ingraph=\"\" data-tracking-will-navigate=\"\">\\n          \\n          <span class=\"sr-only\">\\n              \\n        \\n        Data Scientist (INDIA)\\n      \\n      \\n          </span>\\n        </a>\\n\\n      \\n        \\n    <div class=\"search-entity-media\">\\n        \\n      <img class=\"artdeco-entity-image artdeco-entity-image--square-4\\n          \" data-delayed-url=\"https://media.licdn.com/dms/image/C4D0BAQFJZOX4N0Zvhg/company-logo_100_100/0/1680095610792?e=2147483647&amp;v=beta&amp;t=h2B2uJ6plzaWSCH3g3hvCC0F3JsDxCfoOlg8_wGfHdg\" data-ghost-classes=\"artdeco-entity-image--ghost\" data-ghost-url=\"https://static.licdn.com/aero-v1/sc/h/9a9u41thxt325ucfh5z8ga4m8\" alt=\"\">\\n  \\n    </div>\\n  \\n\\n        <div class=\"base-search-card__info\">\\n          <h3 class=\"base-search-card__title\">\\n            \\n        Data Scientist (INDIA)\\n      \\n          </h3>\\n\\n            <h4 class=\"base-search-card__subtitle\">\\n              \\n          <a class=\"hidden-nested-link\" data-tracking-client-ingraph=\"\" data-tracking-control-name=\"public_jobs_jserp-result_job-search-card-subtitle\" data-tracking-will-navigate=\"\" href=\"https://www.linkedin.com/company/trexquant-investment-lp?trk=public_jobs_jserp-result_job-search-card-subtitle\">\\n            Trexquant Investment LP\\n          </a>\\n      \\n            </h4>\\n\\n<!---->\\n            <div class=\"base-search-card__metadata\">\\n              \\n          <span class=\"job-search-card__location\">\\n            Gurugram, Haryana, India\\n          </span>\\n\\n<!---->\\n<!---->\\n<!---->\\n          <time class=\"job-search-card__listdate\" datetime=\"2023-05-05\">\\n            \\n\\n    \\n    \\n    \\n    \\n    \\n    \\n    \\n    \\n    \\n    \\n    \\n    \\n    \\n    \\n    \\n    \\n\\n    \\n    \\n    \\n    \\n    \\n    \\n    \\n    \\n    \\n    \\n    \\n    \\n    \\n    \\n\\n      4 months ago\\n  \\n          </time>\\n\\n<!---->      \\n            </div>\\n        </div>\\n<!---->      \\n    \\n      </div>\\n  \\n  \\n  \\n  \\n              </li>\\n              <li>\\n                \\n\\n    \\n\\n    \\n    \\n    \\n      <div class=\"base-card relative w-full hover:no-underline focus:no-underline base-card--link base-search-card base-search-card--link job-search-card\" data-entity-urn=\"urn:li:jobPosting:3692398921\" data-search-id=\"OXmXWvlmYLyoGa9rXvGdgw==\" data-tracking-id=\"AptE3/BT38U6CG2WlMkgZg==\" data-column=\"1\" data-row=\"22\">\\n        \\n\\n        <a class=\"base-card__full-link absolute top-0 right-0 bottom-0 left-0 p-0 z-[2]\" href=\"https://in.linkedin.com/jobs/view/data-scientist-at-blinkit-3692398921?refId=OXmXWvlmYLyoGa9rXvGdgw%3D%3D&amp;trackingId=AptE3%2FBT38U6CG2WlMkgZg%3D%3D&amp;position=22&amp;pageNum=0&amp;trk=public_jobs_jserp-result_search-card\" data-tracking-control-name=\"public_jobs_jserp-result_search-card\" data-tracking-client-ingraph=\"\" data-tracking-will-navigate=\"\">\\n          \\n          <span class=\"sr-only\">\\n              \\n        \\n        Data Scientist\\n      \\n      \\n          </span>\\n        </a>\\n\\n      \\n        \\n    <div class=\"search-entity-media\">\\n        \\n      <img class=\"artdeco-entity-image artdeco-entity-image--square-4\\n          \" data-delayed-url=\"https://media.licdn.com/dms/image/D4D0BAQGDyJcegQZS6Q/company-logo_100_100/0/1666946281939?e=2147483647&amp;v=beta&amp;t=TWoQN12xLgY8tMF-INNDxZGnT7nowtu5Vj5w3_4Zdkw\" data-ghost-classes=\"artdeco-entity-image--ghost\" data-ghost-url=\"https://static.licdn.com/aero-v1/sc/h/9a9u41thxt325ucfh5z8ga4m8\" alt=\"\">\\n  \\n    </div>\\n  \\n\\n        <div class=\"base-search-card__info\">\\n          <h3 class=\"base-search-card__title\">\\n            \\n        Data Scientist\\n      \\n          </h3>\\n\\n            <h4 class=\"base-search-card__subtitle\">\\n              \\n          <a class=\"hidden-nested-link\" data-tracking-client-ingraph=\"\" data-tracking-control-name=\"public_jobs_jserp-result_job-search-card-subtitle\" data-tracking-will-navigate=\"\" href=\"https://in.linkedin.com/company/letsblinkit?trk=public_jobs_jserp-result_job-search-card-subtitle\">\\n            Blinkit\\n          </a>\\n      \\n            </h4>\\n\\n<!---->\\n            <div class=\"base-search-card__metadata\">\\n              \\n          <span class=\"job-search-card__location\">\\n            Bengaluru, Karnataka, India\\n          </span>\\n\\n<!---->\\n<!---->\\n<!---->\\n          <time class=\"job-search-card__listdate\" datetime=\"2023-08-22\">\\n            \\n\\n    \\n    \\n    \\n    \\n    \\n    \\n    \\n    \\n    \\n    \\n    \\n    \\n    \\n    \\n    \\n    \\n\\n    \\n    \\n    \\n    \\n    \\n    \\n    \\n    \\n    \\n    \\n    \\n    \\n    \\n    \\n\\n      2 weeks ago\\n  \\n          </time>\\n\\n<!---->      \\n            </div>\\n        </div>\\n<!---->      \\n    \\n      </div>\\n  \\n  \\n  \\n  \\n              </li>\\n              <li>\\n                \\n\\n    \\n\\n    \\n    \\n    \\n      <div class=\"base-card relative w-full hover:no-underline focus:no-underline base-card--link base-search-card base-search-card--link job-search-card\" data-entity-urn=\"urn:li:jobPosting:3697172529\" data-search-id=\"OXmXWvlmYLyoGa9rXvGdgw==\" data-tracking-id=\"iddMiD89g+3qa2Q2Woggbg==\" data-column=\"1\" data-row=\"23\">\\n        \\n\\n        <a class=\"base-card__full-link absolute top-0 right-0 bottom-0 left-0 p-0 z-[2]\" href=\"https://in.linkedin.com/jobs/view/junior-data-and-analytics-specialist-at-l-e-k-consulting-3697172529?refId=OXmXWvlmYLyoGa9rXvGdgw%3D%3D&amp;trackingId=iddMiD89g%2B3qa2Q2Woggbg%3D%3D&amp;position=23&amp;pageNum=0&amp;trk=public_jobs_jserp-result_search-card\" data-tracking-control-name=\"public_jobs_jserp-result_search-card\" data-tracking-client-ingraph=\"\" data-tracking-will-navigate=\"\">\\n          \\n          <span class=\"sr-only\">\\n              \\n        \\n        Junior Data and Analytics Specialist\\n      \\n      \\n          </span>\\n        </a>\\n\\n      \\n        \\n    <div class=\"search-entity-media\">\\n        \\n      <img class=\"artdeco-entity-image artdeco-entity-image--square-4\\n          \" data-delayed-url=\"https://media.licdn.com/dms/image/D4D0BAQHnydpy5eVTmQ/company-logo_100_100/0/1688150582480?e=2147483647&amp;v=beta&amp;t=XjyV_4XIUKYPHcCgMbXn0WAtnBOZO4gSRTJ_1rrKEQ4\" data-ghost-classes=\"artdeco-entity-image--ghost\" data-ghost-url=\"https://static.licdn.com/aero-v1/sc/h/9a9u41thxt325ucfh5z8ga4m8\" alt=\"\">\\n  \\n    </div>\\n  \\n\\n        <div class=\"base-search-card__info\">\\n          <h3 class=\"base-search-card__title\">\\n            \\n        Junior Data and Analytics Specialist\\n      \\n          </h3>\\n\\n            <h4 class=\"base-search-card__subtitle\">\\n              \\n          <a class=\"hidden-nested-link\" data-tracking-client-ingraph=\"\" data-tracking-control-name=\"public_jobs_jserp-result_job-search-card-subtitle\" data-tracking-will-navigate=\"\" href=\"https://www.linkedin.com/company/lekconsulting?trk=public_jobs_jserp-result_job-search-card-subtitle\">\\n            L.E.K. Consulting\\n          </a>\\n      \\n            </h4>\\n\\n<!---->\\n            <div class=\"base-search-card__metadata\">\\n              \\n          <span class=\"job-search-card__location\">\\n            Mumbai, Maharashtra, India\\n          </span>\\n\\n<!---->\\n          <div class=\"job-search-card__benefits\">\\n            \\n                      \\n    \\n    \\n    \\n    \\n\\n    <div class=\"result-benefits\">\\n      <icon class=\"result-benefits__icon\" data-delayed-url=\"https://static.licdn.com/aero-v1/sc/h/1pwj7aot6lxrfhr9sdta6cnxw\" data-svg-class-name=\"result-benefits__icon-svg\"></icon>\\n      <span class=\"result-benefits__text\">\\n         Actively Hiring\\n<!---->      </span>\\n    </div>\\n  \\n                  \\n          </div>\\n\\n<!---->\\n          <time class=\"job-search-card__listdate\" datetime=\"2023-08-22\">\\n            \\n\\n    \\n    \\n    \\n    \\n    \\n    \\n    \\n    \\n    \\n    \\n    \\n    \\n    \\n    \\n    \\n    \\n\\n    \\n    \\n    \\n    \\n    \\n    \\n    \\n    \\n    \\n    \\n    \\n    \\n    \\n    \\n\\n      2 weeks ago\\n  \\n          </time>\\n\\n<!---->      \\n            </div>\\n        </div>\\n<!---->      \\n    \\n      </div>\\n  \\n  \\n  \\n  \\n              </li>\\n              <li>\\n                \\n\\n    \\n\\n    \\n    \\n    \\n      <div class=\"base-card relative w-full hover:no-underline focus:no-underline base-card--link base-search-card base-search-card--link job-search-card\" data-entity-urn=\"urn:li:jobPosting:3699617592\" data-search-id=\"OXmXWvlmYLyoGa9rXvGdgw==\" data-tracking-id=\"pNawoCPzQ8xQwcQWoiDQuA==\" data-column=\"1\" data-row=\"24\">\\n        \\n\\n        <a class=\"base-card__full-link absolute top-0 right-0 bottom-0 left-0 p-0 z-[2]\" href=\"https://in.linkedin.com/jobs/view/head-artificial-intelligence-at-saaki-argus-and-averil-consulting-3699617592?refId=OXmXWvlmYLyoGa9rXvGdgw%3D%3D&amp;trackingId=pNawoCPzQ8xQwcQWoiDQuA%3D%3D&amp;position=24&amp;pageNum=0&amp;trk=public_jobs_jserp-result_search-card\" data-tracking-control-name=\"public_jobs_jserp-result_search-card\" data-tracking-client-ingraph=\"\" data-tracking-will-navigate=\"\">\\n          \\n          <span class=\"sr-only\">\\n              \\n        \\n        Head  -  Artificial Intelligence\\n      \\n      \\n          </span>\\n        </a>\\n\\n      \\n        \\n    <div class=\"search-entity-media\">\\n        \\n      <img class=\"artdeco-entity-image artdeco-entity-image--square-4\\n          \" data-delayed-url=\"https://media.licdn.com/dms/image/C560BAQF2TRV24mbtdQ/company-logo_100_100/0/1668053572579?e=2147483647&amp;v=beta&amp;t=F2RkhqB8Tsuv7WklFX-o_v2ycDdLyJC-Z9YGZaRaSXM\" data-ghost-classes=\"artdeco-entity-image--ghost\" data-ghost-url=\"https://static.licdn.com/aero-v1/sc/h/9a9u41thxt325ucfh5z8ga4m8\" alt=\"\">\\n  \\n    </div>\\n  \\n\\n        <div class=\"base-search-card__info\">\\n          <h3 class=\"base-search-card__title\">\\n            \\n        Head  -  Artificial Intelligence\\n      \\n          </h3>\\n\\n            <h4 class=\"base-search-card__subtitle\">\\n              \\n          <a class=\"hidden-nested-link\" data-tracking-client-ingraph=\"\" data-tracking-control-name=\"public_jobs_jserp-result_job-search-card-subtitle\" data-tracking-will-navigate=\"\" href=\"https://in.linkedin.com/company/saaki-and-argus?trk=public_jobs_jserp-result_job-search-card-subtitle\">\\n            Saaki Argus and Averil Consulting\\n          </a>\\n      \\n            </h4>\\n\\n<!---->\\n            <div class=\"base-search-card__metadata\">\\n              \\n          <span class=\"job-search-card__location\">\\n            Bengaluru, Karnataka, India\\n          </span>\\n\\n<!---->\\n          <div class=\"job-search-card__benefits\">\\n            \\n                      \\n    \\n    \\n    \\n    \\n\\n    <div class=\"result-benefits\">\\n      <icon class=\"result-benefits__icon\" data-delayed-url=\"https://static.licdn.com/aero-v1/sc/h/1pwj7aot6lxrfhr9sdta6cnxw\" data-svg-class-name=\"result-benefits__icon-svg\"></icon>\\n      <span class=\"result-benefits__text\">\\n         Actively Hiring\\n<!---->      </span>\\n    </div>\\n  \\n                  \\n          </div>\\n\\n<!---->\\n          <time class=\"job-search-card__listdate\" datetime=\"2023-08-24\">\\n            \\n\\n    \\n    \\n    \\n    \\n    \\n    \\n    \\n    \\n    \\n    \\n    \\n    \\n    \\n    \\n    \\n    \\n\\n    \\n    \\n    \\n    \\n    \\n    \\n    \\n    \\n    \\n    \\n    \\n    \\n    \\n    \\n\\n      1 week ago\\n  \\n          </time>\\n\\n<!---->      \\n            </div>\\n        </div>\\n<!---->      \\n    \\n      </div>\\n  \\n  \\n  \\n  \\n              </li>\\n              <li>\\n                \\n\\n    \\n\\n    \\n    \\n    \\n      <div class=\"base-card relative w-full hover:no-underline focus:no-underline base-card--link base-search-card base-search-card--link job-search-card\" data-entity-urn=\"urn:li:jobPosting:3653440462\" data-search-id=\"OXmXWvlmYLyoGa9rXvGdgw==\" data-tracking-id=\"Kg2MHnMb4jT0Z/ovh+txYQ==\" data-column=\"1\" data-row=\"25\">\\n        \\n\\n        <a class=\"base-card__full-link absolute top-0 right-0 bottom-0 left-0 p-0 z-[2]\" href=\"https://in.linkedin.com/jobs/view/data-science-python-at-cyberium-inc-3653440462?refId=OXmXWvlmYLyoGa9rXvGdgw%3D%3D&amp;trackingId=Kg2MHnMb4jT0Z%2Fovh%2BtxYQ%3D%3D&amp;position=25&amp;pageNum=0&amp;trk=public_jobs_jserp-result_search-card\" data-tracking-control-name=\"public_jobs_jserp-result_search-card\" data-tracking-client-ingraph=\"\" data-tracking-will-navigate=\"\">\\n          \\n          <span class=\"sr-only\">\\n              \\n        \\n        Data Science - Python\\n      \\n      \\n          </span>\\n        </a>\\n\\n      \\n        \\n    <div class=\"search-entity-media\">\\n        \\n      <img class=\"artdeco-entity-image artdeco-entity-image--square-4\\n          \" data-delayed-url=\"https://media.licdn.com/dms/image/D560BAQFxJnkdIyITNg/company-logo_100_100/0/1692198898206?e=2147483647&amp;v=beta&amp;t=qk0UMLrJzgkj_88P-k40vJbzS2zJwk_Nc3cgVbdtCZE\" data-ghost-classes=\"artdeco-entity-image--ghost\" data-ghost-url=\"https://static.licdn.com/aero-v1/sc/h/9a9u41thxt325ucfh5z8ga4m8\" alt=\"\">\\n  \\n    </div>\\n  \\n\\n        <div class=\"base-search-card__info\">\\n          <h3 class=\"base-search-card__title\">\\n            \\n        Data Science - Python\\n      \\n          </h3>\\n\\n            <h4 class=\"base-search-card__subtitle\">\\n              \\n          <a class=\"hidden-nested-link\" data-tracking-client-ingraph=\"\" data-tracking-control-name=\"public_jobs_jserp-result_job-search-card-subtitle\" data-tracking-will-navigate=\"\" href=\"https://www.linkedin.com/company/cyberiums?trk=public_jobs_jserp-result_job-search-card-subtitle\">\\n            Cyberium Inc\\n          </a>\\n      \\n            </h4>\\n\\n<!---->\\n            <div class=\"base-search-card__metadata\">\\n              \\n          <span class=\"job-search-card__location\">\\n            Pune, Maharashtra, India\\n          </span>\\n\\n          <span class=\"job-search-card__salary-info\">₹100,000 - ₹1,000,000</span>\\n\\n<!---->\\n<!---->\\n          <time class=\"job-search-card__listdate\" datetime=\"2023-07-04\">\\n            \\n\\n    \\n    \\n    \\n    \\n    \\n    \\n    \\n    \\n    \\n    \\n    \\n    \\n    \\n    \\n    \\n    \\n\\n    \\n    \\n    \\n    \\n    \\n    \\n    \\n    \\n    \\n    \\n    \\n    \\n    \\n    \\n\\n      2 months ago\\n  \\n          </time>\\n\\n<!---->      \\n            </div>\\n        </div>\\n<!---->      \\n    \\n      </div>\\n  \\n  \\n  \\n  \\n              </li>\\n          </ul>\\n\\n            \\n    \\n    \\n\\n    \\n\\n    \\n    <div class=\"loader\">\\n      <div class=\"loader__container mb-2 overflow-hidden\">\\n        <icon class=\"loader__icon inline-block loader__icon--default text-color-progress-loading lazy-loaded\" data-svg-class-name=\"loader__icon-svg--small fill-currentColor h-[30px] min-h-[30px] w-[30px] min-w-[30px]\" aria-hidden=\"true\" aria-busy=\"false\"><svg xmlns=\"http://www.w3.org/2000/svg\" viewBox=\"0 0 60 60\" width=\"60\" height=\"60\" focusable=\"false\" class=\"loader__icon-svg--small fill-currentColor h-[30px] min-h-[30px] w-[30px] min-w-[30px] lazy-loaded\" aria-busy=\"false\">\\n  <g>\\n    <path opacity=\"1\" d=\"M30.1,16.1L30.1,16.1c-0.6,0-1-0.5-1-1V1c0-0.6,0.5-1,1-1l0,0c0.6,0,1,0.5,1,1v14.1C31.1,15.7,30.6,16.1,30.1,16.1z\"></path>\\n    <path opacity=\"0.85\" d=\"M23.1,18.1L23.1,18.1c-0.5,0.3-1.1,0.1-1.4-0.4L14.5,5.6c-0.3-0.5-0.2-1.1,0.4-1.4l0,0C15.4,3.9,16,4,16.3,4.6l7.2,12.1C23.8,17.2,23.6,17.8,23.1,18.1z\"></path>\\n    <path opacity=\"0.77\" d=\"M17.9,23.1L17.9,23.1c-0.3,0.5-0.9,0.7-1.4,0.4l-12.2-7c-0.5-0.3-0.7-0.9-0.4-1.4l0,0c0.3-0.5,0.9-0.7,1.4-0.4l12.2,7C18,22,18.2,22.7,17.9,23.1z\"></path>\\n    <path opacity=\"0.69\" d=\"M16.1,30.1L16.1,30.1c0,0.6-0.5,1-1,1L1,31.2c-0.6,0-1-0.5-1-1l0,0c0-0.6,0.5-1,1-1l14.1-0.1C15.7,29.1,16.1,29.5,16.1,30.1z\"></path>\\n    <path opacity=\"0.61\" d=\"M18,36.9L18,36.9c0.3,0.5,0.2,1.1-0.4,1.4L5.5,45.6c-0.5,0.3-1.1,0.2-1.4-0.4l0,0c-0.3-0.5-0.2-1.1,0.4-1.4l12.1-7.3C17.1,36.2,17.7,36.4,18,36.9z\"></path>\\n    <path opacity=\"0.53\" d=\"M23.3,42.1L23.3,42.1c0.5,0.3,0.6,0.9,0.4,1.4l-7.3,12.1c-0.3,0.5-0.9,0.6-1.4,0.4l0,0c-0.5-0.3-0.6-0.9-0.4-1.4l7.3-12.1C22.1,41.9,22.8,41.8,23.3,42.1z\"></path>\\n    <path opacity=\"0.45\" d=\"M30.1,43.9L30.1,43.9c0.6,0,1,0.5,1,1V59c0,0.6-0.5,1-1,1l0,0c-0.6,0-1-0.5-1-1V44.9C29,44.4,29.5,43.9,30.1,43.9z\"></path>\\n    <path opacity=\"0.37\" d=\"M37,41.9L37,41.9c0.5-0.3,1.1-0.2,1.4,0.4l7.2,12.1c0.3,0.5,0.2,1.1-0.4,1.4l0,0c-0.5,0.3-1.1,0.2-1.4-0.4l-7.2-12.1C36.4,42.8,36.6,42.2,37,41.9z\"></path>\\n    <path opacity=\"0.29\" d=\"M42.2,36.8L42.2,36.8c0.3-0.5,0.9-0.7,1.4-0.4l12.2,7c0.5,0.3,0.7,0.9,0.4,1.4l0,0c-0.3,0.5-0.9,0.7-1.4,0.4l-12.2-7C42.1,38,41.9,37.4,42.2,36.8z\"></path>\\n    <path opacity=\"0.21 \" d=\"M44,29.9L44,29.9c0-0.6,0.5-1,1-1h14.1c0.6,0,1,0.5,1,1l0,0c0,0.6-0.5,1-1,1L45,31C44.4,31,44,30.5,44,29.9z\"></path>\\n    <path opacity=\"0.13\" d=\"M42.1,23.1L42.1,23.1c-0.3-0.5-0.2-1.1,0.4-1.4l12.1-7.3c0.5-0.3,1.1-0.2,1.4,0.4l0,0c0.3,0.4,0.1,1.1-0.4,1.3l-12.1,7.3C43.1,23.7,42.4,23.6,42.1,23.1z\"></path>\\n    <path opacity=\"0.05\" d=\"M36.9,17.9L36.9,17.9c-0.5-0.3-0.6-0.9-0.4-1.4l7.3-12.1c0.3-0.5,0.9-0.6,1.4-0.4l0,0c0.5,0.3,0.6,0.9,0.4,1.4l-7.4,12.2C38,18.1,37.3,18.2,36.9,17.9z\"></path>\\n    <animateTransform attributeName=\"transform\" attributeType=\"XML\" type=\"rotate\" begin=\"0s\" dur=\"1s\" repeatCount=\"indefinite\" calcMode=\"discrete\" keyTimes=\"0;.0833;.166;.25;.3333;.4166;.5;.5833;.6666;.75;.8333;.9166;1\" values=\"0,30,30;30,30,30;60,30,30;90,30,30;120,30,30;150,30,30;180,30,30;210,30,30;240,30,30;270,30,30;300,30,30;330,30,30;360,30,30\"></animateTransform>\\n  </g>\\n</svg></icon>\\n      </div>\\n    </div>\\n  \\n\\n      <button aria-label=\"See more jobs\" class=\"infinite-scroller__show-more-button\" data-tracking-control-name=\"infinite-scroller_show-more\">\\n\\n          \\n                See more jobs\\n              \\n      </button>\\n  \\n\\n          \\n    <div class=\"px-1.5 flex inline-notification hidden text-color-signal-positive see-more-jobs__viewed-all\" role=\"alert\" type=\"success\">\\n      <icon class=\"inline-notification__icon w-[20px] h-[20px] shrink-0 mr-[10px] inline-block lazy-loaded\" aria-hidden=\"true\" aria-busy=\"false\"><svg xmlns=\"http://www.w3.org/2000/svg\" width=\"20\" height=\"20\" viewBox=\"0 0 20 20\" fill=\"none\" focusable=\"false\" class=\"lazy-loaded\" aria-busy=\"false\">\\n  <path d=\"M10 0C4.5 0 0 4.5 0 10C0 15.5 4.5 20 10 20C15.5 20 20 15.5 20 10C20 4.5 15.5 0 10 0ZM8.8 15L5 11.2L6.4 9.8L8.6 12L13.4 6H16L8.8 15Z\" fill=\"currentColor\"></path>\\n</svg></icon>\\n      <p class=\"inline-notification__text text-sm leading-regular\">\\n        You\\'ve viewed all jobs for this search\\n<!---->      </p>\\n    </div>\\n  \\n\\n          \\n    \\n\\n<!---->  \\n      \\n            </section>\\n        </main>\\n        <section class=\"two-pane-serp-page__detail-view\">\\n          \\n        <div class=\"details-pane__loader\">\\n          \\n    <div class=\"loader\">\\n      <div class=\"loader__container mb-2 overflow-hidden\">\\n        <icon class=\"loader__icon inline-block loader__icon--default text-color-progress-loading lazy-loaded\" data-svg-class-name=\"loader__icon-svg--large fill-currentColor h-[60px] min-h-[60px] w-[60px] min-w-[60px]\" aria-hidden=\"true\" aria-busy=\"false\"><svg xmlns=\"http://www.w3.org/2000/svg\" viewBox=\"0 0 60 60\" width=\"60\" height=\"60\" focusable=\"false\" class=\"loader__icon-svg--large fill-currentColor h-[60px] min-h-[60px] w-[60px] min-w-[60px] lazy-loaded\" aria-busy=\"false\">\\n  <g>\\n    <path opacity=\"1\" d=\"M30.1,16.1L30.1,16.1c-0.6,0-1-0.5-1-1V1c0-0.6,0.5-1,1-1l0,0c0.6,0,1,0.5,1,1v14.1C31.1,15.7,30.6,16.1,30.1,16.1z\"></path>\\n    <path opacity=\"0.85\" d=\"M23.1,18.1L23.1,18.1c-0.5,0.3-1.1,0.1-1.4-0.4L14.5,5.6c-0.3-0.5-0.2-1.1,0.4-1.4l0,0C15.4,3.9,16,4,16.3,4.6l7.2,12.1C23.8,17.2,23.6,17.8,23.1,18.1z\"></path>\\n    <path opacity=\"0.77\" d=\"M17.9,23.1L17.9,23.1c-0.3,0.5-0.9,0.7-1.4,0.4l-12.2-7c-0.5-0.3-0.7-0.9-0.4-1.4l0,0c0.3-0.5,0.9-0.7,1.4-0.4l12.2,7C18,22,18.2,22.7,17.9,23.1z\"></path>\\n    <path opacity=\"0.69\" d=\"M16.1,30.1L16.1,30.1c0,0.6-0.5,1-1,1L1,31.2c-0.6,0-1-0.5-1-1l0,0c0-0.6,0.5-1,1-1l14.1-0.1C15.7,29.1,16.1,29.5,16.1,30.1z\"></path>\\n    <path opacity=\"0.61\" d=\"M18,36.9L18,36.9c0.3,0.5,0.2,1.1-0.4,1.4L5.5,45.6c-0.5,0.3-1.1,0.2-1.4-0.4l0,0c-0.3-0.5-0.2-1.1,0.4-1.4l12.1-7.3C17.1,36.2,17.7,36.4,18,36.9z\"></path>\\n    <path opacity=\"0.53\" d=\"M23.3,42.1L23.3,42.1c0.5,0.3,0.6,0.9,0.4,1.4l-7.3,12.1c-0.3,0.5-0.9,0.6-1.4,0.4l0,0c-0.5-0.3-0.6-0.9-0.4-1.4l7.3-12.1C22.1,41.9,22.8,41.8,23.3,42.1z\"></path>\\n    <path opacity=\"0.45\" d=\"M30.1,43.9L30.1,43.9c0.6,0,1,0.5,1,1V59c0,0.6-0.5,1-1,1l0,0c-0.6,0-1-0.5-1-1V44.9C29,44.4,29.5,43.9,30.1,43.9z\"></path>\\n    <path opacity=\"0.37\" d=\"M37,41.9L37,41.9c0.5-0.3,1.1-0.2,1.4,0.4l7.2,12.1c0.3,0.5,0.2,1.1-0.4,1.4l0,0c-0.5,0.3-1.1,0.2-1.4-0.4l-7.2-12.1C36.4,42.8,36.6,42.2,37,41.9z\"></path>\\n    <path opacity=\"0.29\" d=\"M42.2,36.8L42.2,36.8c0.3-0.5,0.9-0.7,1.4-0.4l12.2,7c0.5,0.3,0.7,0.9,0.4,1.4l0,0c-0.3,0.5-0.9,0.7-1.4,0.4l-12.2-7C42.1,38,41.9,37.4,42.2,36.8z\"></path>\\n    <path opacity=\"0.21 \" d=\"M44,29.9L44,29.9c0-0.6,0.5-1,1-1h14.1c0.6,0,1,0.5,1,1l0,0c0,0.6-0.5,1-1,1L45,31C44.4,31,44,30.5,44,29.9z\"></path>\\n    <path opacity=\"0.13\" d=\"M42.1,23.1L42.1,23.1c-0.3-0.5-0.2-1.1,0.4-1.4l12.1-7.3c0.5-0.3,1.1-0.2,1.4,0.4l0,0c0.3,0.4,0.1,1.1-0.4,1.3l-12.1,7.3C43.1,23.7,42.4,23.6,42.1,23.1z\"></path>\\n    <path opacity=\"0.05\" d=\"M36.9,17.9L36.9,17.9c-0.5-0.3-0.6-0.9-0.4-1.4l7.3-12.1c0.3-0.5,0.9-0.6,1.4-0.4l0,0c0.5,0.3,0.6,0.9,0.4,1.4l-7.4,12.2C38,18.1,37.3,18.2,36.9,17.9z\"></path>\\n    <animateTransform attributeName=\"transform\" attributeType=\"XML\" type=\"rotate\" begin=\"0s\" dur=\"1s\" repeatCount=\"indefinite\" calcMode=\"discrete\" keyTimes=\"0;.0833;.166;.25;.3333;.4166;.5;.5833;.6666;.75;.8333;.9166;1\" values=\"0,30,30;30,30,30;60,30,30;90,30,30;120,30,30;150,30,30;180,30,30;210,30,30;240,30,30;270,30,30;300,30,30;330,30,30;360,30,30\"></animateTransform>\\n  </g>\\n</svg></icon>\\n      </div>\\n    </div>\\n  \\n        </div>\\n        <div class=\"details-pane__content\"></div>\\n      \\n        </section>\\n      \\n      </div>\\n\\n      \\n        \\n        \\n<!---->  \\n      \\n      \\n\\n      \\n\\n    \\n    \\n    \\n    \\n    \\n    \\n    \\n    \\n    \\n    \\n    \\n    \\n    \\n    \\n\\n    \\n    \\n    \\n    \\n    \\n    \\n    \\n    \\n    \\n\\n    \\n    \\n    \\n    \\n\\n    <footer class=\"li-footer bg-transparent w-full \">\\n      <ul class=\"li-footer__list flex flex-wrap flex-row items-start justify-start w-full h-auto min-h-[50px] my-[0px] mx-auto py-3 px-2 papabear:w-[1128px] papabear:p-0\">\\n        \\n  <li class=\"li-footer__item font-sans text-xs text-color-text-low-emphasis flex flex-shrink-0 justify-start p-1 relative w-50% papabear:justify-center papabear:w-auto\">\\n        \\n          <span class=\"sr-only\">LinkedIn</span>\\n          <icon class=\"li-footer__copy-logo text-color-logo-brand-alt inline-block self-center h-[14px] w-[56px] mr-1\" data-delayed-url=\"https://static.licdn.com/aero-v1/sc/h/e12h2cd8ac580qen9qdd0qks8\"></icon>\\n          <span class=\"li-footer__copy-text flex items-center\">© 2023</span>\\n        \\n  </li>\\n\\n        \\n  <li class=\"li-footer__item font-sans text-xs text-color-text-low-emphasis flex flex-shrink-0 justify-start p-1 relative w-50% papabear:justify-center papabear:w-auto\">\\n        <a class=\"li-footer__item-link flex items-center font-sans text-xs font-bold text-color-text-low-emphasis hover:text-color-link-hover focus:text-color-link-focus\" href=\"https://about.linkedin.com?trk=public_jobs_footer-about\" data-tracking-control-name=\"public_jobs_footer-about\" data-tracking-will-navigate=\"\">\\n          \\n          About\\n        \\n        </a>\\n  </li>\\n\\n        \\n  <li class=\"li-footer__item font-sans text-xs text-color-text-low-emphasis flex flex-shrink-0 justify-start p-1 relative w-50% papabear:justify-center papabear:w-auto\">\\n        <a class=\"li-footer__item-link flex items-center font-sans text-xs font-bold text-color-text-low-emphasis hover:text-color-link-hover focus:text-color-link-focus\" href=\"https://www.linkedin.com/accessibility?trk=public_jobs_footer-accessibility\" data-tracking-control-name=\"public_jobs_footer-accessibility\" data-tracking-will-navigate=\"\">\\n          \\n          Accessibility\\n        \\n        </a>\\n  </li>\\n\\n        \\n  <li class=\"li-footer__item font-sans text-xs text-color-text-low-emphasis flex flex-shrink-0 justify-start p-1 relative w-50% papabear:justify-center papabear:w-auto\">\\n        <a class=\"li-footer__item-link flex items-center font-sans text-xs font-bold text-color-text-low-emphasis hover:text-color-link-hover focus:text-color-link-focus\" href=\"https://www.linkedin.com/legal/user-agreement?trk=public_jobs_footer-user-agreement\" data-tracking-control-name=\"public_jobs_footer-user-agreement\" data-tracking-will-navigate=\"\">\\n          \\n          User Agreement\\n        \\n        </a>\\n  </li>\\n\\n        \\n  <li class=\"li-footer__item font-sans text-xs text-color-text-low-emphasis flex flex-shrink-0 justify-start p-1 relative w-50% papabear:justify-center papabear:w-auto\">\\n        <a class=\"li-footer__item-link flex items-center font-sans text-xs font-bold text-color-text-low-emphasis hover:text-color-link-hover focus:text-color-link-focus\" href=\"https://www.linkedin.com/legal/privacy-policy?trk=public_jobs_footer-privacy-policy\" data-tracking-control-name=\"public_jobs_footer-privacy-policy\" data-tracking-will-navigate=\"\">\\n          \\n          Privacy Policy\\n        \\n        </a>\\n  </li>\\n\\n<!---->        \\n  <li class=\"li-footer__item font-sans text-xs text-color-text-low-emphasis flex flex-shrink-0 justify-start p-1 relative w-50% papabear:justify-center papabear:w-auto\">\\n        <a class=\"li-footer__item-link flex items-center font-sans text-xs font-bold text-color-text-low-emphasis hover:text-color-link-hover focus:text-color-link-focus\" href=\"https://www.linkedin.com/legal/cookie-policy?trk=public_jobs_footer-cookie-policy\" data-tracking-control-name=\"public_jobs_footer-cookie-policy\" data-tracking-will-navigate=\"\">\\n          \\n          Cookie Policy\\n        \\n        </a>\\n  </li>\\n\\n        \\n  <li class=\"li-footer__item font-sans text-xs text-color-text-low-emphasis flex flex-shrink-0 justify-start p-1 relative w-50% papabear:justify-center papabear:w-auto\">\\n        <a class=\"li-footer__item-link flex items-center font-sans text-xs font-bold text-color-text-low-emphasis hover:text-color-link-hover focus:text-color-link-focus\" href=\"https://www.linkedin.com/legal/copyright-policy?trk=public_jobs_footer-copyright-policy\" data-tracking-control-name=\"public_jobs_footer-copyright-policy\" data-tracking-will-navigate=\"\">\\n          \\n          Copyright Policy\\n        \\n        </a>\\n  </li>\\n\\n        \\n  <li class=\"li-footer__item font-sans text-xs text-color-text-low-emphasis flex flex-shrink-0 justify-start p-1 relative w-50% papabear:justify-center papabear:w-auto\">\\n        <a class=\"li-footer__item-link flex items-center font-sans text-xs font-bold text-color-text-low-emphasis hover:text-color-link-hover focus:text-color-link-focus\" href=\"https://brand.linkedin.com/policies?trk=public_jobs_footer-brand-policy\" data-tracking-control-name=\"public_jobs_footer-brand-policy\" data-tracking-will-navigate=\"\">\\n          \\n          Brand Policy\\n        \\n        </a>\\n  </li>\\n\\n          \\n  <li class=\"li-footer__item font-sans text-xs text-color-text-low-emphasis flex flex-shrink-0 justify-start p-1 relative w-50% papabear:justify-center papabear:w-auto\">\\n        <a class=\"li-footer__item-link flex items-center font-sans text-xs font-bold text-color-text-low-emphasis hover:text-color-link-hover focus:text-color-link-focus\" href=\"https://www.linkedin.com/psettings/guest-controls?trk=public_jobs_footer-guest-controls\" data-tracking-control-name=\"public_jobs_footer-guest-controls\" data-tracking-will-navigate=\"\">\\n          \\n            Guest Controls\\n          \\n        </a>\\n  </li>\\n\\n        \\n  <li class=\"li-footer__item font-sans text-xs text-color-text-low-emphasis flex flex-shrink-0 justify-start p-1 relative w-50% papabear:justify-center papabear:w-auto\">\\n        <a class=\"li-footer__item-link flex items-center font-sans text-xs font-bold text-color-text-low-emphasis hover:text-color-link-hover focus:text-color-link-focus\" href=\"https://www.linkedin.com/legal/professional-community-policies?trk=public_jobs_footer-community-guide\" data-tracking-control-name=\"public_jobs_footer-community-guide\" data-tracking-will-navigate=\"\">\\n          \\n          Community Guidelines\\n        \\n        </a>\\n  </li>\\n\\n        \\n<!---->\\n          \\n          \\n  <li class=\"li-footer__item font-sans text-xs text-color-text-low-emphasis flex flex-shrink-0 justify-start p-1 relative w-50% papabear:justify-center papabear:w-auto\">\\n        \\n              \\n\\n    \\n    \\n\\n    \\n\\n    \\n\\n    <div class=\"collapsible-dropdown collapsible-dropdown--footer collapsible-dropdown--up flex items-center relative hyphens-auto language-selector z-2\">\\n<!---->\\n        <ul class=\"collapsible-dropdown__list hidden container-raised absolute w-auto overflow-y-auto flex-col items-stretch z-1 bottom-[100%] top-auto\" role=\"menu\" tabindex=\"-1\">\\n          \\n          <li class=\"language-selector__item\" role=\"presentation\">\\n            <!-- Adding aria-label to both the li and the button because screen reader focus goes to button on desktop and li on mobile-->\\n            <button aria-label=\"العربية (Arabic)\" class=\"font-sans text-xs link block py-[5px] px-2 w-full hover:cursor-pointer hover:bg-color-action hover:text-color-text-on-dark focus:bg-color-action focus:text-color-text-on-dark\\n                language-selector__link !font-regular\" data-tracking-control-name=\"language-selector-ar_AE\" data-locale=\"ar_AE\" role=\"menuitem\" lang=\"ar_AE\">\\n                العربية (Arabic)\\n            </button>\\n          </li>\\n          <li class=\"language-selector__item\" role=\"presentation\">\\n            <!-- Adding aria-label to both the li and the button because screen reader focus goes to button on desktop and li on mobile-->\\n            <button aria-label=\"Čeština (Czech)\" class=\"font-sans text-xs link block py-[5px] px-2 w-full hover:cursor-pointer hover:bg-color-action hover:text-color-text-on-dark focus:bg-color-action focus:text-color-text-on-dark\\n                language-selector__link !font-regular\" data-tracking-control-name=\"language-selector-cs_CZ\" data-locale=\"cs_CZ\" role=\"menuitem\" lang=\"cs_CZ\">\\n                Čeština (Czech)\\n            </button>\\n          </li>\\n          <li class=\"language-selector__item\" role=\"presentation\">\\n            <!-- Adding aria-label to both the li and the button because screen reader focus goes to button on desktop and li on mobile-->\\n            <button aria-label=\"Dansk (Danish)\" class=\"font-sans text-xs link block py-[5px] px-2 w-full hover:cursor-pointer hover:bg-color-action hover:text-color-text-on-dark focus:bg-color-action focus:text-color-text-on-dark\\n                language-selector__link !font-regular\" data-tracking-control-name=\"language-selector-da_DK\" data-locale=\"da_DK\" role=\"menuitem\" lang=\"da_DK\">\\n                Dansk (Danish)\\n            </button>\\n          </li>\\n          <li class=\"language-selector__item\" role=\"presentation\">\\n            <!-- Adding aria-label to both the li and the button because screen reader focus goes to button on desktop and li on mobile-->\\n            <button aria-label=\"Deutsch (German)\" class=\"font-sans text-xs link block py-[5px] px-2 w-full hover:cursor-pointer hover:bg-color-action hover:text-color-text-on-dark focus:bg-color-action focus:text-color-text-on-dark\\n                language-selector__link !font-regular\" data-tracking-control-name=\"language-selector-de_DE\" data-locale=\"de_DE\" role=\"menuitem\" lang=\"de_DE\">\\n                Deutsch (German)\\n            </button>\\n          </li>\\n          <li class=\"language-selector__item\" role=\"presentation\">\\n            <!-- Adding aria-label to both the li and the button because screen reader focus goes to button on desktop and li on mobile-->\\n            <button aria-label=\"English (English) selected\" class=\"font-sans text-xs link block py-[5px] px-2 w-full hover:cursor-pointer hover:bg-color-action hover:text-color-text-on-dark focus:bg-color-action focus:text-color-text-on-dark\\n                language-selector__link--selected\" data-tracking-control-name=\"language-selector-en_US\" data-locale=\"en_US\" role=\"menuitem\" lang=\"en_US\">\\n                <strong>English (English)</strong>\\n            </button>\\n          </li>\\n          <li class=\"language-selector__item\" role=\"presentation\">\\n            <!-- Adding aria-label to both the li and the button because screen reader focus goes to button on desktop and li on mobile-->\\n            <button aria-label=\"Español (Spanish)\" class=\"font-sans text-xs link block py-[5px] px-2 w-full hover:cursor-pointer hover:bg-color-action hover:text-color-text-on-dark focus:bg-color-action focus:text-color-text-on-dark\\n                language-selector__link !font-regular\" data-tracking-control-name=\"language-selector-es_ES\" data-locale=\"es_ES\" role=\"menuitem\" lang=\"es_ES\">\\n                Español (Spanish)\\n            </button>\\n          </li>\\n          <li class=\"language-selector__item\" role=\"presentation\">\\n            <!-- Adding aria-label to both the li and the button because screen reader focus goes to button on desktop and li on mobile-->\\n            <button aria-label=\"Français (French)\" class=\"font-sans text-xs link block py-[5px] px-2 w-full hover:cursor-pointer hover:bg-color-action hover:text-color-text-on-dark focus:bg-color-action focus:text-color-text-on-dark\\n                language-selector__link !font-regular\" data-tracking-control-name=\"language-selector-fr_FR\" data-locale=\"fr_FR\" role=\"menuitem\" lang=\"fr_FR\">\\n                Français (French)\\n            </button>\\n          </li>\\n          <li class=\"language-selector__item\" role=\"presentation\">\\n            <!-- Adding aria-label to both the li and the button because screen reader focus goes to button on desktop and li on mobile-->\\n            <button aria-label=\"हिंदी (Hindi)\" class=\"font-sans text-xs link block py-[5px] px-2 w-full hover:cursor-pointer hover:bg-color-action hover:text-color-text-on-dark focus:bg-color-action focus:text-color-text-on-dark\\n                language-selector__link !font-regular\" data-tracking-control-name=\"language-selector-hi_IN\" data-locale=\"hi_IN\" role=\"menuitem\" lang=\"hi_IN\">\\n                हिंदी (Hindi)\\n            </button>\\n          </li>\\n          <li class=\"language-selector__item\" role=\"presentation\">\\n            <!-- Adding aria-label to both the li and the button because screen reader focus goes to button on desktop and li on mobile-->\\n            <button aria-label=\"Bahasa Indonesia (Indonesian)\" class=\"font-sans text-xs link block py-[5px] px-2 w-full hover:cursor-pointer hover:bg-color-action hover:text-color-text-on-dark focus:bg-color-action focus:text-color-text-on-dark\\n                language-selector__link !font-regular\" data-tracking-control-name=\"language-selector-in_ID\" data-locale=\"in_ID\" role=\"menuitem\" lang=\"in_ID\">\\n                Bahasa Indonesia (Indonesian)\\n            </button>\\n          </li>\\n          <li class=\"language-selector__item\" role=\"presentation\">\\n            <!-- Adding aria-label to both the li and the button because screen reader focus goes to button on desktop and li on mobile-->\\n            <button aria-label=\"Italiano (Italian)\" class=\"font-sans text-xs link block py-[5px] px-2 w-full hover:cursor-pointer hover:bg-color-action hover:text-color-text-on-dark focus:bg-color-action focus:text-color-text-on-dark\\n                language-selector__link !font-regular\" data-tracking-control-name=\"language-selector-it_IT\" data-locale=\"it_IT\" role=\"menuitem\" lang=\"it_IT\">\\n                Italiano (Italian)\\n            </button>\\n          </li>\\n          <li class=\"language-selector__item\" role=\"presentation\">\\n            <!-- Adding aria-label to both the li and the button because screen reader focus goes to button on desktop and li on mobile-->\\n            <button aria-label=\"日本語 (Japanese)\" class=\"font-sans text-xs link block py-[5px] px-2 w-full hover:cursor-pointer hover:bg-color-action hover:text-color-text-on-dark focus:bg-color-action focus:text-color-text-on-dark\\n                language-selector__link !font-regular\" data-tracking-control-name=\"language-selector-ja_JP\" data-locale=\"ja_JP\" role=\"menuitem\" lang=\"ja_JP\">\\n                日本語 (Japanese)\\n            </button>\\n          </li>\\n          <li class=\"language-selector__item\" role=\"presentation\">\\n            <!-- Adding aria-label to both the li and the button because screen reader focus goes to button on desktop and li on mobile-->\\n            <button aria-label=\"한국어 (Korean)\" class=\"font-sans text-xs link block py-[5px] px-2 w-full hover:cursor-pointer hover:bg-color-action hover:text-color-text-on-dark focus:bg-color-action focus:text-color-text-on-dark\\n                language-selector__link !font-regular\" data-tracking-control-name=\"language-selector-ko_KR\" data-locale=\"ko_KR\" role=\"menuitem\" lang=\"ko_KR\">\\n                한국어 (Korean)\\n            </button>\\n          </li>\\n          <li class=\"language-selector__item\" role=\"presentation\">\\n            <!-- Adding aria-label to both the li and the button because screen reader focus goes to button on desktop and li on mobile-->\\n            <button aria-label=\"Bahasa Malaysia (Malay)\" class=\"font-sans text-xs link block py-[5px] px-2 w-full hover:cursor-pointer hover:bg-color-action hover:text-color-text-on-dark focus:bg-color-action focus:text-color-text-on-dark\\n                language-selector__link !font-regular\" data-tracking-control-name=\"language-selector-ms_MY\" data-locale=\"ms_MY\" role=\"menuitem\" lang=\"ms_MY\">\\n                Bahasa Malaysia (Malay)\\n            </button>\\n          </li>\\n          <li class=\"language-selector__item\" role=\"presentation\">\\n            <!-- Adding aria-label to both the li and the button because screen reader focus goes to button on desktop and li on mobile-->\\n            <button aria-label=\"Nederlands (Dutch)\" class=\"font-sans text-xs link block py-[5px] px-2 w-full hover:cursor-pointer hover:bg-color-action hover:text-color-text-on-dark focus:bg-color-action focus:text-color-text-on-dark\\n                language-selector__link !font-regular\" data-tracking-control-name=\"language-selector-nl_NL\" data-locale=\"nl_NL\" role=\"menuitem\" lang=\"nl_NL\">\\n                Nederlands (Dutch)\\n            </button>\\n          </li>\\n          <li class=\"language-selector__item\" role=\"presentation\">\\n            <!-- Adding aria-label to both the li and the button because screen reader focus goes to button on desktop and li on mobile-->\\n            <button aria-label=\"Norsk (Norwegian)\" class=\"font-sans text-xs link block py-[5px] px-2 w-full hover:cursor-pointer hover:bg-color-action hover:text-color-text-on-dark focus:bg-color-action focus:text-color-text-on-dark\\n                language-selector__link !font-regular\" data-tracking-control-name=\"language-selector-no_NO\" data-locale=\"no_NO\" role=\"menuitem\" lang=\"no_NO\">\\n                Norsk (Norwegian)\\n            </button>\\n          </li>\\n          <li class=\"language-selector__item\" role=\"presentation\">\\n            <!-- Adding aria-label to both the li and the button because screen reader focus goes to button on desktop and li on mobile-->\\n            <button aria-label=\"Polski (Polish)\" class=\"font-sans text-xs link block py-[5px] px-2 w-full hover:cursor-pointer hover:bg-color-action hover:text-color-text-on-dark focus:bg-color-action focus:text-color-text-on-dark\\n                language-selector__link !font-regular\" data-tracking-control-name=\"language-selector-pl_PL\" data-locale=\"pl_PL\" role=\"menuitem\" lang=\"pl_PL\">\\n                Polski (Polish)\\n            </button>\\n          </li>\\n          <li class=\"language-selector__item\" role=\"presentation\">\\n            <!-- Adding aria-label to both the li and the button because screen reader focus goes to button on desktop and li on mobile-->\\n            <button aria-label=\"Português (Portuguese)\" class=\"font-sans text-xs link block py-[5px] px-2 w-full hover:cursor-pointer hover:bg-color-action hover:text-color-text-on-dark focus:bg-color-action focus:text-color-text-on-dark\\n                language-selector__link !font-regular\" data-tracking-control-name=\"language-selector-pt_BR\" data-locale=\"pt_BR\" role=\"menuitem\" lang=\"pt_BR\">\\n                Português (Portuguese)\\n            </button>\\n          </li>\\n          <li class=\"language-selector__item\" role=\"presentation\">\\n            <!-- Adding aria-label to both the li and the button because screen reader focus goes to button on desktop and li on mobile-->\\n            <button aria-label=\"Română (Romanian)\" class=\"font-sans text-xs link block py-[5px] px-2 w-full hover:cursor-pointer hover:bg-color-action hover:text-color-text-on-dark focus:bg-color-action focus:text-color-text-on-dark\\n                language-selector__link !font-regular\" data-tracking-control-name=\"language-selector-ro_RO\" data-locale=\"ro_RO\" role=\"menuitem\" lang=\"ro_RO\">\\n                Română (Romanian)\\n            </button>\\n          </li>\\n          <li class=\"language-selector__item\" role=\"presentation\">\\n            <!-- Adding aria-label to both the li and the button because screen reader focus goes to button on desktop and li on mobile-->\\n            <button aria-label=\"Русский (Russian)\" class=\"font-sans text-xs link block py-[5px] px-2 w-full hover:cursor-pointer hover:bg-color-action hover:text-color-text-on-dark focus:bg-color-action focus:text-color-text-on-dark\\n                language-selector__link !font-regular\" data-tracking-control-name=\"language-selector-ru_RU\" data-locale=\"ru_RU\" role=\"menuitem\" lang=\"ru_RU\">\\n                Русский (Russian)\\n            </button>\\n          </li>\\n          <li class=\"language-selector__item\" role=\"presentation\">\\n            <!-- Adding aria-label to both the li and the button because screen reader focus goes to button on desktop and li on mobile-->\\n            <button aria-label=\"Svenska (Swedish)\" class=\"font-sans text-xs link block py-[5px] px-2 w-full hover:cursor-pointer hover:bg-color-action hover:text-color-text-on-dark focus:bg-color-action focus:text-color-text-on-dark\\n                language-selector__link !font-regular\" data-tracking-control-name=\"language-selector-sv_SE\" data-locale=\"sv_SE\" role=\"menuitem\" lang=\"sv_SE\">\\n                Svenska (Swedish)\\n            </button>\\n          </li>\\n          <li class=\"language-selector__item\" role=\"presentation\">\\n            <!-- Adding aria-label to both the li and the button because screen reader focus goes to button on desktop and li on mobile-->\\n            <button aria-label=\"ภาษาไทย (Thai)\" class=\"font-sans text-xs link block py-[5px] px-2 w-full hover:cursor-pointer hover:bg-color-action hover:text-color-text-on-dark focus:bg-color-action focus:text-color-text-on-dark\\n                language-selector__link !font-regular\" data-tracking-control-name=\"language-selector-th_TH\" data-locale=\"th_TH\" role=\"menuitem\" lang=\"th_TH\">\\n                ภาษาไทย (Thai)\\n            </button>\\n          </li>\\n          <li class=\"language-selector__item\" role=\"presentation\">\\n            <!-- Adding aria-label to both the li and the button because screen reader focus goes to button on desktop and li on mobile-->\\n            <button aria-label=\"Tagalog (Tagalog)\" class=\"font-sans text-xs link block py-[5px] px-2 w-full hover:cursor-pointer hover:bg-color-action hover:text-color-text-on-dark focus:bg-color-action focus:text-color-text-on-dark\\n                language-selector__link !font-regular\" data-tracking-control-name=\"language-selector-tl_PH\" data-locale=\"tl_PH\" role=\"menuitem\" lang=\"tl_PH\">\\n                Tagalog (Tagalog)\\n            </button>\\n          </li>\\n          <li class=\"language-selector__item\" role=\"presentation\">\\n            <!-- Adding aria-label to both the li and the button because screen reader focus goes to button on desktop and li on mobile-->\\n            <button aria-label=\"Türkçe (Turkish)\" class=\"font-sans text-xs link block py-[5px] px-2 w-full hover:cursor-pointer hover:bg-color-action hover:text-color-text-on-dark focus:bg-color-action focus:text-color-text-on-dark\\n                language-selector__link !font-regular\" data-tracking-control-name=\"language-selector-tr_TR\" data-locale=\"tr_TR\" role=\"menuitem\" lang=\"tr_TR\">\\n                Türkçe (Turkish)\\n            </button>\\n          </li>\\n          <li class=\"language-selector__item\" role=\"presentation\">\\n            <!-- Adding aria-label to both the li and the button because screen reader focus goes to button on desktop and li on mobile-->\\n            <button aria-label=\"Українська (Ukrainian)\" class=\"font-sans text-xs link block py-[5px] px-2 w-full hover:cursor-pointer hover:bg-color-action hover:text-color-text-on-dark focus:bg-color-action focus:text-color-text-on-dark\\n                language-selector__link !font-regular\" data-tracking-control-name=\"language-selector-uk_UA\" data-locale=\"uk_UA\" role=\"menuitem\" lang=\"uk_UA\">\\n                Українська (Ukrainian)\\n            </button>\\n          </li>\\n          <li class=\"language-selector__item\" role=\"presentation\">\\n            <!-- Adding aria-label to both the li and the button because screen reader focus goes to button on desktop and li on mobile-->\\n            <button aria-label=\"简体中文 (Chinese (Simplified))\" class=\"font-sans text-xs link block py-[5px] px-2 w-full hover:cursor-pointer hover:bg-color-action hover:text-color-text-on-dark focus:bg-color-action focus:text-color-text-on-dark\\n                language-selector__link !font-regular\" data-tracking-control-name=\"language-selector-zh_CN\" data-locale=\"zh_CN\" role=\"menuitem\" lang=\"zh_CN\">\\n                简体中文 (Chinese (Simplified))\\n            </button>\\n          </li>\\n          <li class=\"language-selector__item\" role=\"presentation\">\\n            <!-- Adding aria-label to both the li and the button because screen reader focus goes to button on desktop and li on mobile-->\\n            <button aria-label=\"正體中文 (Chinese (Traditional))\" class=\"font-sans text-xs link block py-[5px] px-2 w-full hover:cursor-pointer hover:bg-color-action hover:text-color-text-on-dark focus:bg-color-action focus:text-color-text-on-dark\\n                language-selector__link !font-regular\" data-tracking-control-name=\"language-selector-zh_TW\" data-locale=\"zh_TW\" role=\"menuitem\" lang=\"zh_TW\">\\n                正體中文 (Chinese (Traditional))\\n            </button>\\n          </li>\\n<!---->      \\n        </ul>\\n\\n          \\n        <button class=\"language-selector__button select-none relative pr-2 font-sans text-xs font-bold text-color-text-low-emphasis hover:text-color-link-hover hover:cursor-pointer focus:text-color-link-focus focus:outline-dotted focus:outline-1\" aria-expanded=\"false\" data-tracking-control-name=\"footer-lang-dropdown_trigger\">\\n          <span class=\"language-selector__label-text mr-0.5 break-words\">\\n            Language\\n          </span>\\n          <icon class=\"language-selector__label-chevron w-2 h-2 absolute top-0 right-0\" data-delayed-url=\"https://static.licdn.com/aero-v1/sc/h/cyolgscd0imw2ldqppkrb84vo\"></icon>\\n        </button>\\n      \\n    </div>\\n  \\n  \\n          \\n  </li>\\n\\n      </ul>\\n\\n<!---->    </footer>\\n  \\n    </div>\\n  \\n  \\n  \\n\\n<!---->\\n          \\n    \\n\\n    \\n\\n    \\n    <div class=\"\">\\n<!---->\\n      <div id=\"create-alert-modal\" class=\"modal \" data-outlet=\"create-alert-modal-outlet\">\\n<!---->        <div class=\"modal__overlay flex items-center bg-color-background-scrim justify-center fixed bottom-0 left-0 right-0 top-0 opacity-0 invisible pointer-events-none z-[1000] transition-[opacity] ease-[cubic-bezier(0.25,0.1,0.25,1.0)] duration-[0.17s]\\n            py-4\\n            \">\\n          <section aria-modal=\"true\" role=\"dialog\" aria-labelledby=\"create-alert-modal-modal-header\" tabindex=\"-1\" class=\"max-h-full modal__wrapper overflow-auto p-0 bg-color-surface max-w-[1128px] min-h-[160px] relative scale-[0.25] shadow-sm shadow-color-border-faint transition-[transform] ease-[cubic-bezier(0.25,0.1,0.25,1.0)] duration-[0.33s] focus:outline-0\\n              \\n              w-[552px] babybear:w-[360px]\\n              \\n              rounded-md\">\\n              <header class=\"modal__header flex items-center justify-between border-b-1 border-solid border-color-border-faint py-1.5 px-3\\n                  \">\\n                  <h2 id=\"create-alert-modal-modal-header\" class=\"modal__title font-normal leading-open text-color-text text-lg\">Create job alert</h2>\\n                  <button class=\"modal__dismiss modal__dismiss--with-icon btn-tertiary h-[40px] w-[40px] p-0 rounded-full indent-0\\n                      \" aria-label=\"Dismiss\" data-tracking-control-name=\"public_jobs_create-alert-modal_modal_dismiss\" type=\"button\">\\n                      <icon class=\"modal__dismiss-icon relative top-[2px] lazy-loaded\" aria-hidden=\"true\" aria-busy=\"false\"><svg xmlns=\"http://www.w3.org/2000/svg\" xmlns:xlink=\"http://www.w3.org/1999/xlink\" width=\"24px\" height=\"24px\" class=\"artdeco-icon lazy-loaded\" focusable=\"false\" aria-busy=\"false\">\\n  <path d=\"M20,5.32L13.32,12,20,18.68,18.66,20,12,13.33,5.34,20,4,18.68,10.68,12,4,5.32,5.32,4,12,10.69,18.68,4Z\" fill=\"currentColor\"></path>\\n</svg></icon>\\n                  </button>\\n<!---->              </header>\\n            <div class=\"modal__main w-full \">\\n              \\n        \\n    \\n    \\n    \\n    \\n\\n    <form class=\"create-alert-form\">\\n      <div class=\"create-alert-form__body\">\\n        <p class=\"create-alert-form__header\">Get email updates for new <strong class=\"break-word\">Artificial Intelligence</strong> jobs in <strong>India</strong></p>\\n<!---->        \\n    \\n\\n    <section class=\"dismissable-input text-input !pr-3 bg-color-transparent flex items-center h-[40px] min-w-0 relative babybear:w-full babybear:mb-1 create-alert-form-input\">\\n      <input aria-label=\"Email address*\" autocomplete=\"off\" class=\"dismissable-input__input font-sans text-md text-color-text bg-color-transparent flex items-center flex-1 focus:outline-none placeholder:text-color-text-secondary\" data-tracking-control-name=\"public_jobs_create-alert-modal_create-alert-form_email-address_dismissable-input\" maxlength=\"500\" name=\"emailAddress\" placeholder=\"Email address*\" required=\"\" type=\"email\">\\n      \\n        <button class=\"dismissable-input__button text-color-text h-[40px] min-w-[24px] w-[24px] -mr-2 opacity-0 transition-opacity duration-[0.1s] disabled:invisible focus:opacity-100\" data-tracking-control-name=\"public_jobs_create-alert-modal_create-alert-form_email-address_dismissable-input-clear\" type=\"button\">\\n          <label class=\"sr-only\">Dismiss</label>\\n          <icon class=\"dismissable-input__button-icon lazy-loaded\" aria-hidden=\"true\" aria-busy=\"false\"><svg xmlns=\"http://www.w3.org/2000/svg\" viewBox=\"0 0 16 16\" width=\"16\" height=\"16\" focusable=\"false\" class=\"lazy-loaded\" aria-busy=\"false\">\\n  <g fill=\"none\" fill-rule=\"evenodd\">\\n    <path fill=\"currentColor\" d=\"M7.90356 9.19393l-3.3763 3.3763-1.29037-1.29037 3.3763-3.3763-3.3763-3.3763 1.29037-1.29037 3.3763 3.3763 3.3763-3.3763 1.29037 1.29037-3.3763 3.3763 3.3763 3.3763-1.29037 1.29037z\"></path>\\n    <path d=\"M0 0h16v16H0z\"></path>\\n  </g>\\n</svg></icon>\\n        </button>\\n    </section>\\n  \\n\\n        \\n            \\n              <input name=\"jserpUrl\" value=\"https://www.linkedin.com/jobs/search/?currentJobId=3702297562&amp;distance=25&amp;geoId=102713980&amp;keywords=artificial%20intelligence\" type=\"hidden\">\\n              <input name=\"pageType\" value=\"JSERP\" type=\"hidden\">\\n              <input name=\"keywords\" value=\"Artificial Intelligence\" type=\"hidden\">\\n            \\n          \\n\\n        \\n    \\n    \\n    \\n\\n    <code id=\"i18n_create_alert_invalid_email\" style=\"display: none\"><!--\"Please enter a valid email address\"--></code>\\n    <code id=\"i18n_generic_error_message\" style=\"display: none\"><!--\"Your job alert couldn’t be created, please try again later.\"--></code>\\n\\n    <p class=\"create-alert-error-message create-alert-error-message--email\" role=\"alert\">\\n      <icon class=\"create-alert-error-message__icon lazy-loaded onerror\"></icon>\\n      <span class=\"create-alert-error-message__container\">\\n        <span class=\"create-alert-error-message__text\"></span>\\n<!---->      </span>\\n    </p>\\n  \\n\\n        <p class=\"create-alert-form__agreement-links\">\\n          By creating this job alert, you agree to the LinkedIn <a class=\"create-alert-form__agreement-item-link\" href=\"https://www.linkedin.com/legal/user-agreement?trk=public_jobs_create-alert-modal_create-alert-form_user-agreement\" target=\"_blank\" rel=\"noopener\" data-tracking-control-name=\"public_jobs_create-alert-modal_create-alert-form_user-agreement\" data-tracking-will-navigate=\"\">User Agreement</a> and <a class=\"create-alert-form__agreement-item-link\" href=\"https://www.linkedin.com/legal/privacy-policy?trk=public_jobs_create-alert-modal_create-alert-form_privacy-policy\" target=\"_blank\" rel=\"noopener\" data-tracking-control-name=\"public_jobs_create-alert-modal_create-alert-form_privacy-policy\" data-tracking-will-navigate=\"\">Privacy Policy</a>. You can unsubscribe from these emails at any time.\\n        </p>\\n\\n        \\n    \\n    \\n    \\n\\n    <code id=\"i18n_create_alert_invalid_email\" style=\"display: none\"><!--\"Please enter a valid email address\"--></code>\\n    <code id=\"i18n_generic_error_message\" style=\"display: none\"><!--\"Your job alert couldn’t be created, please try again later.\"--></code>\\n\\n    <p class=\"create-alert-error-message create-alert-error-message--generic\" role=\"alert\">\\n      <icon class=\"create-alert-error-message__icon lazy-loaded onerror\"></icon>\\n      <span class=\"create-alert-error-message__container\">\\n        <span class=\"create-alert-error-message__text\"></span>\\n          <a class=\"create-alert-error-message__sign-in-link hidden\" href=\"https://www.linkedin.com/login?emailAddress=&amp;fromSignIn=&amp;fromSignIn=true&amp;session_redirect=https%3A%2F%2Fwww.linkedin.com%2Fjobs%2Fsearch%2F%3FcurrentJobId%3D3702297562%26distance%3D25%26geoId%3D102713980%26keywords%3Dartificial%2520intelligence&amp;trk=public_jobs_create-alert-modal_create-alert-form_over-limit-sign-in-link\" data-tracking-control-name=\"public_jobs_create-alert-modal_create-alert-form_over-limit-sign-in-link\" data-tracking-will-navigate=\"\">Sign in to create more</a>\\n      </span>\\n    </p>\\n  \\n\\n      </div>\\n\\n      <footer class=\"create-alert-form__footer\">\\n        <button class=\"create-alert-form__footer-button\" data-tracking-control-name=\"public_jobs_create-alert-modal_create-alert-form_submit\" type=\"submit\">\\n          Create job alert\\n        </button>\\n      </footer>\\n    </form>\\n  \\n\\n        \\n    \\n    \\n    \\n    \\n    \\n    \\n    \\n    \\n\\n    <div class=\"alert-activation-status alert-activation-status--hidden\">\\n      <div class=\"alert-activation-status__body\">\\n        <icon class=\"alert-activation-status__icon lazy-loaded\" aria-hidden=\"true\" aria-busy=\"false\"><svg xmlns=\"http://www.w3.org/2000/svg\" width=\"48.11\" height=\"48.03\" viewBox=\"0 0 48.11 48.03\" id=\"mail-open-small\" aria-hidden=\"true\" role=\"none\" data-supported-dps=\"48x48\" focusable=\"false\" class=\"lazy-loaded\" aria-busy=\"false\">\\n  <path fill=\"#95abc1\" d=\"M1.05 18.02v.09l.1-.09h-.1zM46.95 18.02l.1.09v-.09h-.1z\"></path>\\n  <path d=\"M47 18L28.83 1.79a7.36 7.36 0 00-9.56 0L1.15 18l-.1.09v.08a5.52 5.52 0 002.22 4.27L24.05 38l20.78-15.57a5.46 5.46 0 002.22-4.27v-.05z\" fill=\"#fdc2b1\"></path>\\n  <path fill=\"#eef3f8\" d=\"M40.05 39.02v-36h-32v36h32z\"></path>\\n  <path d=\"M35.05 13h-22a1 1 0 010-2h22a1 1 0 010 2zM35.05 19h-22a1 1 0 010-2h22a1 1 0 010 2zM35.05 25h-22a1 1 0 010-2h22a1 1 0 010 2z\" fill=\"#56687a\"></path>\\n  <path d=\"M44.83 22.43L24.05 38 3.27 22.46a5.52 5.52 0 01-2.22-4.27V48h46V18.16a5.46 5.46 0 01-2.22 4.27z\" fill=\"#9db3c8\"></path>\\n  <path fill=\"#c0d1e2\" d=\"M1.05 48.02h46l-15-16-8 6-8-6-15 16z\"></path>\\n</svg></icon>\\n\\n        <p class=\"alert-activation-status__headline\">\\n          Your job alert is set\\n        </p>\\n        <p class=\"alert-activation-status__subline\">\\n          Click the link in the email we sent to <span id=\"guest-email\" class=\"break-word\"></span> to verify your email address and activate your job alert.\\n        </p>\\n      </div>\\n\\n      <footer class=\"alert-activation-status__footer\">\\n        <button class=\"alert-activation-status__footer-button\" data-tracking-control-name=\"public_jobs_create-alert-modal_alert-activation-status-close\">\\n          Done\\n        </button>\\n      </footer>\\n    </div>\\n  \\n\\n        \\n    \\n\\n    \\n    \\n\\n    <div class=\"welcome-back-sign-in-form welcome-back-sign-in-form--hidden\">\\n      <h3 class=\"welcome-back-sign-in-form__header\">\\n        Welcome back\\n      </h3>\\n\\n        <p class=\"welcome-back-sign-in-form__subline\">\\n          \\n        Sign in to create your job alert for <span class=\"create-alert-sign-in-form__query-info\">Artificial Intelligence</span> jobs in <span class=\"create-alert-sign-in-form__query-info\">India</span>.\\n      \\n        </p>\\n\\n      \\n    \\n    \\n    \\n    \\n    \\n    \\n    \\n    \\n    \\n    \\n\\n    <code id=\"i18n_sign_in_form_show_text\" style=\"display: none\"><!--\"Show\"--></code>\\n    <code id=\"i18n_sign_in_form_show_label\" style=\"display: none\"><!--\"Show your LinkedIn password\"--></code>\\n    <code id=\"i18n_sign_in_form_hide_text\" style=\"display: none\"><!--\"Hide\"--></code>\\n    <code id=\"i18n_sign_in_form_hide_label\" style=\"display: none\"><!--\"Hide your LinkedIn password\"--></code>\\n\\n    \\n    <code id=\"i18n_username_error_empty\" style=\"display: none\"><!--\"Please enter an email address or phone number\"--></code>\\n    \\n    <code id=\"i18n_username_error_too_long\" style=\"display: none\"><!--\"Email or phone number must be between 3 to 128 characters\"--></code>\\n    <code id=\"i18n_username_error_too_short\" style=\"display: none\"><!--\"Email or phone number must be between 3 to 128 characters\"--></code>\\n\\n    \\n    <code id=\"i18n_password_error_empty\" style=\"display: none\"><!--\"Please enter a password\"--></code>\\n    \\n    <code id=\"i18n_password_error_too_short\" style=\"display: none\"><!--\"The password you provided must have at least 6 characters\"--></code>\\n    \\n    <code id=\"i18n_password_error_too_long\" style=\"display: none\"><!--\"The password you provided must have at most 400 characters\"--></code>\\n\\n    <form data-id=\"sign-in-form\" action=\"https://www.linkedin.com/uas/login-submit\" method=\"post\" novalidate=\"\" class=\"create-alert-sign-in-form\">\\n      <input name=\"loginCsrfParam\" value=\"40dd3e39-8c6b-467f-82d5-16f5ac8a6700\" type=\"hidden\">\\n\\n      <div class=\"flex flex-col\">\\n        \\n    <div class=\"mt-1.5\" data-js-module-id=\"guest-input\">\\n      <div class=\"flex flex-col\">\\n        <label class=\"input-label mb-1\" for=\"session_key\">\\n          Email or phone\\n        </label>\\n        <div class=\"text-input flex\">\\n          <input class=\"text-color-text font-sans text-md outline-0 bg-color-transparent grow\" autocomplete=\"username\" id=\"session_key\" name=\"session_key\" required=\"\" type=\"text\">\\n          \\n        </div>\\n      </div>\\n\\n      <p class=\"input-helper mt-1.5\" for=\"session_key\" role=\"alert\" data-js-module-id=\"guest-input__message\"></p>\\n    </div>\\n  \\n\\n        \\n    <div class=\"mt-1.5\" data-js-module-id=\"guest-input\">\\n      <div class=\"flex flex-col\">\\n        <label class=\"input-label mb-1\" for=\"session_password\">\\n          Password\\n        </label>\\n        <div class=\"text-input flex\">\\n          <input class=\"text-color-text font-sans text-md outline-0 bg-color-transparent grow\" autocomplete=\"current-password\" id=\"session_password\" name=\"session_password\" required=\"\" type=\"password\">\\n          \\n            <button aria-live=\"assertive\" data-id=\"sign-in-form__password-visibility-toggle\" class=\"font-sans text-md font-bold text-color-action z-10 ml-[12px] hover:cursor-pointer\" aria-label=\"Show your LinkedIn password\" data-tracking-control-name=\"public_jobs_create-alert-modal_sign-in-password-visibility-toggle-btn\" type=\"button\">Show</button>\\n          \\n        </div>\\n      </div>\\n\\n      <p class=\"input-helper mt-1.5\" for=\"session_password\" role=\"alert\" data-js-module-id=\"guest-input__message\"></p>\\n    </div>\\n  \\n\\n        <input name=\"session_redirect\" value=\"https://www.linkedin.com/jobs/search/?currentJobId=3702297562&amp;distance=25&amp;geoId=102713980&amp;keywords=artificial%20intelligence\" type=\"hidden\">\\n\\n<!---->      </div>\\n\\n      <div data-id=\"sign-in-form__footer\" class=\"flex justify-between\\n          items-center mt-[16px]\">\\n        <a data-id=\"sign-in-form__forgot-password\" class=\"font-sans text-md font-bold link leading-regular\\n            \" href=\"https://www.linkedin.com/uas/request-password-reset?trk=public_jobs_create-alert-modal_forgot_password\" data-tracking-control-name=\"public_jobs_create-alert-modal_forgot_password\" data-tracking-will-navigate=\"\">Forgot password?</a>\\n\\n<!---->\\n        <input name=\"trk\" value=\"public_jobs_create-alert-modal_sign-in-submit\" type=\"hidden\">\\n        <button class=\"btn-md btn-primary flex-shrink-0 cursor-pointer\\n            ml-[8px]\" data-id=\"sign-in-form__submit-btn\" data-tracking-control-name=\"public_jobs_create-alert-modal_sign-in-submit-btn\" data-tracking-litms=\"\" type=\"submit\">\\n          Sign in\\n        </button>\\n      </div>\\n<!---->    </form>\\n<!----><!---->  \\n    </div>\\n  \\n  \\n      \\n            </div>\\n\\n<!---->          </section>\\n        </div>\\n      </div>\\n    </div>\\n  \\n  \\n\\n<!---->\\n<!---->\\n        \\n    \\n    \\n    \\n\\n    \\n    \\n    \\n    \\n    \\n    \\n\\n        \\n\\n    \\n\\n      <div class=\"cta-modal overflow-hidden container-raised z-10 fixed bottom-3 right-3 min-h-[56px] p-2 babybear:hidden windows-app-upsell flex flex-row p-2 w-[450px] !bg-color-surface-accent-tint-5 z-1\" role=\"dialog\" aria-labelledby=\"cta-modal-header\" aria-describedby=\"cta-modal-subheader\">\\n          \\n\\n          \\n\\n        \\n          <icon class=\"windows-app-upsell__logo block w-6 h-6 mr-2 pt-1 lazy-loaded\" data-svg-class-name=\"windows-app-upsell__logo-svg\" aria-hidden=\"true\" aria-busy=\"false\"><svg xmlns=\"http://www.w3.org/2000/svg\" viewBox=\"0 0 48 48\" id=\"linkedin-bug-blue-xlarge\" data-supported-dps=\"48x48\" width=\"48\" height=\"48\" focusable=\"false\" class=\"windows-app-upsell__logo-svg lazy-loaded\" aria-busy=\"false\">\\n  <g>\\n    <path d=\"M48 3.5v41a3.5 3.5 0 01-3.5 3.5h-41A3.5 3.5 0 010 44.5v-41A3.5 3.5 0 013.5 0h41A3.5 3.5 0 0148 3.5zM14 18H7v23h7zm.6-7.5a4 4 0 00-4-4h-.1a4.05 4.05 0 000 8.1 4 4 0 004.1-3.9zM41 27.22c0-7-4.63-9.72-8.65-9.72s-7 2.34-7.66 3.75h-.09V18H18v23h7V29c0-3.69 2.51-5.33 4.95-5.33 2 0 4.05 1.54 4.05 5.24V41h7z\" fill=\"#0a66c2\"></path>\\n  </g>\\n</svg></icon>\\n          <div class=\"flex flex-col\">\\n            <p class=\"windows-app-upsell__title font-sans text-lg text-color-text-accent-4-hover font-semibold leading-regular mb-1 pt-0.5\">\\n              Know when new jobs open up\\n            </p>\\n            <p class=\"windows-app-upsell__body font-sans text-sm text-color-text-secondary leading-regular\">\\n              Never miss a job alert with the new LinkedIn app for Windows.\\n            </p>\\n            <a class=\"windows-app-upsell__cta btn-sm btn-secondary-emphasis mt-2 mb-0.5 w-fit\" href=\"ms-windows-store://pdp/?ProductId=9WZDNCRFJ4Q7&amp;mode=mini&amp;cid=guest_desktop_upsell\" data-tracking-control-name=\"public_jobs_windows-app-upsell_cta\" data-tracking-will-navigate=\"\">\\n              Get the app\\n            </a>\\n          </div>\\n        \\n\\n        <button class=\"cta-modal__dismiss-btn absolute h-4 w-4 p-1 top-2 right-2 hover:cursor-pointer focus:outline focus:outline-2 focus:outline-color-action\" data-tracking-control-name=\"public_jobs_windows-app-upsell_dismiss\" aria-label=\"Dismiss\">\\n          <icon class=\"cta-modal__dismiss-icon block h-2 w-2 onload lazy-loaded\" aria-hidden=\"true\" aria-busy=\"false\"><svg xmlns=\"http://www.w3.org/2000/svg\" viewBox=\"0 0 16 16\" id=\"close-small\" data-supported-dps=\"16x16\" fill=\"currentColor\" focusable=\"false\" class=\"lazy-loaded\" aria-busy=\"false\">\\n  <path d=\"M14 3.41L9.41 8 14 12.59 12.59 14 8 9.41 3.41 14 2 12.59 6.59 8 2 3.41 3.41 2 8 6.59 12.59 2z\"></path>\\n</svg></icon>\\n        </button>\\n      </div>\\n  \\n  \\n  \\n          \\n\\n    \\n    \\n    \\n    \\n    \\n    \\n\\n    \\n\\n    \\n\\n      <div class=\"cta-modal overflow-hidden container-raised z-10 fixed bottom-3 right-3 min-h-[56px] p-2 babybear:hidden conversion-modal w-40\" role=\"dialog\" aria-labelledby=\"cta-modal-header\" aria-describedby=\"cta-modal-subheader\">\\n          <h2 id=\"cta-modal-header\" class=\"cta-modal__header text-xl leading-regular font-bold text-color-text mr-[28px]\">You’re signed out</h2>\\n\\n          <h3 id=\"cta-modal-subheader\" class=\"cta-modal__subheader text-md leading-open font-normal text-color-text mt-0.5\">Sign in for the full experience.</h3>\\n\\n        \\n      <a class=\"cta-modal__primary-btn btn-md btn-primary inline-block w-full mt-3\" href=\"https://www.linkedin.com/login?emailAddress=&amp;fromSignIn=&amp;trk=public_jobs_conversion-modal-signin&amp;session_redirect=https%3A%2F%2Fwww.linkedin.com%2Fjobs%2Fsearch%2F%3FcurrentJobId%3D3702297562%26distance%3D25%26geoId%3D102713980%26keywords%3Dartificial%2520intelligence\" data-tracking-control-name=\"public_jobs_conversion-modal-signin\" data-tracking-will-navigate=\"\">\\n        Sign in\\n      </a>\\n\\n<!---->        <a class=\"cta-modal__secondary-btn btn-md inline-block w-full mt-1.5\\n            btn-secondary-emphasis px-0.5\" href=\"https://www.linkedin.com/signup/cold-join?source=jobs_registration&amp;trk=public_jobs_conversion-modal-join&amp;session_redirect=https%3A%2F%2Fwww.linkedin.com%2Fjobs%2Fsearch%2F%3FcurrentJobId%3D3702297562%26distance%3D25%26geoId%3D102713980%26keywords%3Dartificial%2520intelligence\" data-tracking-control-name=\"public_jobs_conversion-modal-join\" data-tracking-will-navigate=\"\">\\n          Join now\\n        </a>\\n\\n<!---->    \\n\\n        <button class=\"cta-modal__dismiss-btn absolute h-4 w-4 p-1 top-2 right-2 hover:cursor-pointer focus:outline focus:outline-2 focus:outline-color-action\" data-tracking-control-name=\"public_jobs_conversion-modal_dismiss\" aria-label=\"Dismiss\">\\n          <icon class=\"cta-modal__dismiss-icon block h-2 w-2 onload lazy-loaded\" aria-hidden=\"true\" aria-busy=\"false\"><svg xmlns=\"http://www.w3.org/2000/svg\" viewBox=\"0 0 16 16\" id=\"close-small\" data-supported-dps=\"16x16\" fill=\"currentColor\" focusable=\"false\" class=\"lazy-loaded\" aria-busy=\"false\">\\n  <path d=\"M14 3.41L9.41 8 14 12.59 12.59 14 8 9.41 3.41 14 2 12.59 6.59 8 2 3.41 3.41 2 8 6.59 12.59 2z\"></path>\\n</svg></icon>\\n        </button>\\n      </div>\\n  \\n  \\n\\n<!---->\\n        \\n    \\n\\n    <div id=\"toasts\" class=\"toasts fixed z-8 babybear:right-4 mamabear:right-4 papabear:min-h-[96px] invisible\\n        top:auto bottom-4 left-4 papabear:w-[400px]\\n        toasts--bottom\" type=\"bottom\">\\n    \\n\\n    <template id=\"toast-template\">\\n      <div class=\"toast container-raised flex\\n          toast--bottom\\n          transition ease-accelerate duration-xxslow\\n          \" data-id=\"toast\">\\n        <div class=\"toast__message flex flex-1 babybear:items-center mamabear:items-center papabear:items-start py-2 px-1.5\" data-id=\"toast__message\" role=\"alert\" tabindex=\"-1\">\\n          <div class=\"toast__message-content-container\" data-id=\"toast__message-content-container\">\\n            <p class=\"toast__message-content font-sans text-sm opacity-90 inline babybear:self-center mamabear:self-center papabear:self-start\" data-id=\"toast__message-content\"></p>\\n          </div>\\n        </div>\\n        <button class=\"toast__dismiss-btn cursor-pointer babybear:self-center mamabear:self-center papabear:self-start pt-3 pb-2 papabear:py-2 pl-0.5 pr-0\" data-id=\"toast__dismiss-btn\" aria-label=\"Close\">\\n          <svg width=\"24\" height=\"24\" class=\"fill-color-icon\"><path d=\"M13 4.32 9.31 8 13 11.69 11.69 13 8 9.31 4.31 13 3 11.69 6.69 8 3 4.31 4.31 3 8 6.69 11.68 3Z\"></path></svg>\\n        </button>\\n      </div>\\n    </template>\\n      <template id=\"toast-icon-caution\">\\n        <icon class=\"text-color-icon-caution toast__icon w-3 h-3 shrink-0 mr-2\" data-delayed-url=\"https://static.licdn.com/aero-v1/sc/h/u6kgm8vi5s4rhtbgmjlphlp6\"></icon>\\n      </template>\\n      <template id=\"toast-icon-error\">\\n        <icon class=\"text-color-icon-negative toast__icon w-3 h-3 shrink-0 mr-2\" data-delayed-url=\"https://static.licdn.com/aero-v1/sc/h/2ffvlzyh9wb65459t9va8w2ph\"></icon>\\n      </template>\\n      <template id=\"toast-icon-gdpr\">\\n        <icon class=\"text-color-icon-neutral toast__icon w-3 h-3 shrink-0 mr-2\" data-delayed-url=\"https://static.licdn.com/aero-v1/sc/h/a0d85elrpgg38lskvq1kvzb3\"></icon>\\n      </template>\\n      <template id=\"toast-icon-notify\">\\n        <icon class=\"text-color-icon-neutral toast__icon w-3 h-3 shrink-0 mr-2\" data-delayed-url=\"https://static.licdn.com/aero-v1/sc/h/de23f5me7dfm17unsj9up4vga\"></icon>\\n      </template>\\n      <template id=\"toast-icon-success\">\\n        <icon class=\"text-color-icon-positive toast__icon w-3 h-3 shrink-0 mr-2\" data-delayed-url=\"https://static.licdn.com/aero-v1/sc/h/c44ryoszao52cyd0y87z7s0uf\"></icon>\\n      </template>\\n    <template id=\"toast-cta\">\\n      <a class=\"toast__cta cta-link font-medium ml-0.5 text-sm text-inherit inline\" target=\"_blank\"></a>\\n    </template>\\n  </div>\\n  \\n\\n        <section id=\"json-refs\">\\n          <code id=\"requestSubdomain\" style=\"display: none\"><!--\"www\"--></code>\\n          <code id=\"pageKey\" style=\"display: none\"><!--\"d_jobs_guest_search\"--></code>\\n          \\n            \\n          \\n          \\n          \\n          <code id=\"i18n_redirected_from_deleted_alert\" style=\"display: none\"><!--\"This job alert has been deactivated.\"--></code>\\n<!----><!---->            <code id=\"isGoogleAutoLoginEnabled\" style=\"display: none\"><!--true--></code>\\n        </section>\\n      \\n\\n            <script src=\"https://static.licdn.com/aero-v1/sc/h/cchc4xla3dglu106e9mw6snkx\" async=\"\"></script>\\n<!---->          \\n          <script src=\"https://static.licdn.com/aero-v1/sc/h/2bklyt7a62r04d32xps3yw0e1\" async=\"\" defer=\"\"></script>\\n\\n<!---->\\n<!---->      \\n      \\n    \\n  \\n  </body></html>'"
      ]
     },
     "execution_count": 16,
     "metadata": {},
     "output_type": "execute_result"
    }
   ],
   "source": [
    "source"
   ]
  },
  {
   "cell_type": "code",
   "execution_count": 8,
   "id": "3b5aefd7",
   "metadata": {},
   "outputs": [],
   "source": [
    "from bs4 import BeautifulSoup\n",
    "\n",
    "soup = BeautifulSoup(source, 'lxml')\n",
    "data=soup.find_all('div', class_='base-search-card__info')\n",
    "\n",
    "title=[]\n",
    "Location=[]\n",
    "time=[]\n",
    "date=[]\n",
    "Company_Name=[]\n",
    "description = \n",
    "for i in soup.findAll('time'):\n",
    "        if i.has_attr('datetime'):\n",
    "            time.append(i.get_text().strip())\n",
    "            date.append(i['datetime'])\n",
    "\n",
    "for i in data:\n",
    "#     print('hello',i)\n",
    "    h3=i.find('h3', class_='base-search-card__title').get_text()\n",
    "    title.append(h3.strip())\n",
    "    \n",
    "    h4=i.find('h4', class_='base-search-card__subtitle').get_text()\n",
    "    Company_Name.append(h4.strip())\n",
    "    \n",
    "    spanl=i.find('span', class_=\"job-search-card__location\").get_text()\n",
    "    Location.append(spanl.strip())\n",
    "    \n",
    "#     hire=i.find('span',class_='result-benefits__text').get_text()\n",
    "#     hiring.append(hire.strip())\n",
    "\n",
    "#     comp=i.find('a',class_='hidden-nested-link').get_text()\n",
    "#     Company_Name.append(comp.strip())"
   ]
  },
  {
   "cell_type": "code",
   "execution_count": 9,
   "id": "2832fecd",
   "metadata": {},
   "outputs": [
    {
     "data": {
      "text/html": [
       "<div>\n",
       "<style scoped>\n",
       "    .dataframe tbody tr th:only-of-type {\n",
       "        vertical-align: middle;\n",
       "    }\n",
       "\n",
       "    .dataframe tbody tr th {\n",
       "        vertical-align: top;\n",
       "    }\n",
       "\n",
       "    .dataframe thead th {\n",
       "        text-align: right;\n",
       "    }\n",
       "</style>\n",
       "<table border=\"1\" class=\"dataframe\">\n",
       "  <thead>\n",
       "    <tr style=\"text-align: right;\">\n",
       "      <th></th>\n",
       "      <th>Title</th>\n",
       "      <th>Company</th>\n",
       "      <th>Location</th>\n",
       "      <th>Date</th>\n",
       "      <th>Posted</th>\n",
       "    </tr>\n",
       "  </thead>\n",
       "  <tbody>\n",
       "    <tr>\n",
       "      <th>0</th>\n",
       "      <td>Junior Data Scientist - IIT/BITS</td>\n",
       "      <td>Whitetable.ai (Previously as IIE Network)</td>\n",
       "      <td>Bengaluru, Karnataka, India</td>\n",
       "      <td>1 month ago</td>\n",
       "      <td>2023-08-05</td>\n",
       "    </tr>\n",
       "    <tr>\n",
       "      <th>1</th>\n",
       "      <td>Artificial Intelligence Role</td>\n",
       "      <td>Dubai Jobs, Gulf Jobs, Jobs in Dubai, Qatar, K...</td>\n",
       "      <td>Mumbai, Maharashtra, India</td>\n",
       "      <td>1 month ago</td>\n",
       "      <td>2023-08-04</td>\n",
       "    </tr>\n",
       "    <tr>\n",
       "      <th>2</th>\n",
       "      <td>AI/ML Data Scientist</td>\n",
       "      <td>Experfy</td>\n",
       "      <td>Bengaluru, Karnataka, India</td>\n",
       "      <td>3 months ago</td>\n",
       "      <td>2023-05-20</td>\n",
       "    </tr>\n",
       "    <tr>\n",
       "      <th>3</th>\n",
       "      <td>NLTK, CORENLP</td>\n",
       "      <td>Zensar Technologies</td>\n",
       "      <td>Pune/Pimpri-Chinchwad Area</td>\n",
       "      <td>5 days ago</td>\n",
       "      <td>2023-08-31</td>\n",
       "    </tr>\n",
       "    <tr>\n",
       "      <th>4</th>\n",
       "      <td>Deep Learning Engineer (Internship)</td>\n",
       "      <td>HyperVerge</td>\n",
       "      <td>Bengaluru, Karnataka, India</td>\n",
       "      <td>2 months ago</td>\n",
       "      <td>2023-06-26</td>\n",
       "    </tr>\n",
       "    <tr>\n",
       "      <th>...</th>\n",
       "      <td>...</td>\n",
       "      <td>...</td>\n",
       "      <td>...</td>\n",
       "      <td>...</td>\n",
       "      <td>...</td>\n",
       "    </tr>\n",
       "    <tr>\n",
       "      <th>120</th>\n",
       "      <td>Image Processing &amp; Computer Vision Internship ...</td>\n",
       "      <td>Signzy</td>\n",
       "      <td>Bengaluru East, Karnataka, India</td>\n",
       "      <td>4 days ago</td>\n",
       "      <td>2023-08-31</td>\n",
       "    </tr>\n",
       "    <tr>\n",
       "      <th>121</th>\n",
       "      <td>Machine Learning Engineer - 300823</td>\n",
       "      <td>Sirion</td>\n",
       "      <td>Gurugram, Haryana, India</td>\n",
       "      <td>4 days ago</td>\n",
       "      <td>2023-09-01</td>\n",
       "    </tr>\n",
       "    <tr>\n",
       "      <th>122</th>\n",
       "      <td>AI/ML Architect</td>\n",
       "      <td>Cortex Consultants LLC</td>\n",
       "      <td>Chennai, Tamil Nadu, India</td>\n",
       "      <td>2 months ago</td>\n",
       "      <td>2023-06-13</td>\n",
       "    </tr>\n",
       "    <tr>\n",
       "      <th>123</th>\n",
       "      <td>Computer Vision Intern</td>\n",
       "      <td>Stylumia</td>\n",
       "      <td>Bengaluru North, Karnataka, India</td>\n",
       "      <td>3 months ago</td>\n",
       "      <td>2023-06-07</td>\n",
       "    </tr>\n",
       "    <tr>\n",
       "      <th>124</th>\n",
       "      <td>Python Developer</td>\n",
       "      <td>Kwantics</td>\n",
       "      <td>Delhi, India</td>\n",
       "      <td>2 months ago</td>\n",
       "      <td>2023-06-12</td>\n",
       "    </tr>\n",
       "  </tbody>\n",
       "</table>\n",
       "<p>125 rows × 5 columns</p>\n",
       "</div>"
      ],
      "text/plain": [
       "                                                 Title  \\\n",
       "0                     Junior Data Scientist - IIT/BITS   \n",
       "1                         Artificial Intelligence Role   \n",
       "2                                 AI/ML Data Scientist   \n",
       "3                                        NLTK, CORENLP   \n",
       "4                  Deep Learning Engineer (Internship)   \n",
       "..                                                 ...   \n",
       "120  Image Processing & Computer Vision Internship ...   \n",
       "121                 Machine Learning Engineer - 300823   \n",
       "122                                    AI/ML Architect   \n",
       "123                             Computer Vision Intern   \n",
       "124                                   Python Developer   \n",
       "\n",
       "                                               Company  \\\n",
       "0            Whitetable.ai (Previously as IIE Network)   \n",
       "1    Dubai Jobs, Gulf Jobs, Jobs in Dubai, Qatar, K...   \n",
       "2                                              Experfy   \n",
       "3                                  Zensar Technologies   \n",
       "4                                           HyperVerge   \n",
       "..                                                 ...   \n",
       "120                                             Signzy   \n",
       "121                                             Sirion   \n",
       "122                             Cortex Consultants LLC   \n",
       "123                                           Stylumia   \n",
       "124                                           Kwantics   \n",
       "\n",
       "                              Location          Date      Posted  \n",
       "0          Bengaluru, Karnataka, India   1 month ago  2023-08-05  \n",
       "1           Mumbai, Maharashtra, India   1 month ago  2023-08-04  \n",
       "2          Bengaluru, Karnataka, India  3 months ago  2023-05-20  \n",
       "3           Pune/Pimpri-Chinchwad Area    5 days ago  2023-08-31  \n",
       "4          Bengaluru, Karnataka, India  2 months ago  2023-06-26  \n",
       "..                                 ...           ...         ...  \n",
       "120   Bengaluru East, Karnataka, India    4 days ago  2023-08-31  \n",
       "121           Gurugram, Haryana, India    4 days ago  2023-09-01  \n",
       "122         Chennai, Tamil Nadu, India  2 months ago  2023-06-13  \n",
       "123  Bengaluru North, Karnataka, India  3 months ago  2023-06-07  \n",
       "124                       Delhi, India  2 months ago  2023-06-12  \n",
       "\n",
       "[125 rows x 5 columns]"
      ]
     },
     "execution_count": 9,
     "metadata": {},
     "output_type": "execute_result"
    }
   ],
   "source": [
    "import pandas as pd\n",
    "\n",
    "cols=['Title','Company','Location','Date','Posted']\n",
    "df = pd.DataFrame(list(zip(title,Company_Name,Location,time,date)),\n",
    "               columns =cols)\n",
    "df"
   ]
  },
  {
   "cell_type": "code",
   "execution_count": null,
   "id": "0196f97b",
   "metadata": {},
   "outputs": [],
   "source": []
  },
  {
   "cell_type": "code",
   "execution_count": null,
   "id": "2cbbcf5d",
   "metadata": {},
   "outputs": [],
   "source": []
  },
  {
   "cell_type": "code",
   "execution_count": null,
   "id": "8e77e2e3",
   "metadata": {},
   "outputs": [],
   "source": []
  },
  {
   "cell_type": "code",
   "execution_count": null,
   "id": "21b16dfb",
   "metadata": {},
   "outputs": [],
   "source": []
  },
  {
   "cell_type": "code",
   "execution_count": null,
   "id": "9db8e966",
   "metadata": {},
   "outputs": [],
   "source": []
  },
  {
   "cell_type": "code",
   "execution_count": null,
   "id": "966774b7",
   "metadata": {},
   "outputs": [],
   "source": []
  },
  {
   "cell_type": "code",
   "execution_count": null,
   "id": "5e005f4d",
   "metadata": {},
   "outputs": [],
   "source": []
  },
  {
   "cell_type": "code",
   "execution_count": null,
   "id": "ed374dc0",
   "metadata": {},
   "outputs": [],
   "source": []
  },
  {
   "cell_type": "code",
   "execution_count": null,
   "id": "71be56d9",
   "metadata": {},
   "outputs": [],
   "source": []
  },
  {
   "cell_type": "code",
   "execution_count": null,
   "id": "74b2e112",
   "metadata": {},
   "outputs": [],
   "source": []
  },
  {
   "cell_type": "code",
   "execution_count": null,
   "id": "cd7ae31e",
   "metadata": {},
   "outputs": [],
   "source": []
  },
  {
   "cell_type": "code",
   "execution_count": null,
   "id": "c68282f7",
   "metadata": {},
   "outputs": [],
   "source": []
  },
  {
   "cell_type": "code",
   "execution_count": null,
   "id": "37edfcdf",
   "metadata": {},
   "outputs": [],
   "source": []
  },
  {
   "cell_type": "code",
   "execution_count": null,
   "id": "bb8a7f13",
   "metadata": {},
   "outputs": [],
   "source": []
  },
  {
   "cell_type": "code",
   "execution_count": null,
   "id": "bb95eed2",
   "metadata": {},
   "outputs": [],
   "source": []
  },
  {
   "cell_type": "code",
   "execution_count": null,
   "id": "fb469561",
   "metadata": {},
   "outputs": [],
   "source": []
  },
  {
   "cell_type": "code",
   "execution_count": null,
   "id": "ace3bf29",
   "metadata": {},
   "outputs": [],
   "source": []
  },
  {
   "cell_type": "code",
   "execution_count": null,
   "id": "54b9ad26",
   "metadata": {},
   "outputs": [],
   "source": []
  },
  {
   "cell_type": "code",
   "execution_count": null,
   "id": "9cadb637",
   "metadata": {},
   "outputs": [],
   "source": []
  },
  {
   "cell_type": "code",
   "execution_count": null,
   "id": "e164bfdd",
   "metadata": {},
   "outputs": [],
   "source": []
  },
  {
   "cell_type": "code",
   "execution_count": null,
   "id": "0f3353d1",
   "metadata": {},
   "outputs": [],
   "source": []
  },
  {
   "cell_type": "code",
   "execution_count": null,
   "id": "4b6efc2a",
   "metadata": {},
   "outputs": [],
   "source": []
  },
  {
   "cell_type": "code",
   "execution_count": null,
   "id": "644d09fe",
   "metadata": {},
   "outputs": [],
   "source": []
  },
  {
   "cell_type": "code",
   "execution_count": null,
   "id": "418f57b5",
   "metadata": {},
   "outputs": [],
   "source": []
  },
  {
   "cell_type": "code",
   "execution_count": null,
   "id": "72760211",
   "metadata": {},
   "outputs": [],
   "source": []
  },
  {
   "cell_type": "code",
   "execution_count": null,
   "id": "ed080030",
   "metadata": {},
   "outputs": [],
   "source": []
  },
  {
   "cell_type": "code",
   "execution_count": null,
   "id": "27468ad9",
   "metadata": {},
   "outputs": [],
   "source": []
  },
  {
   "cell_type": "code",
   "execution_count": null,
   "id": "748e8896",
   "metadata": {},
   "outputs": [],
   "source": []
  },
  {
   "cell_type": "code",
   "execution_count": null,
   "id": "e104ad97",
   "metadata": {},
   "outputs": [],
   "source": [
    "span"
   ]
  },
  {
   "cell_type": "code",
   "execution_count": null,
   "id": "9ca92bf7",
   "metadata": {},
   "outputs": [],
   "source": [
    "data[0]"
   ]
  },
  {
   "cell_type": "code",
   "execution_count": null,
   "id": "bf6aa395",
   "metadata": {},
   "outputs": [],
   "source": [
    "data[6].find('span',class_='result-benefits__text').get_text()"
   ]
  },
  {
   "cell_type": "code",
   "execution_count": null,
   "id": "b5c59f17",
   "metadata": {},
   "outputs": [],
   "source": [
    "h=soup.findall('div',class_='result-benefits__text')\n",
    "h\n",
    "# hire=i.find('span',class_='result-benefits__text').get_text()\n",
    "# hiring.append(hire.strip())\n",
    "    "
   ]
  },
  {
   "cell_type": "code",
   "execution_count": null,
   "id": "e9791060",
   "metadata": {},
   "outputs": [],
   "source": [
    "<span class=\"result-benefits__text\">\n",
    "         Be an early applicant\n",
    "<!---->      </span>"
   ]
  },
  {
   "cell_type": "code",
   "execution_count": null,
   "id": "b78f5110",
   "metadata": {},
   "outputs": [],
   "source": [
    "import pandas as pd\n",
    "\n",
    "cols=['Title','Description','Location','Hiring','Date','Posted']\n",
    "df = pd.DataFrame(list(zip(title,desc,span,hiring,time,date)),\n",
    "               columns =cols)\n",
    "df"
   ]
  },
  {
   "cell_type": "code",
   "execution_count": null,
   "id": "e8cd7a5a",
   "metadata": {},
   "outputs": [],
   "source": []
  },
  {
   "cell_type": "code",
   "execution_count": null,
   "id": "8bee415d",
   "metadata": {},
   "outputs": [],
   "source": []
  },
  {
   "cell_type": "code",
   "execution_count": null,
   "id": "ec85845d",
   "metadata": {},
   "outputs": [],
   "source": []
  },
  {
   "cell_type": "code",
   "execution_count": null,
   "id": "66efd199",
   "metadata": {},
   "outputs": [],
   "source": []
  },
  {
   "cell_type": "code",
   "execution_count": null,
   "id": "c824c2d2",
   "metadata": {},
   "outputs": [],
   "source": []
  },
  {
   "cell_type": "code",
   "execution_count": null,
   "id": "986bd579",
   "metadata": {},
   "outputs": [],
   "source": []
  },
  {
   "cell_type": "code",
   "execution_count": null,
   "id": "c719d07a",
   "metadata": {},
   "outputs": [],
   "source": []
  },
  {
   "cell_type": "code",
   "execution_count": null,
   "id": "42f9eac5",
   "metadata": {},
   "outputs": [],
   "source": [
    "Location"
   ]
  },
  {
   "cell_type": "code",
   "execution_count": null,
   "id": "6f251557",
   "metadata": {},
   "outputs": [],
   "source": [
    "h3=soup.findAll('h3', class_='base-search-card__title')\n",
    "h3\n",
    "\n",
    "# title.append(h3.strip())"
   ]
  },
  {
   "cell_type": "code",
   "execution_count": null,
   "id": "511f2941",
   "metadata": {},
   "outputs": [],
   "source": [
    "h3.source"
   ]
  },
  {
   "cell_type": "code",
   "execution_count": null,
   "id": "4a4223af",
   "metadata": {},
   "outputs": [],
   "source": [
    "dir(h3)"
   ]
  },
  {
   "cell_type": "code",
   "execution_count": null,
   "id": "1981dc76",
   "metadata": {},
   "outputs": [],
   "source": [
    "for i in h3:\n",
    "    print(i)"
   ]
  },
  {
   "cell_type": "code",
   "execution_count": null,
   "id": "d84fa05f",
   "metadata": {},
   "outputs": [],
   "source": [
    "title"
   ]
  },
  {
   "cell_type": "code",
   "execution_count": null,
   "id": "b0b3058b",
   "metadata": {},
   "outputs": [],
   "source": [
    "len(selector)"
   ]
  },
  {
   "cell_type": "code",
   "execution_count": null,
   "id": "13008381",
   "metadata": {},
   "outputs": [],
   "source": [
    "selector"
   ]
  },
  {
   "cell_type": "code",
   "execution_count": null,
   "id": "e4f67c6c",
   "metadata": {},
   "outputs": [],
   "source": [
    "i.find('a',class_='hidden-nested-link').get_text()"
   ]
  },
  {
   "cell_type": "code",
   "execution_count": null,
   "id": "c9105c1c",
   "metadata": {},
   "outputs": [],
   "source": [
    "<a class=\"hidden-nested-link\" data-tracking-client-ingraph=\"\" data-tracking-control-name=\"public_jobs_jserp-result_job-search-card-subtitle\" data-tracking-will-navigate=\"\" href=\"https://www.linkedin.com/company/robert-half-international?trk=public_jobs_jserp-result_job-search-card-subtitle\">\n",
    "            Robert Half\n",
    "          </a>"
   ]
  },
  {
   "cell_type": "code",
   "execution_count": null,
   "id": "cde72e56",
   "metadata": {},
   "outputs": [],
   "source": [
    "import pandas as pd\n",
    "\n",
    "cols=['Title','Description','Location','Hiring','Date','Posted']\n",
    "df = pd.DataFrame(list(zip(title,desc,span,hiring,time,date)),\n",
    "               columns =cols)\n",
    "df"
   ]
  },
  {
   "cell_type": "code",
   "execution_count": null,
   "id": "85b9a1bd",
   "metadata": {},
   "outputs": [],
   "source": [
    "dir(By)"
   ]
  },
  {
   "cell_type": "code",
   "execution_count": null,
   "id": "a23d7319",
   "metadata": {},
   "outputs": [],
   "source": [
    "wd=webdriver.Chrome()\n",
    "wd.get('https://ca.linkedin.com/jobs/canada-jobs-jobs?keywords=Canada%20Jobs&location=Canada&locationId=&geoId=101174742&f_TPR=r2592000&position=1&pageNum=0')\n",
    "\n",
    "timelib.sleep(2)\n",
    "scroll_pause_time = 1 \n",
    "screen_height = wd.execute_script(\"return window.screen.height;\")   # get the screen height of the web\n",
    "i = 1\n",
    "element=wd.find_element(By.TAG_NAME,'HTML')\n",
    "while True:\n",
    "    # scroll one screen height each time\n",
    "    driver.execute_script(\"window.scrollTo(0, {screen_height}*{i});\".format(screen_height=screen_height, i=i))  \n",
    "    i += 1\n",
    "    timelib.sleep(scroll_pause_time)\n",
    "    # update scroll height each time after scrolled, as the scroll height can change after we scrolled the page\n",
    "    scroll_height = driver.execute_script(\"return document.body.scrollHeight;\")  \n",
    "    # Break the loop when the height we need to scroll to is larger than the total scroll height\n",
    "    if (screen_height) * i > scroll_height:\n",
    "        break\n",
    "        \n",
    "# for i in range(5):\n",
    "#     element.send_keys('PAGE_DOWN')\n",
    "#     timelib.sleep(3)\n",
    "source=wd.page_source\n",
    "# wd.quit()"
   ]
  },
  {
   "cell_type": "code",
   "execution_count": null,
   "id": "f08e844a",
   "metadata": {},
   "outputs": [],
   "source": [
    "dir(element)"
   ]
  },
  {
   "cell_type": "code",
   "execution_count": null,
   "id": "155ea73d",
   "metadata": {},
   "outputs": [],
   "source": [
    "# driver = webdriver.Chrome(executable_path=r\"E:\\Chromedriver\\chromedriver_win32_chrome83\\chromedriver.exe\")\n",
    "# driver.get(\"https://www.reddit.com/search/?q=r%2FCOVID19\")\n",
    "time.sleep(2)  # Allow 2 seconds for the web page to open\n",
    "scroll_pause_time = 1 # You can set your own pause time. My laptop is a bit slow so I use 1 sec\n",
    "screen_height = driver.execute_script(\"return window.screen.height;\")   # get the screen height of the web\n",
    "i = 1\n",
    "\n",
    "while True:\n",
    "    # scroll one screen height each time\n",
    "    driver.execute_script(\"window.scrollTo(0, {screen_height}*{i});\".format(screen_height=screen_height, i=i))  \n",
    "    i += 1\n",
    "    time.sleep(scroll_pause_time)\n",
    "    # update scroll height each time after scrolled, as the scroll height can change after we scrolled the page\n",
    "    scroll_height = driver.execute_script(\"return document.body.scrollHeight;\")  \n",
    "    # Break the loop when the height we need to scroll to is larger than the total scroll height\n",
    "    if (screen_height) * i > scroll_height:\n",
    "        break"
   ]
  },
  {
   "cell_type": "code",
   "execution_count": null,
   "id": "47af5eef",
   "metadata": {},
   "outputs": [],
   "source": [
    "wd.current_window_handle"
   ]
  },
  {
   "cell_type": "code",
   "execution_count": null,
   "id": "16d83d39",
   "metadata": {},
   "outputs": [],
   "source": [
    "help(wd.current_window_handle)"
   ]
  },
  {
   "cell_type": "code",
   "execution_count": null,
   "id": "6469b840",
   "metadata": {},
   "outputs": [],
   "source": [
    "dir(wd)"
   ]
  },
  {
   "cell_type": "code",
   "execution_count": null,
   "id": "e7476b73",
   "metadata": {},
   "outputs": [],
   "source": [
    "len(source)"
   ]
  },
  {
   "cell_type": "code",
   "execution_count": null,
   "id": "eb63be07",
   "metadata": {},
   "outputs": [],
   "source": [
    "from bs4 import BeautifulSoup"
   ]
  },
  {
   "cell_type": "code",
   "execution_count": null,
   "id": "e6a61cae",
   "metadata": {},
   "outputs": [],
   "source": [
    "soup = BeautifulSoup(source, 'lxml')"
   ]
  },
  {
   "cell_type": "code",
   "execution_count": null,
   "id": "6a223de6",
   "metadata": {},
   "outputs": [],
   "source": [
    "job=[]\n",
    "selector = soup.find_all('div', class_='base-search-card__info')"
   ]
  },
  {
   "cell_type": "code",
   "execution_count": null,
   "id": "c2e11d8b",
   "metadata": {},
   "outputs": [],
   "source": [
    "title=[]\n",
    "desc=[]\n",
    "span=[]\n",
    "hiring=[]\n",
    "time=[]\n",
    "date=[]\n",
    "\n",
    "for i in soup.findAll('time'):\n",
    "        if i.has_attr('datetime'):\n",
    "            time.append(i.get_text().strip())\n",
    "            date.append(i['datetime'])\n",
    "\n",
    "for i in selector:\n",
    "    \n",
    "    h3=i.find('h3', class_='base-search-card__title').get_text()\n",
    "    title.append(h3.strip())\n",
    "    \n",
    "    h4=i.find('h4', class_='base-search-card__subtitle').get_text()\n",
    "    desc.append(h4.strip())\n",
    "    \n",
    "    spanl=i.find('span', class_=\"job-search-card__location\").get_text()\n",
    "    span.append(spanl.strip())\n",
    "    \n",
    "    hire=i.find('span',class_='result-benefits__text').get_text()\n",
    "    hiring.append(hire.strip())\n"
   ]
  },
  {
   "cell_type": "code",
   "execution_count": null,
   "id": "dd4a5258",
   "metadata": {
    "scrolled": true
   },
   "outputs": [],
   "source": [
    "for i in soup.findAll('time'):\n",
    "        if i.has_attr('datetime'):\n",
    "            print(i.get_text().strip())\n",
    "            print(i['datetime'])"
   ]
  },
  {
   "cell_type": "code",
   "execution_count": null,
   "id": "d1fd07aa",
   "metadata": {},
   "outputs": [],
   "source": [
    "<time class=\"job-search-card__listdate--new\" datetime=\"2022-08-20\">"
   ]
  },
  {
   "cell_type": "code",
   "execution_count": null,
   "id": "5edfd4bd",
   "metadata": {},
   "outputs": [],
   "source": [
    "selector"
   ]
  },
  {
   "cell_type": "code",
   "execution_count": null,
   "id": "f3d91f67",
   "metadata": {},
   "outputs": [],
   "source": [
    "print(soup.get_text())"
   ]
  },
  {
   "cell_type": "code",
   "execution_count": null,
   "id": "9c1179b4",
   "metadata": {},
   "outputs": [],
   "source": [
    "selector"
   ]
  },
  {
   "cell_type": "code",
   "execution_count": null,
   "id": "9c022187",
   "metadata": {},
   "outputs": [],
   "source": []
  },
  {
   "cell_type": "code",
   "execution_count": null,
   "id": "8d6cc1fe",
   "metadata": {},
   "outputs": [],
   "source": [
    "dir(selector)"
   ]
  },
  {
   "cell_type": "code",
   "execution_count": null,
   "id": "b2e3bce9",
   "metadata": {},
   "outputs": [],
   "source": [
    "for i in selector:\n",
    "    print(type(i))\n"
   ]
  },
  {
   "cell_type": "code",
   "execution_count": null,
   "id": "0e62252b",
   "metadata": {},
   "outputs": [],
   "source": [
    "from selenium import webdriver\n",
    "\n",
    "options = webdriver.ChromeOptions()\n",
    "options.add_argument('--ignore-certificate-errors')\n",
    "options.add_argument('--incognito')\n",
    "options.add_argument('--headless')\n",
    "\n",
    "driver = webdriver.Chrome()\n",
    "import time\n",
    "\n",
    "driver.get(\"https://www.tripadvisor.com/Airline_Review-d8729157-Reviews-Spirit-Airlines#REVIEWS\")\n",
    "more_buttons = driver.find_elements(\"moreLink\")\n",
    "for x in range(len(more_buttons)):\n",
    "  if more_buttons[x].is_displayed():\n",
    "      driver.execute_script(\"arguments[0].click();\", more_buttons[x])\n",
    "      time.sleep(1)\n",
    "page_source = driver.page_source\n",
    "from bs4 import BeautifulSoup\n",
    "\n",
    "soup = BeautifulSoup(page_source, 'lxml')\n",
    "reviews = []\n",
    "reviews_selector = soup.find_all('div', class_='reviewSelector')\n",
    "for review_selector in reviews_selector:\n",
    "    review_div = review_selector.find('div', class_='dyn_full_review')\n",
    "    if review_div is None:\n",
    "        review_div = review_selector.find('div', class_='basic_review')\n",
    "    review = review_div.find('div', class_='entry').find('p').get_text()\n",
    "    review = review.strip()\n",
    "    reviews.append(review)"
   ]
  },
  {
   "cell_type": "code",
   "execution_count": null,
   "id": "a05563ec",
   "metadata": {},
   "outputs": [],
   "source": [
    "reviews"
   ]
  },
  {
   "cell_type": "code",
   "execution_count": null,
   "id": "9ef6c314",
   "metadata": {},
   "outputs": [],
   "source": []
  },
  {
   "cell_type": "code",
   "execution_count": null,
   "id": "20e4f2b9",
   "metadata": {},
   "outputs": [],
   "source": []
  },
  {
   "cell_type": "code",
   "execution_count": null,
   "id": "9507e5ba",
   "metadata": {},
   "outputs": [],
   "source": []
  },
  {
   "cell_type": "code",
   "execution_count": null,
   "id": "a98784fb",
   "metadata": {},
   "outputs": [],
   "source": []
  },
  {
   "cell_type": "code",
   "execution_count": null,
   "id": "50c48e63",
   "metadata": {},
   "outputs": [],
   "source": []
  },
  {
   "cell_type": "code",
   "execution_count": null,
   "id": "38bcad6d",
   "metadata": {},
   "outputs": [],
   "source": []
  },
  {
   "cell_type": "code",
   "execution_count": null,
   "id": "f1c5f822",
   "metadata": {},
   "outputs": [],
   "source": []
  },
  {
   "cell_type": "code",
   "execution_count": null,
   "id": "69392649",
   "metadata": {},
   "outputs": [],
   "source": []
  },
  {
   "cell_type": "code",
   "execution_count": null,
   "id": "1a47c254",
   "metadata": {},
   "outputs": [],
   "source": []
  },
  {
   "cell_type": "code",
   "execution_count": null,
   "id": "9b9ea88c",
   "metadata": {},
   "outputs": [],
   "source": []
  },
  {
   "cell_type": "code",
   "execution_count": null,
   "id": "72e66b96",
   "metadata": {},
   "outputs": [],
   "source": [
    "wd.current_url=\"https://ca.linkedin.com/jobs/canada-jobs-jobs\""
   ]
  },
  {
   "cell_type": "code",
   "execution_count": null,
   "id": "bb1cd0ed",
   "metadata": {},
   "outputs": [],
   "source": [
    "dir(wd)"
   ]
  },
  {
   "cell_type": "code",
   "execution_count": null,
   "id": "75b6ea80",
   "metadata": {},
   "outputs": [],
   "source": [
    "dir(el)"
   ]
  },
  {
   "cell_type": "code",
   "execution_count": null,
   "id": "02d0bc41",
   "metadata": {},
   "outputs": [],
   "source": [
    "help(el.click)"
   ]
  },
  {
   "cell_type": "code",
   "execution_count": null,
   "id": "450b6322",
   "metadata": {},
   "outputs": [],
   "source": [
    "dir(Keys)"
   ]
  },
  {
   "cell_type": "code",
   "execution_count": null,
   "id": "737b22ec",
   "metadata": {},
   "outputs": [],
   "source": [
    "from selenium import webdriver\n",
    "from selenium.webdriver.common.by import By\n",
    "driver = webdriver.Chrome()\n",
    "\n",
    "    # Navigate to url\n",
    "driver.get(\"http://www.google.com\")\n",
    "    # Store 'SearchInput' element\n",
    "SearchInput = driver.find_element(By.NAME, \"q\")\n",
    "SearchInput.send_keys(\"selenium\")\n",
    "    # Clears the entered text\n",
    "# SearchInput.clear()"
   ]
  },
  {
   "cell_type": "code",
   "execution_count": null,
   "id": "caa3b7d2",
   "metadata": {},
   "outputs": [],
   "source": [
    "help(wd.find_elements_by_id)"
   ]
  },
  {
   "cell_type": "code",
   "execution_count": null,
   "id": "e7c52fe1",
   "metadata": {},
   "outputs": [],
   "source": [
    "wd=webdriver.Chrome()\n",
    "wd.get(\"https://ca.linkedin.com/jobs/canada-jobs-jobs\")\n"
   ]
  },
  {
   "cell_type": "code",
   "execution_count": null,
   "id": "83b158cb",
   "metadata": {},
   "outputs": [],
   "source": [
    "dir(wd)"
   ]
  },
  {
   "cell_type": "code",
   "execution_count": null,
   "id": "0b1c5806",
   "metadata": {},
   "outputs": [],
   "source": [
    "help(wd.find_element)"
   ]
  },
  {
   "cell_type": "code",
   "execution_count": null,
   "id": "fea6814f",
   "metadata": {},
   "outputs": [],
   "source": [
    "<input id=\"username\" name=\"session_key\" type=\"text\" aria-describedby=\"error-for-username\" required=\"\" validation=\"email|tel\" class=\"\" autofocus=\"\" aria-label=\"Email or Phone\">"
   ]
  },
  {
   "cell_type": "code",
   "execution_count": null,
   "id": "d2b99d09",
   "metadata": {},
   "outputs": [],
   "source": []
  },
  {
   "cell_type": "code",
   "execution_count": null,
   "id": "a41a02ab",
   "metadata": {},
   "outputs": [],
   "source": [
    "el"
   ]
  },
  {
   "cell_type": "code",
   "execution_count": null,
   "id": "49317c22",
   "metadata": {},
   "outputs": [],
   "source": []
  },
  {
   "cell_type": "code",
   "execution_count": null,
   "id": "b81d90b1",
   "metadata": {},
   "outputs": [],
   "source": []
  },
  {
   "cell_type": "code",
   "execution_count": null,
   "id": "0a48e2ed",
   "metadata": {},
   "outputs": [],
   "source": [
    "from selenium import webdriver\n",
    "\n",
    "options = webdriver.ChromeOptions()\n",
    "options.add_argument('--ignore-certificate-errors')\n",
    "options.add_argument('--incognito')\n",
    "options.add_argument('--headless')\n",
    "driver = webdriver.Chrome()"
   ]
  },
  {
   "cell_type": "code",
   "execution_count": null,
   "id": "6fc6afcf",
   "metadata": {},
   "outputs": [],
   "source": [
    "dir(webdriver)"
   ]
  },
  {
   "cell_type": "code",
   "execution_count": null,
   "id": "4fd7cb83",
   "metadata": {},
   "outputs": [],
   "source": []
  },
  {
   "cell_type": "code",
   "execution_count": null,
   "id": "836c377f",
   "metadata": {},
   "outputs": [],
   "source": []
  },
  {
   "cell_type": "code",
   "execution_count": null,
   "id": "dfcd1182",
   "metadata": {},
   "outputs": [],
   "source": []
  },
  {
   "cell_type": "code",
   "execution_count": null,
   "id": "b62cee11",
   "metadata": {},
   "outputs": [],
   "source": [
    "import selenium as sel\n",
    "from selenium import webdriver"
   ]
  },
  {
   "cell_type": "code",
   "execution_count": null,
   "id": "4c4429eb",
   "metadata": {},
   "outputs": [],
   "source": [
    "dir(sel)"
   ]
  },
  {
   "cell_type": "code",
   "execution_count": null,
   "id": "608225a3",
   "metadata": {},
   "outputs": [],
   "source": [
    "dir(sel.webdriver)"
   ]
  },
  {
   "cell_type": "code",
   "execution_count": null,
   "id": "b6163ae4",
   "metadata": {},
   "outputs": [],
   "source": [
    "dir(obj)"
   ]
  },
  {
   "cell_type": "code",
   "execution_count": null,
   "id": "64591c45",
   "metadata": {},
   "outputs": [],
   "source": [
    "import time\n",
    "obj=webdriver.Chrome()\n",
    "obj.get('https://www.linkedin.com/jobs/search/?currentJobId=3211654034&distance=25&f_T=9&geoId=101174742&keywords=canada%20jobs')\n",
    "\n",
    "time.sleep(5)\n",
    "obj.close()"
   ]
  },
  {
   "cell_type": "code",
   "execution_count": null,
   "id": "c53c9ad9",
   "metadata": {},
   "outputs": [],
   "source": []
  },
  {
   "cell_type": "code",
   "execution_count": null,
   "id": "10826021",
   "metadata": {},
   "outputs": [],
   "source": [
    "pip -V\n"
   ]
  },
  {
   "cell_type": "code",
   "execution_count": null,
   "id": "4dfdf0de",
   "metadata": {},
   "outputs": [],
   "source": [
    "from selenium import webdriver"
   ]
  },
  {
   "cell_type": "code",
   "execution_count": null,
   "id": "e41a339b",
   "metadata": {},
   "outputs": [],
   "source": [
    "options = webdriver.ChromeOptions()"
   ]
  },
  {
   "cell_type": "code",
   "execution_count": null,
   "id": "0b699681",
   "metadata": {},
   "outputs": [],
   "source": [
    "dir(options)"
   ]
  },
  {
   "cell_type": "code",
   "execution_count": null,
   "id": "12b184a4",
   "metadata": {},
   "outputs": [],
   "source": [
    "options.binary_location=r\"\\Users\\Slmss\\Desktop\\chromedriver.exe\""
   ]
  },
  {
   "cell_type": "code",
   "execution_count": null,
   "id": "630545b6",
   "metadata": {},
   "outputs": [],
   "source": [
    "help(options.browser_version)"
   ]
  },
  {
   "cell_type": "code",
   "execution_count": null,
   "id": "2e8b8100",
   "metadata": {},
   "outputs": [],
   "source": [
    "x=options.browser_version\n",
    "\n"
   ]
  },
  {
   "cell_type": "code",
   "execution_count": null,
   "id": "ed1755f6",
   "metadata": {},
   "outputs": [],
   "source": [
    "options.browserVersion"
   ]
  },
  {
   "cell_type": "code",
   "execution_count": null,
   "id": "dbbadafa",
   "metadata": {},
   "outputs": [],
   "source": [
    "options.Chrome()"
   ]
  },
  {
   "cell_type": "code",
   "execution_count": null,
   "id": "152efd4c",
   "metadata": {},
   "outputs": [],
   "source": [
    "x=webdriver.Chrome()\n",
    "x.quit()"
   ]
  },
  {
   "cell_type": "code",
   "execution_count": null,
   "id": "70fe9aa0",
   "metadata": {},
   "outputs": [],
   "source": [
    "dir(x)"
   ]
  },
  {
   "cell_type": "code",
   "execution_count": null,
   "id": "62d17e17",
   "metadata": {},
   "outputs": [],
   "source": [
    "options.get();"
   ]
  },
  {
   "cell_type": "code",
   "execution_count": null,
   "id": "0f00df7b",
   "metadata": {},
   "outputs": [],
   "source": []
  },
  {
   "cell_type": "code",
   "execution_count": null,
   "id": "73cfc969",
   "metadata": {},
   "outputs": [],
   "source": []
  },
  {
   "cell_type": "code",
   "execution_count": null,
   "id": "122631fc",
   "metadata": {},
   "outputs": [],
   "source": []
  },
  {
   "cell_type": "code",
   "execution_count": null,
   "id": "201843c3",
   "metadata": {},
   "outputs": [],
   "source": []
  },
  {
   "cell_type": "code",
   "execution_count": null,
   "id": "e6c015a0",
   "metadata": {},
   "outputs": [],
   "source": []
  },
  {
   "cell_type": "code",
   "execution_count": null,
   "id": "da940578",
   "metadata": {},
   "outputs": [],
   "source": []
  },
  {
   "cell_type": "code",
   "execution_count": null,
   "id": "daacdba0",
   "metadata": {},
   "outputs": [],
   "source": [
    "pip install bs4 selenium"
   ]
  },
  {
   "cell_type": "code",
   "execution_count": null,
   "id": "dc2afc01",
   "metadata": {},
   "outputs": [],
   "source": [
    "from selenium import webdriver\n",
    "\n",
    "options = webdriver.ChromeOptions()"
   ]
  },
  {
   "cell_type": "code",
   "execution_count": null,
   "id": "c7b832ba",
   "metadata": {},
   "outputs": [],
   "source": [
    "options.add_argument('--ignore-certificate-errors')\n",
    "options.add_argument('--incognito')\n",
    "options.add_argument('--headless')"
   ]
  },
  {
   "cell_type": "code",
   "execution_count": null,
   "id": "6293300a",
   "metadata": {},
   "outputs": [],
   "source": [
    "import time\n",
    "\n",
    "from selenium import webdriver\n",
    "\n",
    "\n",
    "driver = webdriver.Chrome(r\"\\Users\\Slmss\\Desktop\\chromedriver.exe\")  # Optional argument, if not specified will search path.\n",
    "\n",
    "driver.get();\n",
    "\n",
    "time.sleep(5) # Let the user actually see something!\n",
    "\n",
    "search_box = driver.find_element_by_name('q')\n",
    "\n",
    "search_box.send_keys('ChromeDriver')\n",
    "\n",
    "search_box.submit()\n",
    "\n",
    "time.sleep(5) # Let the user actually see something!\n",
    "\n",
    "driver.quit()"
   ]
  },
  {
   "cell_type": "code",
   "execution_count": null,
   "id": "b25a746f",
   "metadata": {},
   "outputs": [],
   "source": [
    "import time\n",
    "\n",
    "from selenium import webdriver\n",
    "\n",
    "from selenium.webdriver.chrome.service import Service\n",
    "\n",
    "service = Service(r\"\\Users\\Slmss\\Desktop\\chromedriver.exe\")\n",
    "\n",
    "service.start()\n",
    "\n",
    "driver = webdriver.Remote(service.service_url)\n",
    "\n",
    "driver.get('http://www.google.com/');\n",
    "\n",
    "time.sleep(5) # Let the user actually see something!\n",
    "\n",
    "driver.quit()"
   ]
  },
  {
   "cell_type": "code",
   "execution_count": null,
   "id": "afa9f1d7",
   "metadata": {},
   "outputs": [],
   "source": [
    "driver = webdriver.Chrome(\"/usr/lib/chromium-browser/chromedriver\", chrome_options=options)"
   ]
  },
  {
   "cell_type": "code",
   "execution_count": null,
   "id": "a0acb04f",
   "metadata": {},
   "outputs": [],
   "source": []
  },
  {
   "cell_type": "code",
   "execution_count": null,
   "id": "6c820990",
   "metadata": {},
   "outputs": [],
   "source": []
  },
  {
   "cell_type": "code",
   "execution_count": null,
   "id": "58ebd1e3",
   "metadata": {},
   "outputs": [],
   "source": []
  },
  {
   "cell_type": "code",
   "execution_count": null,
   "id": "29aa3b75",
   "metadata": {},
   "outputs": [],
   "source": []
  },
  {
   "cell_type": "code",
   "execution_count": null,
   "id": "30612d8f",
   "metadata": {},
   "outputs": [],
   "source": []
  },
  {
   "cell_type": "code",
   "execution_count": null,
   "id": "c5fe1a94",
   "metadata": {},
   "outputs": [],
   "source": []
  },
  {
   "cell_type": "code",
   "execution_count": null,
   "id": "1b748a21",
   "metadata": {},
   "outputs": [],
   "source": []
  },
  {
   "cell_type": "code",
   "execution_count": null,
   "id": "6d13f004",
   "metadata": {},
   "outputs": [],
   "source": []
  },
  {
   "cell_type": "code",
   "execution_count": null,
   "id": "0320c175",
   "metadata": {},
   "outputs": [],
   "source": []
  },
  {
   "cell_type": "code",
   "execution_count": null,
   "id": "3df42bb8",
   "metadata": {},
   "outputs": [],
   "source": []
  },
  {
   "cell_type": "code",
   "execution_count": null,
   "id": "94ac0f55",
   "metadata": {},
   "outputs": [],
   "source": []
  },
  {
   "cell_type": "code",
   "execution_count": null,
   "id": "ce157017",
   "metadata": {},
   "outputs": [],
   "source": []
  },
  {
   "cell_type": "code",
   "execution_count": null,
   "id": "d2d4d69d",
   "metadata": {},
   "outputs": [],
   "source": []
  },
  {
   "cell_type": "code",
   "execution_count": null,
   "id": "a78de07e",
   "metadata": {},
   "outputs": [],
   "source": []
  },
  {
   "cell_type": "code",
   "execution_count": null,
   "id": "1ec53595",
   "metadata": {},
   "outputs": [],
   "source": []
  },
  {
   "cell_type": "code",
   "execution_count": null,
   "id": "838a8e71",
   "metadata": {},
   "outputs": [],
   "source": []
  },
  {
   "cell_type": "code",
   "execution_count": null,
   "id": "1057ce9c",
   "metadata": {},
   "outputs": [],
   "source": []
  },
  {
   "cell_type": "code",
   "execution_count": null,
   "id": "a565db8b",
   "metadata": {},
   "outputs": [],
   "source": []
  },
  {
   "cell_type": "code",
   "execution_count": null,
   "id": "d3754876",
   "metadata": {},
   "outputs": [],
   "source": []
  },
  {
   "cell_type": "code",
   "execution_count": null,
   "id": "f74d5411",
   "metadata": {},
   "outputs": [],
   "source": []
  },
  {
   "cell_type": "code",
   "execution_count": null,
   "id": "3045fcfb",
   "metadata": {},
   "outputs": [],
   "source": [
    "pip uninstall selenium"
   ]
  },
  {
   "cell_type": "code",
   "execution_count": null,
   "id": "79032c24",
   "metadata": {},
   "outputs": [],
   "source": [
    "from selenium import webdriver\n",
    "\n",
    "\n",
    "driver = webdriver.Chrome()\n",
    "\n",
    "driver.get(\"http://facebook.com\")\n",
    "\n",
    "# driver.quit()\n"
   ]
  },
  {
   "cell_type": "raw",
   "id": "c584662d",
   "metadata": {},
   "source": [
    "dir("
   ]
  },
  {
   "cell_type": "code",
   "execution_count": null,
   "id": "c196aeed",
   "metadata": {},
   "outputs": [],
   "source": [
    "driver=webdriver.Chrome()"
   ]
  },
  {
   "cell_type": "code",
   "execution_count": null,
   "id": "0ac9dbf7",
   "metadata": {},
   "outputs": [],
   "source": [
    "help(webdriver.Chrome)"
   ]
  },
  {
   "cell_type": "code",
   "execution_count": null,
   "id": "3a0437b1",
   "metadata": {},
   "outputs": [],
   "source": [
    "\n",
    "dir(webdriver)"
   ]
  },
  {
   "cell_type": "code",
   "execution_count": null,
   "id": "3369ec60",
   "metadata": {},
   "outputs": [],
   "source": [
    "import "
   ]
  },
  {
   "cell_type": "code",
   "execution_count": null,
   "id": "9f852019",
   "metadata": {},
   "outputs": [],
   "source": [
    "selenium.__version__"
   ]
  }
 ],
 "metadata": {
  "hide_input": false,
  "kernelspec": {
   "display_name": "Python 3 (ipykernel)",
   "language": "python",
   "name": "python3"
  },
  "language_info": {
   "codemirror_mode": {
    "name": "ipython",
    "version": 3
   },
   "file_extension": ".py",
   "mimetype": "text/x-python",
   "name": "python",
   "nbconvert_exporter": "python",
   "pygments_lexer": "ipython3",
   "version": "3.11.4"
  }
 },
 "nbformat": 4,
 "nbformat_minor": 5
}
