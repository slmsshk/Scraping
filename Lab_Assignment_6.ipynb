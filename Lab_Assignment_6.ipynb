{
  "nbformat": 4,
  "nbformat_minor": 0,
  "metadata": {
    "colab": {
      "provenance": [],
      "collapsed_sections": []
    },
    "kernelspec": {
      "name": "python3",
      "display_name": "Python 3"
    },
    "language_info": {
      "name": "python"
    }
  },
  "cells": [
    {
      "cell_type": "markdown",
      "source": [
        "## DS200: Introduction to Data Sciences\n",
        "# Lab Assignment 6: Variance, Standard Deviation, Chebychev’s Bounds, and Standard Units (2 points)"
      ],
      "metadata": {
        "id": "mwhXqtCYa5_M"
      }
    },
    {
      "cell_type": "code",
      "source": [
        "from datascience import *\n",
        "import numpy as np\n",
        "\n",
        "import matplotlib\n",
        "matplotlib.use('Agg')\n",
        "%matplotlib inline\n",
        "import matplotlib.pyplot as plots\n",
        "plots.style.use('fivethirtyeight')"
      ],
      "metadata": {
        "id": "vTo1Vbp7lTH8"
      },
      "execution_count": null,
      "outputs": []
    },
    {
      "cell_type": "markdown",
      "source": [
        "In this lab assignment, we will use the United Airlines flight delay dataset as an example to learn about variability.\n",
        "\n",
        "Let's first load the dataset."
      ],
      "metadata": {
        "id": "D-JQEdnDlmuq"
      }
    },
    {
      "cell_type": "code",
      "source": [
        "flights = Table.read_table('united_summer2015.csv')\n",
        "flights"
      ],
      "metadata": {
        "id": "ZEN3nkr3k6Cq"
      },
      "execution_count": null,
      "outputs": []
    },
    {
      "cell_type": "markdown",
      "source": [
        "# Part 1: Mean, Variance, Standard Deviation\n",
        "\n",
        "The table `flights` contains a column named `Delay`, which consists of the departure delay times, in minutes, of over thousands of United Airlines flights in the summer of 2015."
      ],
      "metadata": {
        "id": "xEPHjUASqbWv"
      }
    },
    {
      "cell_type": "markdown",
      "source": [
        "### Problem 1A: Mean (0.1 points)\n",
        "\n",
        "Calculate the mean value of all departure delay times, and store the value in a variable `mean_delay`.\n",
        "\n",
        "*Hint*: The mean value is around 16.66.\n"
      ],
      "metadata": {
        "id": "CLKIOxUKqMEE"
      }
    },
    {
      "cell_type": "code",
      "source": [
        "# write your solution to Problem 1A in this code cell"
      ],
      "metadata": {
        "id": "LcXhuhVDoaiK"
      },
      "execution_count": null,
      "outputs": []
    },
    {
      "cell_type": "markdown",
      "source": [
        "### Problem 1B: Variance and Standard Deviation (0.2 points)\n",
        "\n",
        "First, calculate the variance of all departure delay times.\n",
        "\n",
        "*Hint:* Recall that variance is the average squared deviation from the mean (see Lecture 6 notes for definition of variance), so to calculate the variance, you can follow the steps below:\n",
        "* extract the column `Delay` from the `flights` table,\n",
        "* calculate every flight's deviation from `mean_delay` and store the resulting array in variable `deviations`,\n",
        "* use `np.square` to calculate the squared deviations,\n",
        "* calculate the mean of all squared deviations and store the result in variable `variance`.\n",
        "\n",
        "Second, calculate the standard deviation of all delay times. \n",
        "\n",
        "*Hint:* Recall that standard deviation is the positive square root of  variance. You can calculate standard deviation by taking the square root of variable `variance`. Another way of calculating standard deviation is by directly using the function `np.std` with all the delay times as the input argument. To verify your code, you can calculate standard deviation using both ways and then check whether you get the same answer (which should be around 39.48).\n",
        "\n",
        "\n",
        "\n",
        "\n",
        "\n"
      ],
      "metadata": {
        "id": "rTUDDLNnvTxf"
      }
    },
    {
      "cell_type": "code",
      "source": [
        "# write your solution to Problem 1B in this code cell"
      ],
      "metadata": {
        "id": "Y3wT6IZ2xN0W"
      },
      "execution_count": null,
      "outputs": []
    },
    {
      "cell_type": "markdown",
      "source": [
        "# Part 2: Chebychev’s Bounds, Standard Units\n",
        "\n",
        "The Russian mathematician Pafnuty Chebychev (1821-1894) proved a result, called **Chebychev’s inequality**, which states the following:\n",
        "\n",
        "*For all lists, and all numbers $z$, the proportion of entries in the list that are in the range of $[\\mu - z \\cdot \\sigma, \\mu + z \\cdot \\sigma]$ is at least $1-\\frac{1}{z^2}$.*\n",
        "\n",
        "Note that Chebychev’s result gives a lower bound, not an exact answer or an approximation. $\\mu$ is the mean, and $\\sigma$ is the standard deviation of the list."
      ],
      "metadata": {
        "id": "S7cemNXyCRhI"
      }
    },
    {
      "cell_type": "markdown",
      "source": [
        "### Problem 2A: Calculation of Chebychev’s Bounds (0.3 points)\n",
        "\n",
        "Calculate Chebychev’s bounds for the proportion of flight delay times that are in the range of $[\\mu - z \\cdot \\sigma, \\mu + z \\cdot \\sigma]$ for the following $z$ values:\n",
        "\n",
        "*  $z=1$\n",
        "*  $z=4$\n",
        "*  $z=5$\n",
        "\n",
        "*Hint*: For instance, as shown in the lecture notes, when $z=2$, Chebychev's result states that the proportion of values in the range of  $[\\mu - 2 \\sigma, \\mu + 2 \\sigma]$ is at least $1 - \\frac{1}{2^2} = 0.75$."
      ],
      "metadata": {
        "id": "f0AnODZbE4Tq"
      }
    },
    {
      "cell_type": "markdown",
      "source": [
        "**Answer to Problem 2A**: \n",
        "(Please write your answer to Problem 2A here. You can either write the answer as text in this text cell, or write Python code in a new code cell to print out your answer.)\n"
      ],
      "metadata": {
        "id": "RhxwzzoeG0eo"
      }
    },
    {
      "cell_type": "markdown",
      "source": [
        "In the calculation above, the quantity $z$ measures *standard units*, the number of standard deviations from the mean. \n",
        "\n",
        "To convert a value to standard units, first calculate how far it is from the mean, and then divide this deviation with the standard deviation:\n",
        "\n",
        "$z = \\frac{\\text{value} - \\mu}{\\sigma}$\n",
        "\n",
        "where $\\mu$ is the mean and $\\sigma$ is standard deviation."
      ],
      "metadata": {
        "id": "dq1TRUFLHETW"
      }
    },
    {
      "cell_type": "markdown",
      "source": [
        "### Problem 2B: Function for Calculating Standard Units (0.3 points)\n",
        "\n",
        "* Write a function that converts a value (or an array of values) to standard units, given the value, the mean, and the standard deviation.\n",
        "\n",
        "* Use this function to convert all flight delay times to standard units and then add a column `Delay (Standard Units)` to the table `flights`.\n",
        "\n",
        "*Hint:* Your table should look like [this](https://drive.google.com/file/d/1lwcXY4KDEaazbd8VNakqEdPZL9hyNzGZ/view?usp=sharing)."
      ],
      "metadata": {
        "id": "imZ17tmJH0pX"
      }
    },
    {
      "cell_type": "code",
      "source": [
        "# write your solution to Problem 2B in this code cell"
      ],
      "metadata": {
        "id": "5Y2H29U_Gh-1"
      },
      "execution_count": null,
      "outputs": []
    },
    {
      "cell_type": "markdown",
      "source": [
        "### Problem 2C: Standard Units in the Population (0.2 points)\n",
        "\n",
        "Write code that calculates the fraction of flights that are within the range $[\\mu - 2 \\sigma, \\mu + 2 \\sigma]$ **using the column `Delay (Standard Units)`.**\n",
        "\n",
        "*Hint:* The fraction is around 95.6%.\n",
        "\n"
      ],
      "metadata": {
        "id": "kpIgz8fgOmfn"
      }
    },
    {
      "cell_type": "code",
      "source": [
        "# write your solution to Problem 2C in this code cell"
      ],
      "metadata": {
        "id": "P0cCoPTGiFdz"
      },
      "execution_count": null,
      "outputs": []
    },
    {
      "cell_type": "markdown",
      "source": [
        "# Part 3: Empirical Distribution and Variability of Sample Means\n",
        "\n",
        "The Central Limit Theorem states the following:\n",
        "\n",
        "*The distribution of the mean of large random samples drawn with replacement will be roughly normal, regardless of the distribution of the population.*\n",
        "\n",
        "Next, let's use the flight delay example to examine the theorem in action. \n"
      ],
      "metadata": {
        "id": "xwS2-TMsJ8sL"
      }
    },
    {
      "cell_type": "markdown",
      "source": [
        "We'll treat all flight delay times as the population. Let's draw a histogram of the population to look at its distribution."
      ],
      "metadata": {
        "id": "9sQs-NsWKqB0"
      }
    },
    {
      "cell_type": "code",
      "source": [
        "flights.hist('Delay', bins=50)"
      ],
      "metadata": {
        "id": "NGDKt5hQK-vw"
      },
      "execution_count": null,
      "outputs": []
    },
    {
      "cell_type": "markdown",
      "source": [
        "We can draw a large sample of size 2000 from the population, and look at the mean delay in the sample:\n",
        "\n"
      ],
      "metadata": {
        "id": "W5N4T17NLxBl"
      }
    },
    {
      "cell_type": "code",
      "source": [
        "sample_2000 = flights.sample(2000)\n",
        "sample_mean = np.mean(sample_2000.column('Delay'))\n",
        "sample_mean"
      ],
      "metadata": {
        "id": "fIZZqTO7L5H9"
      },
      "execution_count": null,
      "outputs": []
    },
    {
      "cell_type": "markdown",
      "source": [
        "Run the code cell above several times, and compare the sample mean with the population mean (~16.658) that you calculated in Problem 1A. "
      ],
      "metadata": {
        "id": "Iboc4ry8MuNt"
      }
    },
    {
      "cell_type": "markdown",
      "source": [
        "### Problem 3A: Empirical Distribution of the Sample Means (0.3 points)\n",
        "\n",
        "* Write a `for` loop that draws 2000 samples from the population, with each sample having a size of 1000. That is, each sample should contain 1000 flight delay times randomly drawn with replacement from all flight delay times.\n",
        "\n",
        "* Calculate and record the mean delay for each one of the 2000 samples.\n",
        "\n",
        "* Draw a histogram to show the distribution of the sample mean delay times. \n",
        "\n",
        "*Hint:* Your histogram should look similar to [this](https://drive.google.com/file/d/1s2j9hGC6beDgcb_h4Za2KDdMJDufdf7Y/view?usp=sharing).\n"
      ],
      "metadata": {
        "id": "5kw2EMEoNEF8"
      }
    },
    {
      "cell_type": "code",
      "source": [
        "# write your solution to Problem 3A in this code cell"
      ],
      "metadata": {
        "id": "Xk-9klXPP7hD"
      },
      "execution_count": null,
      "outputs": []
    },
    {
      "cell_type": "markdown",
      "source": [
        "### Problem 3B: Sample Size vs. Variability of the Sample Mean (0.6 points)\n",
        "\n",
        "As we learned in class, the larger the sample size, the smaller the standard deviation of sample means. \n",
        "\n",
        "* Write code to calculate the standard deviation of sample means, with sample sizes of 400, 900, 1600. \n",
        "\n",
        "* Verify whether the calculated standard deviations **roughly** follow the sample mean variability rule below:\n",
        "\n",
        "std. dev. of sample means = std. dev. of population / $\\sqrt{\\text{sample size}}$\n"
      ],
      "metadata": {
        "id": "lkvwl0B3Sjq1"
      }
    },
    {
      "cell_type": "code",
      "source": [
        "# Write your solution to Problem 3B in this cell. \n",
        "# Note that you can also add a new text cell to explain your answer about verifying the sample mean variability rule.\n"
      ],
      "metadata": {
        "id": "8DUIwnSMi2d2"
      },
      "execution_count": null,
      "outputs": []
    }
  ]
}